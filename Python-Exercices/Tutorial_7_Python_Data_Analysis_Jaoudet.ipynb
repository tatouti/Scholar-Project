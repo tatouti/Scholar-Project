{
 "cells": [
  {
   "cell_type": "markdown",
   "metadata": {},
   "source": [
    "# Tutorial 7- Python for Data Analysis\n",
    "---\n",
    "## Selenium"
   ]
  },
  {
   "cell_type": "markdown",
   "metadata": {},
   "source": [
    "  - [Part 1](#exercise-1) : Installation\n",
    "  - [Part 2](#exercise-2) : LinkedIn Login & Profile\n",
    "  - [Part 3](#exercise-3) : LinkedIn Relations\n",
    "  - [Bonus](#exercise-bonus) : Portail\n"
   ]
  },
  {
   "cell_type": "markdown",
   "metadata": {},
   "source": [
    "<a name=\"exercise-1\">\n",
    "\n",
    "### Part 1 : Installation\n",
    "---"
   ]
  },
  {
   "cell_type": "code",
   "execution_count": 35,
   "metadata": {},
   "outputs": [],
   "source": [
    "#!pip install selenium"
   ]
  },
  {
   "cell_type": "code",
   "execution_count": 36,
   "metadata": {},
   "outputs": [],
   "source": [
    "#!pip install lxml"
   ]
  },
  {
   "cell_type": "code",
   "execution_count": 37,
   "metadata": {},
   "outputs": [],
   "source": [
    "#!pip install beautifulsoup4"
   ]
  },
  {
   "cell_type": "code",
   "execution_count": 38,
   "metadata": {},
   "outputs": [],
   "source": [
    "from selenium import webdriver\n",
    "from selenium.webdriver.common.by import By\n",
    "from selenium.webdriver.common.keys import Keys\n",
    "import time"
   ]
  },
  {
   "cell_type": "markdown",
   "metadata": {},
   "source": [
    "Create your first driver !\n",
    "\n",
    "Install the browser driver depending on your browser version : https://www.selenium.dev/documentation/webdriver/getting_started/install_drivers/\n",
    "\n",
    "Place the exe file in the directory of your jupyterlab directory.\n",
    "For the latest documentation on selenium : https://www.selenium.dev/documentation/overview/"
   ]
  },
  {
   "cell_type": "code",
   "execution_count": 39,
   "metadata": {},
   "outputs": [],
   "source": [
    "driver = webdriver.Chrome()\n",
    "driver.get(\"https://www.google.com\")"
   ]
  },
  {
   "cell_type": "code",
   "execution_count": 40,
   "metadata": {},
   "outputs": [],
   "source": [
    "driver.quit()"
   ]
  },
  {
   "cell_type": "markdown",
   "metadata": {},
   "source": [
    "<a name=\"exercise-2\">\n",
    "\n",
    "### Part 2 : LinkedIn Login\n",
    "---"
   ]
  },
  {
   "cell_type": "markdown",
   "metadata": {},
   "source": [
    "1) Find the elements corresponding to the login field and fill them by inspecting the linkedin page"
   ]
  },
  {
   "cell_type": "code",
   "execution_count": 41,
   "metadata": {},
   "outputs": [],
   "source": [
    "import getpass"
   ]
  },
  {
   "cell_type": "code",
   "execution_count": 42,
   "metadata": {},
   "outputs": [],
   "source": [
    "driver = webdriver.Chrome(\"chromedriver\")\n",
    "driver.maximize_window()\n",
    "driver.get(\"https://www.linkedin.com/login/\")"
   ]
  },
  {
   "cell_type": "markdown",
   "metadata": {},
   "source": [
    "2) Find two ways of login in : with submit button and keys."
   ]
  },
  {
   "cell_type": "code",
   "execution_count": 43,
   "metadata": {},
   "outputs": [
    {
     "name": "stdout",
     "output_type": "stream",
     "text": [
      "········\n"
     ]
    }
   ],
   "source": [
    "password = getpass.getpass()"
   ]
  },
  {
   "cell_type": "code",
   "execution_count": 44,
   "metadata": {},
   "outputs": [],
   "source": [
    "time.sleep(1)\n",
    "driver.find_element('id',\"username\").send_keys(\"theojaoudet@live.fr\")\n",
    "driver.find_element('id',\"password\").send_keys(password)\n",
    "driver.find_element('xpath',\"//*[@id=\\\"organic-div\\\"]/form/div[3]/button\").click()"
   ]
  },
  {
   "cell_type": "markdown",
   "metadata": {},
   "source": [
    "3) Find the button to go on your profile page and automate the action of clicking."
   ]
  },
  {
   "cell_type": "code",
   "execution_count": 45,
   "metadata": {},
   "outputs": [],
   "source": [
    "time.sleep(1)\n",
    "driver.find_element('link text',\"Théo Jaoudet\").click()"
   ]
  },
  {
   "cell_type": "markdown",
   "metadata": {},
   "source": [
    "4) Use a script to scroll the page to the bottom to browse all objects (execute_script function)"
   ]
  },
  {
   "cell_type": "code",
   "execution_count": 46,
   "metadata": {},
   "outputs": [],
   "source": [
    "time.sleep(1)\n",
    "driver.execute_script(\"window.scrollTo(0, 1400);\")\n",
    "time.sleep(1)"
   ]
  },
  {
   "cell_type": "markdown",
   "metadata": {},
   "source": [
    "5) Use beautifulsoup and process the HTML of the previous scrolled page"
   ]
  },
  {
   "cell_type": "code",
   "execution_count": 47,
   "metadata": {},
   "outputs": [],
   "source": [
    "from bs4 import BeautifulSoup\n",
    "page_source = driver.page_source\n",
    "soup = BeautifulSoup(page_source, 'lxml')"
   ]
  },
  {
   "cell_type": "markdown",
   "metadata": {},
   "source": [
    "6.1) Extract under the variable name \"section\" the HTML part of the page corresponding to your experiences using the section ID"
   ]
  },
  {
   "cell_type": "code",
   "execution_count": 48,
   "metadata": {},
   "outputs": [],
   "source": [
    "section = soup.find_all('li',class_=\"artdeco-list__item pvs-list__item--line-separated pvs-list__item--one-column\")\n",
    "\n",
    "section = section[3:8]\n",
    "#print(section)"
   ]
  },
  {
   "cell_type": "markdown",
   "metadata": {},
   "source": [
    "6.2) As you can see, if you refresh the page the section ID changes, what can you do to always find it back ? Create a function to solve this question."
   ]
  },
  {
   "cell_type": "code",
   "execution_count": 49,
   "metadata": {},
   "outputs": [],
   "source": [
    "import numpy as np"
   ]
  },
  {
   "cell_type": "markdown",
   "metadata": {},
   "source": [
    "7) From this extract part, extract separately experiences and from experiences : companies, period of time, description... using find_all (you might have doubled data but we will filter it after)"
   ]
  },
  {
   "cell_type": "code",
   "execution_count": 50,
   "metadata": {},
   "outputs": [
    {
     "name": "stdout",
     "output_type": "stream",
     "text": [
      "Expérience :  1\n",
      "Chef de projet\n",
      "DeVinci Junior\n",
      "Paris, Île-de-France, France\n",
      "sept. 2022 - aujourd’hui · 3 mois\n",
      "\n",
      "Expérience :  2\n",
      "Assistant pour mise en service d'un CRM\n",
      "GRTgaz · Intérimaire\n",
      "Bois-Colombes\n",
      "juil. 2022 · 1 mois\n",
      "\n",
      "Expérience :  3\n",
      "Stage ouvrier\n",
      "Ferme du Pavillon · Stage\n",
      "Moulins-Engilbert, Bourgogne-Franche-Comté, France\n",
      "juin 2021 · 1 mois\n",
      "\n",
      "Expérience :  4\n",
      "Appui Projet/Ordonnancement\n",
      "Horisis Conseil · Stage\n",
      "Paris, Île-de-France, France\n",
      "juin 2020 - août 2020 · 3 mois\n",
      "\n",
      "Expérience :  5\n",
      "Stagiaire de service RH\n",
      "Horisis Conseil · Stage\n",
      "Paris, Île-de-France, France\n",
      "juil. 2017 · 1 mois\n",
      "\n"
     ]
    }
   ],
   "source": [
    "listeXp = []\n",
    "nbXp = 1\n",
    "listePoste =[]\n",
    "listeEntreprise = []\n",
    "listeLieu =[]\n",
    "listeDates =[]\n",
    "for i in section:\n",
    "    poste = i.find_all('span',class_='mr1 t-bold')[0].text\n",
    "    poste = poste[:int(len(poste)/2)].strip('\\n')\n",
    "    listePoste.append(poste)\n",
    "    \n",
    "    entreprise = i.find_all('span',class_='t-14 t-normal')[0].text\n",
    "    entreprise = entreprise[:int(len(entreprise)/2)].strip('\\n')\n",
    "    listeEntreprise.append(entreprise)\n",
    "    \n",
    "    autre = i.find_all('span',class_='t-14 t-normal t-black--light')\n",
    "    listeAutre = []\n",
    "    for j in range(1,len(autre)+1):\n",
    "        temp = autre[-j].text.strip()\n",
    "        temp = temp[:int(len(temp)/2)]\n",
    "        listeAutre.append(temp)\n",
    "    listeLieu.append(listeAutre[0])\n",
    "    listeDates.append(listeAutre[1])\n",
    "    \n",
    "    print(\"Expérience : \",nbXp)\n",
    "    print(poste)\n",
    "    print(entreprise)\n",
    "    for p in listeAutre:\n",
    "        print(p)\n",
    "    print()\n",
    "    nbXp+=1"
   ]
  },
  {
   "cell_type": "markdown",
   "metadata": {},
   "source": [
    "8) Create a dataframe named my_linkedin_data and insert all that data inside of it."
   ]
  },
  {
   "cell_type": "code",
   "execution_count": 51,
   "metadata": {},
   "outputs": [],
   "source": [
    "indexXp =[]\n",
    "for i in range(1,nbXp):\n",
    "    indexXp.append(f\"Expérience {i}\")"
   ]
  },
  {
   "cell_type": "code",
   "execution_count": 52,
   "metadata": {},
   "outputs": [
    {
     "data": {
      "text/html": [
       "<div>\n",
       "<style scoped>\n",
       "    .dataframe tbody tr th:only-of-type {\n",
       "        vertical-align: middle;\n",
       "    }\n",
       "\n",
       "    .dataframe tbody tr th {\n",
       "        vertical-align: top;\n",
       "    }\n",
       "\n",
       "    .dataframe thead th {\n",
       "        text-align: right;\n",
       "    }\n",
       "</style>\n",
       "<table border=\"1\" class=\"dataframe\">\n",
       "  <thead>\n",
       "    <tr style=\"text-align: right;\">\n",
       "      <th></th>\n",
       "      <th>Titre poste</th>\n",
       "      <th>Entreprise</th>\n",
       "      <th>Dates</th>\n",
       "      <th>Lieu</th>\n",
       "    </tr>\n",
       "  </thead>\n",
       "  <tbody>\n",
       "    <tr>\n",
       "      <th>Expérience 1</th>\n",
       "      <td>Chef de projet</td>\n",
       "      <td>DeVinci Junior</td>\n",
       "      <td>sept. 2022 - aujourd’hui · 3 mois</td>\n",
       "      <td>Paris, Île-de-France, France</td>\n",
       "    </tr>\n",
       "    <tr>\n",
       "      <th>Expérience 2</th>\n",
       "      <td>Assistant pour mise en service d'un CRM</td>\n",
       "      <td>GRTgaz · Intérimaire</td>\n",
       "      <td>juil. 2022 · 1 mois</td>\n",
       "      <td>Bois-Colombes</td>\n",
       "    </tr>\n",
       "    <tr>\n",
       "      <th>Expérience 3</th>\n",
       "      <td>Stage ouvrier</td>\n",
       "      <td>Ferme du Pavillon · Stage</td>\n",
       "      <td>juin 2021 · 1 mois</td>\n",
       "      <td>Moulins-Engilbert, Bourgogne-Franche-Comté, Fr...</td>\n",
       "    </tr>\n",
       "    <tr>\n",
       "      <th>Expérience 4</th>\n",
       "      <td>Appui Projet/Ordonnancement</td>\n",
       "      <td>Horisis Conseil · Stage</td>\n",
       "      <td>juin 2020 - août 2020 · 3 mois</td>\n",
       "      <td>Paris, Île-de-France, France</td>\n",
       "    </tr>\n",
       "    <tr>\n",
       "      <th>Expérience 5</th>\n",
       "      <td>Stagiaire de service RH</td>\n",
       "      <td>Horisis Conseil · Stage</td>\n",
       "      <td>juil. 2017 · 1 mois</td>\n",
       "      <td>Paris, Île-de-France, France</td>\n",
       "    </tr>\n",
       "  </tbody>\n",
       "</table>\n",
       "</div>"
      ],
      "text/plain": [
       "                                          Titre poste  \\\n",
       "Expérience 1                           Chef de projet   \n",
       "Expérience 2  Assistant pour mise en service d'un CRM   \n",
       "Expérience 3                            Stage ouvrier   \n",
       "Expérience 4              Appui Projet/Ordonnancement   \n",
       "Expérience 5                  Stagiaire de service RH   \n",
       "\n",
       "                             Entreprise                              Dates  \\\n",
       "Expérience 1             DeVinci Junior  sept. 2022 - aujourd’hui · 3 mois   \n",
       "Expérience 2       GRTgaz · Intérimaire                juil. 2022 · 1 mois   \n",
       "Expérience 3  Ferme du Pavillon · Stage                 juin 2021 · 1 mois   \n",
       "Expérience 4    Horisis Conseil · Stage     juin 2020 - août 2020 · 3 mois   \n",
       "Expérience 5    Horisis Conseil · Stage                juil. 2017 · 1 mois   \n",
       "\n",
       "                                                           Lieu  \n",
       "Expérience 1                       Paris, Île-de-France, France  \n",
       "Expérience 2                                      Bois-Colombes  \n",
       "Expérience 3  Moulins-Engilbert, Bourgogne-Franche-Comté, Fr...  \n",
       "Expérience 4                       Paris, Île-de-France, France  \n",
       "Expérience 5                       Paris, Île-de-France, France  "
      ]
     },
     "execution_count": 52,
     "metadata": {},
     "output_type": "execute_result"
    }
   ],
   "source": [
    "import pandas as pd\n",
    "\n",
    "my_linkedin_data = pd.DataFrame(list(zip(listePoste,listeEntreprise,listeDates,listeLieu)),columns=['Titre poste','Entreprise','Dates','Lieu'],\n",
    "                  index=indexXp)\n",
    "my_linkedin_data"
   ]
  },
  {
   "cell_type": "code",
   "execution_count": 53,
   "metadata": {},
   "outputs": [],
   "source": [
    "def getTypeT(x):\n",
    "    x = x.split('·')\n",
    "    if(len(x)==1):\n",
    "        x = \"Type absent\"\n",
    "    else:\n",
    "        x= x[len(x)-1].strip()\n",
    "    typeC=x\n",
    "    return typeC\n",
    "def getTypeE(x):\n",
    "    x = x.split('·')\n",
    "    x= x[0].strip()\n",
    "    typeC=x\n",
    "    return typeC\n",
    "def getLengthD(x):\n",
    "    x = x.split('·')\n",
    "    x= x[1].strip()\n",
    "    typeC=x\n",
    "    return typeC\n",
    "def getLengthDate(x):\n",
    "    x = x.split('·')\n",
    "    x= x[0].strip()\n",
    "    typeC=x\n",
    "    return typeC"
   ]
  },
  {
   "cell_type": "code",
   "execution_count": 54,
   "metadata": {},
   "outputs": [
    {
     "data": {
      "text/html": [
       "<div>\n",
       "<style scoped>\n",
       "    .dataframe tbody tr th:only-of-type {\n",
       "        vertical-align: middle;\n",
       "    }\n",
       "\n",
       "    .dataframe tbody tr th {\n",
       "        vertical-align: top;\n",
       "    }\n",
       "\n",
       "    .dataframe thead th {\n",
       "        text-align: right;\n",
       "    }\n",
       "</style>\n",
       "<table border=\"1\" class=\"dataframe\">\n",
       "  <thead>\n",
       "    <tr style=\"text-align: right;\">\n",
       "      <th></th>\n",
       "      <th>Titre poste</th>\n",
       "      <th>Entreprise</th>\n",
       "      <th>Type contrat</th>\n",
       "      <th>Dates</th>\n",
       "      <th>Durée</th>\n",
       "      <th>Lieu</th>\n",
       "    </tr>\n",
       "  </thead>\n",
       "  <tbody>\n",
       "    <tr>\n",
       "      <th>Expérience 1</th>\n",
       "      <td>Chef de projet</td>\n",
       "      <td>DeVinci Junior</td>\n",
       "      <td>Type absent</td>\n",
       "      <td>sept. 2022 - aujourd’hui</td>\n",
       "      <td>3 mois</td>\n",
       "      <td>Paris, Île-de-France, France</td>\n",
       "    </tr>\n",
       "    <tr>\n",
       "      <th>Expérience 2</th>\n",
       "      <td>Assistant pour mise en service d'un CRM</td>\n",
       "      <td>GRTgaz</td>\n",
       "      <td>Intérimaire</td>\n",
       "      <td>juil. 2022</td>\n",
       "      <td>1 mois</td>\n",
       "      <td>Bois-Colombes</td>\n",
       "    </tr>\n",
       "    <tr>\n",
       "      <th>Expérience 3</th>\n",
       "      <td>Stage ouvrier</td>\n",
       "      <td>Ferme du Pavillon</td>\n",
       "      <td>Stage</td>\n",
       "      <td>juin 2021</td>\n",
       "      <td>1 mois</td>\n",
       "      <td>Moulins-Engilbert, Bourgogne-Franche-Comté, Fr...</td>\n",
       "    </tr>\n",
       "    <tr>\n",
       "      <th>Expérience 4</th>\n",
       "      <td>Appui Projet/Ordonnancement</td>\n",
       "      <td>Horisis Conseil</td>\n",
       "      <td>Stage</td>\n",
       "      <td>juin 2020 - août 2020</td>\n",
       "      <td>3 mois</td>\n",
       "      <td>Paris, Île-de-France, France</td>\n",
       "    </tr>\n",
       "    <tr>\n",
       "      <th>Expérience 5</th>\n",
       "      <td>Stagiaire de service RH</td>\n",
       "      <td>Horisis Conseil</td>\n",
       "      <td>Stage</td>\n",
       "      <td>juil. 2017</td>\n",
       "      <td>1 mois</td>\n",
       "      <td>Paris, Île-de-France, France</td>\n",
       "    </tr>\n",
       "  </tbody>\n",
       "</table>\n",
       "</div>"
      ],
      "text/plain": [
       "                                          Titre poste         Entreprise  \\\n",
       "Expérience 1                           Chef de projet     DeVinci Junior   \n",
       "Expérience 2  Assistant pour mise en service d'un CRM             GRTgaz   \n",
       "Expérience 3                            Stage ouvrier  Ferme du Pavillon   \n",
       "Expérience 4              Appui Projet/Ordonnancement    Horisis Conseil   \n",
       "Expérience 5                  Stagiaire de service RH    Horisis Conseil   \n",
       "\n",
       "             Type contrat                     Dates   Durée  \\\n",
       "Expérience 1  Type absent  sept. 2022 - aujourd’hui  3 mois   \n",
       "Expérience 2  Intérimaire                juil. 2022  1 mois   \n",
       "Expérience 3        Stage                 juin 2021  1 mois   \n",
       "Expérience 4        Stage     juin 2020 - août 2020  3 mois   \n",
       "Expérience 5        Stage                juil. 2017  1 mois   \n",
       "\n",
       "                                                           Lieu  \n",
       "Expérience 1                       Paris, Île-de-France, France  \n",
       "Expérience 2                                      Bois-Colombes  \n",
       "Expérience 3  Moulins-Engilbert, Bourgogne-Franche-Comté, Fr...  \n",
       "Expérience 4                       Paris, Île-de-France, France  \n",
       "Expérience 5                       Paris, Île-de-France, France  "
      ]
     },
     "execution_count": 54,
     "metadata": {},
     "output_type": "execute_result"
    }
   ],
   "source": [
    "my_linkedin_data.insert(2,'Type contrat',my_linkedin_data['Entreprise'].map(getTypeT))\n",
    "my_linkedin_data['Entreprise'] = my_linkedin_data['Entreprise'].map(getTypeE)\n",
    "\n",
    "my_linkedin_data.insert(4,'Durée',my_linkedin_data['Dates'].map(getLengthD))\n",
    "my_linkedin_data['Dates'] = my_linkedin_data['Dates'].map(getLengthDate)\n",
    "\n",
    "my_linkedin_data"
   ]
  },
  {
   "cell_type": "code",
   "execution_count": 55,
   "metadata": {},
   "outputs": [
    {
     "data": {
      "text/plain": [
       "<AxesSubplot:title={'center':'Durée des emplois'}, xlabel='Durée'>"
      ]
     },
     "execution_count": 55,
     "metadata": {},
     "output_type": "execute_result"
    },
    {
     "data": {
      "image/png": "[encoded data removed]",
      "text/plain": [
       "<Figure size 432x288 with 1 Axes>"
      ]
     },
     "metadata": {
      "needs_background": "light"
     },
     "output_type": "display_data"
    }
   ],
   "source": [
    "a = my_linkedin_data.groupby('Durée').count()\n",
    "a['Entreprise'].plot(kind='bar',title='Durée des emplois')"
   ]
  },
  {
   "cell_type": "markdown",
   "metadata": {},
   "source": [
    "<a name=\"exercise-3\">\n",
    "\n",
    "### Part 3 : LinkedIn Relations\n",
    "---"
   ]
  },
  {
   "cell_type": "markdown",
   "metadata": {},
   "source": [
    "1) Click on the \"More relations\" button to open your list of relations"
   ]
  },
  {
   "cell_type": "code",
   "execution_count": 56,
   "metadata": {},
   "outputs": [],
   "source": [
    "time.sleep(1)\n",
    "driver.execute_script(\"window.scrollTo(0,0);\")\n",
    "time.sleep(1)\n",
    "driver.find_element('xpath',\"/html/body/div[6]/div[3]/div/div/div[2]/div/div/main/section[1]/div[2]/ul/li/a\").click()"
   ]
  },
  {
   "cell_type": "code",
   "execution_count": 57,
   "metadata": {},
   "outputs": [],
   "source": [
    "page_source = driver.page_source\n",
    "soup = BeautifulSoup(page_source, 'lxml')\n",
    "time.sleep(1)"
   ]
  },
  {
   "cell_type": "code",
   "execution_count": 58,
   "metadata": {},
   "outputs": [],
   "source": [
    "time.sleep(1)\n",
    "driver.find_element(\"xpath\",\"//*[@id=\\\"global-nav\\\"]/div/nav/ul/li[2]/a\").click()\n",
    "time.sleep(2)\n",
    "driver.find_element(\"xpath\",\"/html/body/div[6]/div[3]/div/div/div/div/div[2]/div/div/div/div/div/div/section[1]/div/div[1]\").click()\n",
    "time.sleep(6)"
   ]
  },
  {
   "cell_type": "code",
   "execution_count": 59,
   "metadata": {},
   "outputs": [],
   "source": [
    "from bs4 import BeautifulSoup\n",
    "page_source = driver.page_source\n",
    "soup = BeautifulSoup(page_source, 'lxml')\n",
    "time.sleep(1)"
   ]
  },
  {
   "cell_type": "markdown",
   "metadata": {},
   "source": [
    "2) Extract the names and the jobs of your relations on the page."
   ]
  },
  {
   "cell_type": "code",
   "execution_count": 60,
   "metadata": {},
   "outputs": [
    {
     "name": "stdout",
     "output_type": "stream",
     "text": [
      "Relation :  1\n",
      "Tristan Beguet\n",
      "Chargé d’affaires chez DeVinci Junior ! Etudiant A1-EMLV en International Track (cherche un stage 2 mois, mai 2023)\n",
      "\n",
      "Relation :  2\n",
      "Paul Sitbon\n",
      "Next Level low/no code ; Composable ERP ; Expert Solutions 20x faster ; Digital Transformation Platform ; CRM PIM eCommerce HRIS & Payroll\n",
      "\n",
      "Relation :  3\n",
      "Camille Fitoussi\n",
      "𝗖𝗼𝗮𝗰𝗵 𝗣𝗿𝗼𝗳𝗲𝘀𝘀𝗶𝗼𝗻𝗻𝗲𝗹 𝗖𝗲𝗿𝘁𝗶𝗳𝗶𝗲́𝗲 & 𝗣𝗿𝗮𝘁𝗶𝗰𝗶𝗲𝗻𝗻𝗲 𝗠𝗕𝗧𝗜®️ | Accompagnement de leaders et d'équipes multiculturelles qui changent le 🌎 du travail et de l'éducation\n",
      "\n",
      "Relation :  4\n",
      "Louis Bardoul\n",
      "@Philips Ingénieur commercial IA & informatique de santé.  Français & Américain bilingue. 4A Master M1 Vente @EMLV\n",
      "\n",
      "Relation :  5\n",
      "Gabriel Valentino\n",
      "Étudiant en M1 Cybersécurité et Cloud Computing\n",
      "\n",
      "Relation :  6\n",
      "Maé Benaroche\n",
      "Étudiante à ESILV - Ecole Supérieure d'Ingénieurs Léonard de Vinci\n",
      "\n",
      "Relation :  7\n",
      "Wilfried P. TONOU B.\n",
      "🎒Etudiant en 4e année à ESILV|🕵️‍♂️En recherche de Stage de 4 à 5 mois en Mécanique 3D Conception Simulation bureau d'étude | 🎓 futur ingénieur | Maintenancier industriel👨‍🔧|tuteur👨‍🏫|👨🏾‍🎨dessinateur\n",
      "\n",
      "Relation :  8\n",
      "Valentin Girold\n",
      "Student at ESILV - Ecole Supérieure d'Ingénieurs Léonard de Vinci\n",
      "\n",
      "Relation :  9\n",
      "Sanjay Singh\n",
      "System Architect\n",
      "\n",
      "Relation :  10\n",
      "Héléna Nguyen\n",
      "Étudiante en M1 Informatique, Objets Connectés et Sécurité à l'ESILV - Ecole Supérieure d'Ingénieurs Léonard de Vinci\n",
      "\n",
      "Relation :  11\n",
      "Nicolas Ferrara\n",
      "Chef de projet chez DeVinci Junior | M1 Ingénieur Data & Intelligence Artificielle\n",
      "\n",
      "Relation :  12\n",
      "Clément ROUSSE\n",
      "Étudiant en Master 1 Energies et Villes Durables à ESILV - Ecole Supérieure d'Ingénieurs Léonard de Vinci\n",
      "\n",
      "Relation :  13\n",
      "Flavio Évora\n",
      "Engineering student in Master 1 at ESILV Paris (Ecole Supérieure d'Ingénieurs Léonard de Vinci) in the Energy and Sustainable Cities major.\n",
      "\n",
      "Relation :  14\n",
      "Clarisse Sacre\n",
      "Etudiante Ingénieure en M1 Data & Intelligence Artificielle (ESILV) [double diplôme en Marketing (EMLV)]\n",
      "\n",
      "Relation :  15\n",
      "Victor MENU\n",
      "Étudiant en M1 Data et IA à l'ESILV | Double Diplôme Ingénieur-Manageur en Marketing et Négociations à l'EMLV\n",
      "\n",
      "Relation :  16\n",
      "Jenna Diab\n",
      "M2 Financial Mathematics at Université Paris 1 Panthéon-Sorbonne\n",
      "\n",
      "Relation :  17\n",
      "Emmeran DARRIBERE\n",
      "Étudiant en Master 1 d’Actuariat au sein de l'ESILV - Ecole Supérieure d'Ingénieurs Léonard de Vinci\n",
      "\n",
      "Relation :  18\n",
      "Quentin Rees\n",
      "Assistant chez Vinci Eco Drive\n",
      "\n",
      "Relation :  19\n",
      "Marc Salet\n",
      "Etudiant à l'ESILV - M2 industrie 4.0\n",
      "\n",
      "Relation :  20\n",
      "Pierre TARAYRE\n",
      "Facilitateur du collaboratif - formateur art oratoire & pitch - consultant (communauté @YA+K) # Intelligence collective, facilitation, RSE\n",
      "\n",
      "Relation :  21\n",
      "Hugo Dardill\n",
      "Étudiant(e) à ESILV - Ecole Supérieure d'Ingénieurs Léonard de Vinci\n",
      "\n",
      "Relation :  22\n",
      "Camille Zock à Zock\n",
      "Étudiant(e) à ESILV - Ecole Supérieure d'Ingénieurs Léonard de Vinci\n",
      "\n",
      "Relation :  23\n",
      "Hugo Yeremian\n",
      "Etudiant-Chercheur Ingénierie Financière | Vice-Président Vinci Investments\n",
      "\n",
      "Relation :  24\n",
      "Sacha Lamy\n",
      "Étudiant en 4ème année à ESILV - Ecole Supérieure d'Ingénieurs Léonard de Vinci | Majeure Industrie et Robotique\n",
      "\n",
      "Relation :  25\n",
      "David Ardia\n",
      "Associate Professor in Quantitative Methods for Finance at HEC Montréal\n",
      "\n",
      "Relation :  26\n",
      "Antoine Li\n",
      "Étudiant en dernière année d'école d'ingénieur à l'ESILV.\n",
      "\n",
      "Relation :  27\n",
      "Thomas CESAR\n",
      "Étudiant à UCSC Californie\n",
      "\n",
      "Relation :  28\n",
      "Théo PATARD\n",
      "Etudiant ESILV M1 INDUSTRIE & Robotique / EMLV Commerce & Management\n",
      "\n",
      "Relation :  29\n",
      "Taous Bedouhene\n",
      "Étudiante alternante chez AXA\n",
      "\n",
      "Relation :  30\n",
      "Aurélie Le Calvez\n",
      "Ingénieure en informatique chez Avanade. Membre des ambassadeurs Diversité & Inclusion mission Handicap.\n",
      "\n",
      "Relation :  31\n",
      "Alexandre Dubuc\n",
      "Étudiant à l'ESILV - M1 Modélisation Mécanique et Numérique\n",
      "\n",
      "Relation :  32\n",
      "Maël Tarridec\n",
      "Consultant Cyber Risk & Security\n",
      "\n",
      "Relation :  33\n",
      "Quentin Varenne\n",
      "Recrutement IT chez EI-Technologies\n",
      "\n",
      "Relation :  34\n",
      "Kamil Marut\n",
      "Apprenti Ingénieur informatique à RTE | Programmation, Cybersécurité |\n",
      "\n",
      "Relation :  35\n",
      "Alexandre Sayada\n",
      "M1 Engineering Degree (IOT, Embedded Systems & Security) at ESILV | M1 Management And Marketing Degree at EMLV\n",
      "\n",
      "Relation :  36\n",
      "Thomas Bullimore\n",
      "Student at ESILV - Ecole Supérieure d'Ingénieurs Léonard de Vinci\n",
      "\n",
      "Relation :  37\n",
      "Léon Espert\n",
      "Développeur web\n",
      "\n",
      "Relation :  38\n",
      "Lila Allanic\n",
      "Étudiant(e) à ESILV - Ecole Supérieure d'Ingénieurs Léonard de Vinci\n",
      "\n",
      "Relation :  39\n",
      "Samy Lacoste\n",
      "Étudiant à ESILV | M1 en Santé Biotechnologies\n",
      "\n",
      "Relation :  40\n",
      "Victor Chenal\n",
      "Étudiant(e) à ESILV - Ecole Supérieure d'Ingénieurs Léonard de Vinci\n",
      "\n"
     ]
    }
   ],
   "source": [
    "relations = soup.find_all('li',class_=\"mn-connection-card artdeco-list\")\n",
    "nbRelations = 1\n",
    "\n",
    "\n",
    "listeNom = []\n",
    "listePoste = []\n",
    "\n",
    "for i in relations:\n",
    "    nom = i.find_all('span',class_='mn-connection-card__name t-16 t-black t-bold')[-1].text\n",
    "    nom = nom.strip('\\n').strip()\n",
    "    listeNom.append(nom)\n",
    "    \n",
    "    poste = i.find_all('span',class_='mn-connection-card__occupation t-14 t-black--light t-normal')[-1].text\n",
    "    poste = poste.strip('\\n').strip()\n",
    "    listePoste.append(poste)\n",
    "    \n",
    "    print('Relation : ',nbRelations)\n",
    "    print(nom)\n",
    "    print(poste)\n",
    "    print()\n",
    "    nbRelations+=1"
   ]
  },
  {
   "cell_type": "code",
   "execution_count": 61,
   "metadata": {},
   "outputs": [],
   "source": [
    "indexXp =[]\n",
    "for i in range(1,nbRelations):\n",
    "    indexXp.append(f\"Relation {i}\")"
   ]
  },
  {
   "cell_type": "code",
   "execution_count": 62,
   "metadata": {},
   "outputs": [
    {
     "data": {
      "text/html": [
       "<div>\n",
       "<style scoped>\n",
       "    .dataframe tbody tr th:only-of-type {\n",
       "        vertical-align: middle;\n",
       "    }\n",
       "\n",
       "    .dataframe tbody tr th {\n",
       "        vertical-align: top;\n",
       "    }\n",
       "\n",
       "    .dataframe thead th {\n",
       "        text-align: right;\n",
       "    }\n",
       "</style>\n",
       "<table border=\"1\" class=\"dataframe\">\n",
       "  <thead>\n",
       "    <tr style=\"text-align: right;\">\n",
       "      <th></th>\n",
       "      <th>Nom</th>\n",
       "      <th>Statut actuel</th>\n",
       "    </tr>\n",
       "  </thead>\n",
       "  <tbody>\n",
       "    <tr>\n",
       "      <th>Relation 1</th>\n",
       "      <td>Tristan Beguet</td>\n",
       "      <td>Chargé d’affaires chez DeVinci Junior ! Etudia...</td>\n",
       "    </tr>\n",
       "    <tr>\n",
       "      <th>Relation 2</th>\n",
       "      <td>Paul Sitbon</td>\n",
       "      <td>Next Level low/no code ; Composable ERP ; Expe...</td>\n",
       "    </tr>\n",
       "    <tr>\n",
       "      <th>Relation 3</th>\n",
       "      <td>Camille Fitoussi</td>\n",
       "      <td>𝗖𝗼𝗮𝗰𝗵 𝗣𝗿𝗼𝗳𝗲𝘀𝘀𝗶𝗼𝗻𝗻𝗲𝗹 𝗖𝗲𝗿𝘁𝗶𝗳𝗶𝗲́𝗲 &amp; 𝗣𝗿𝗮𝘁𝗶𝗰𝗶𝗲𝗻𝗻𝗲 𝗠...</td>\n",
       "    </tr>\n",
       "    <tr>\n",
       "      <th>Relation 4</th>\n",
       "      <td>Louis Bardoul</td>\n",
       "      <td>@Philips Ingénieur commercial IA &amp; informatiqu...</td>\n",
       "    </tr>\n",
       "    <tr>\n",
       "      <th>Relation 5</th>\n",
       "      <td>Gabriel Valentino</td>\n",
       "      <td>Étudiant en M1 Cybersécurité et Cloud Computing</td>\n",
       "    </tr>\n",
       "    <tr>\n",
       "      <th>Relation 6</th>\n",
       "      <td>Maé Benaroche</td>\n",
       "      <td>Étudiante à ESILV - Ecole Supérieure d'Ingénie...</td>\n",
       "    </tr>\n",
       "    <tr>\n",
       "      <th>Relation 7</th>\n",
       "      <td>Wilfried P. TONOU B.</td>\n",
       "      <td>🎒Etudiant en 4e année à ESILV|🕵️‍♂️En recherch...</td>\n",
       "    </tr>\n",
       "    <tr>\n",
       "      <th>Relation 8</th>\n",
       "      <td>Valentin Girold</td>\n",
       "      <td>Student at ESILV - Ecole Supérieure d'Ingénieu...</td>\n",
       "    </tr>\n",
       "    <tr>\n",
       "      <th>Relation 9</th>\n",
       "      <td>Sanjay Singh</td>\n",
       "      <td>System Architect</td>\n",
       "    </tr>\n",
       "    <tr>\n",
       "      <th>Relation 10</th>\n",
       "      <td>Héléna Nguyen</td>\n",
       "      <td>Étudiante en M1 Informatique, Objets Connectés...</td>\n",
       "    </tr>\n",
       "    <tr>\n",
       "      <th>Relation 11</th>\n",
       "      <td>Nicolas Ferrara</td>\n",
       "      <td>Chef de projet chez DeVinci Junior | M1 Ingéni...</td>\n",
       "    </tr>\n",
       "    <tr>\n",
       "      <th>Relation 12</th>\n",
       "      <td>Clément ROUSSE</td>\n",
       "      <td>Étudiant en Master 1 Energies et Villes Durabl...</td>\n",
       "    </tr>\n",
       "    <tr>\n",
       "      <th>Relation 13</th>\n",
       "      <td>Flavio Évora</td>\n",
       "      <td>Engineering student in Master 1 at ESILV Paris...</td>\n",
       "    </tr>\n",
       "    <tr>\n",
       "      <th>Relation 14</th>\n",
       "      <td>Clarisse Sacre</td>\n",
       "      <td>Etudiante Ingénieure en M1 Data &amp; Intelligence...</td>\n",
       "    </tr>\n",
       "    <tr>\n",
       "      <th>Relation 15</th>\n",
       "      <td>Victor MENU</td>\n",
       "      <td>Étudiant en M1 Data et IA à l'ESILV | Double D...</td>\n",
       "    </tr>\n",
       "    <tr>\n",
       "      <th>Relation 16</th>\n",
       "      <td>Jenna Diab</td>\n",
       "      <td>M2 Financial Mathematics at Université Paris 1...</td>\n",
       "    </tr>\n",
       "    <tr>\n",
       "      <th>Relation 17</th>\n",
       "      <td>Emmeran DARRIBERE</td>\n",
       "      <td>Étudiant en Master 1 d’Actuariat au sein de l'...</td>\n",
       "    </tr>\n",
       "    <tr>\n",
       "      <th>Relation 18</th>\n",
       "      <td>Quentin Rees</td>\n",
       "      <td>Assistant chez Vinci Eco Drive</td>\n",
       "    </tr>\n",
       "    <tr>\n",
       "      <th>Relation 19</th>\n",
       "      <td>Marc Salet</td>\n",
       "      <td>Etudiant à l'ESILV - M2 industrie 4.0</td>\n",
       "    </tr>\n",
       "    <tr>\n",
       "      <th>Relation 20</th>\n",
       "      <td>Pierre TARAYRE</td>\n",
       "      <td>Facilitateur du collaboratif - formateur art o...</td>\n",
       "    </tr>\n",
       "    <tr>\n",
       "      <th>Relation 21</th>\n",
       "      <td>Hugo Dardill</td>\n",
       "      <td>Étudiant(e) à ESILV - Ecole Supérieure d'Ingén...</td>\n",
       "    </tr>\n",
       "    <tr>\n",
       "      <th>Relation 22</th>\n",
       "      <td>Camille Zock à Zock</td>\n",
       "      <td>Étudiant(e) à ESILV - Ecole Supérieure d'Ingén...</td>\n",
       "    </tr>\n",
       "    <tr>\n",
       "      <th>Relation 23</th>\n",
       "      <td>Hugo Yeremian</td>\n",
       "      <td>Etudiant-Chercheur Ingénierie Financière | Vic...</td>\n",
       "    </tr>\n",
       "    <tr>\n",
       "      <th>Relation 24</th>\n",
       "      <td>Sacha Lamy</td>\n",
       "      <td>Étudiant en 4ème année à ESILV - Ecole Supérie...</td>\n",
       "    </tr>\n",
       "    <tr>\n",
       "      <th>Relation 25</th>\n",
       "      <td>David Ardia</td>\n",
       "      <td>Associate Professor in Quantitative Methods fo...</td>\n",
       "    </tr>\n",
       "    <tr>\n",
       "      <th>Relation 26</th>\n",
       "      <td>Antoine Li</td>\n",
       "      <td>Étudiant en dernière année d'école d'ingénieur...</td>\n",
       "    </tr>\n",
       "    <tr>\n",
       "      <th>Relation 27</th>\n",
       "      <td>Thomas CESAR</td>\n",
       "      <td>Étudiant à UCSC Californie</td>\n",
       "    </tr>\n",
       "    <tr>\n",
       "      <th>Relation 28</th>\n",
       "      <td>Théo PATARD</td>\n",
       "      <td>Etudiant ESILV M1 INDUSTRIE &amp; Robotique / EMLV...</td>\n",
       "    </tr>\n",
       "    <tr>\n",
       "      <th>Relation 29</th>\n",
       "      <td>Taous Bedouhene</td>\n",
       "      <td>Étudiante alternante chez AXA</td>\n",
       "    </tr>\n",
       "    <tr>\n",
       "      <th>Relation 30</th>\n",
       "      <td>Aurélie Le Calvez</td>\n",
       "      <td>Ingénieure en informatique chez Avanade. Membr...</td>\n",
       "    </tr>\n",
       "    <tr>\n",
       "      <th>Relation 31</th>\n",
       "      <td>Alexandre Dubuc</td>\n",
       "      <td>Étudiant à l'ESILV - M1 Modélisation Mécanique...</td>\n",
       "    </tr>\n",
       "    <tr>\n",
       "      <th>Relation 32</th>\n",
       "      <td>Maël Tarridec</td>\n",
       "      <td>Consultant Cyber Risk &amp; Security</td>\n",
       "    </tr>\n",
       "    <tr>\n",
       "      <th>Relation 33</th>\n",
       "      <td>Quentin Varenne</td>\n",
       "      <td>Recrutement IT chez EI-Technologies</td>\n",
       "    </tr>\n",
       "    <tr>\n",
       "      <th>Relation 34</th>\n",
       "      <td>Kamil Marut</td>\n",
       "      <td>Apprenti Ingénieur informatique à RTE | Progra...</td>\n",
       "    </tr>\n",
       "    <tr>\n",
       "      <th>Relation 35</th>\n",
       "      <td>Alexandre Sayada</td>\n",
       "      <td>M1 Engineering Degree (IOT, Embedded Systems &amp;...</td>\n",
       "    </tr>\n",
       "    <tr>\n",
       "      <th>Relation 36</th>\n",
       "      <td>Thomas Bullimore</td>\n",
       "      <td>Student at ESILV - Ecole Supérieure d'Ingénieu...</td>\n",
       "    </tr>\n",
       "    <tr>\n",
       "      <th>Relation 37</th>\n",
       "      <td>Léon Espert</td>\n",
       "      <td>Développeur web</td>\n",
       "    </tr>\n",
       "    <tr>\n",
       "      <th>Relation 38</th>\n",
       "      <td>Lila Allanic</td>\n",
       "      <td>Étudiant(e) à ESILV - Ecole Supérieure d'Ingén...</td>\n",
       "    </tr>\n",
       "    <tr>\n",
       "      <th>Relation 39</th>\n",
       "      <td>Samy Lacoste</td>\n",
       "      <td>Étudiant à ESILV | M1 en Santé Biotechnologies</td>\n",
       "    </tr>\n",
       "    <tr>\n",
       "      <th>Relation 40</th>\n",
       "      <td>Victor Chenal</td>\n",
       "      <td>Étudiant(e) à ESILV - Ecole Supérieure d'Ingén...</td>\n",
       "    </tr>\n",
       "  </tbody>\n",
       "</table>\n",
       "</div>"
      ],
      "text/plain": [
       "                              Nom  \\\n",
       "Relation 1         Tristan Beguet   \n",
       "Relation 2            Paul Sitbon   \n",
       "Relation 3       Camille Fitoussi   \n",
       "Relation 4          Louis Bardoul   \n",
       "Relation 5      Gabriel Valentino   \n",
       "Relation 6          Maé Benaroche   \n",
       "Relation 7   Wilfried P. TONOU B.   \n",
       "Relation 8        Valentin Girold   \n",
       "Relation 9           Sanjay Singh   \n",
       "Relation 10         Héléna Nguyen   \n",
       "Relation 11       Nicolas Ferrara   \n",
       "Relation 12        Clément ROUSSE   \n",
       "Relation 13          Flavio Évora   \n",
       "Relation 14        Clarisse Sacre   \n",
       "Relation 15           Victor MENU   \n",
       "Relation 16            Jenna Diab   \n",
       "Relation 17     Emmeran DARRIBERE   \n",
       "Relation 18          Quentin Rees   \n",
       "Relation 19            Marc Salet   \n",
       "Relation 20        Pierre TARAYRE   \n",
       "Relation 21          Hugo Dardill   \n",
       "Relation 22   Camille Zock à Zock   \n",
       "Relation 23         Hugo Yeremian   \n",
       "Relation 24            Sacha Lamy   \n",
       "Relation 25           David Ardia   \n",
       "Relation 26            Antoine Li   \n",
       "Relation 27          Thomas CESAR   \n",
       "Relation 28           Théo PATARD   \n",
       "Relation 29       Taous Bedouhene   \n",
       "Relation 30     Aurélie Le Calvez   \n",
       "Relation 31       Alexandre Dubuc   \n",
       "Relation 32         Maël Tarridec   \n",
       "Relation 33       Quentin Varenne   \n",
       "Relation 34           Kamil Marut   \n",
       "Relation 35      Alexandre Sayada   \n",
       "Relation 36      Thomas Bullimore   \n",
       "Relation 37           Léon Espert   \n",
       "Relation 38          Lila Allanic   \n",
       "Relation 39          Samy Lacoste   \n",
       "Relation 40         Victor Chenal   \n",
       "\n",
       "                                                 Statut actuel  \n",
       "Relation 1   Chargé d’affaires chez DeVinci Junior ! Etudia...  \n",
       "Relation 2   Next Level low/no code ; Composable ERP ; Expe...  \n",
       "Relation 3   𝗖𝗼𝗮𝗰𝗵 𝗣𝗿𝗼𝗳𝗲𝘀𝘀𝗶𝗼𝗻𝗻𝗲𝗹 𝗖𝗲𝗿𝘁𝗶𝗳𝗶𝗲́𝗲 & 𝗣𝗿𝗮𝘁𝗶𝗰𝗶𝗲𝗻𝗻𝗲 𝗠...  \n",
       "Relation 4   @Philips Ingénieur commercial IA & informatiqu...  \n",
       "Relation 5     Étudiant en M1 Cybersécurité et Cloud Computing  \n",
       "Relation 6   Étudiante à ESILV - Ecole Supérieure d'Ingénie...  \n",
       "Relation 7   🎒Etudiant en 4e année à ESILV|🕵️‍♂️En recherch...  \n",
       "Relation 8   Student at ESILV - Ecole Supérieure d'Ingénieu...  \n",
       "Relation 9                                    System Architect  \n",
       "Relation 10  Étudiante en M1 Informatique, Objets Connectés...  \n",
       "Relation 11  Chef de projet chez DeVinci Junior | M1 Ingéni...  \n",
       "Relation 12  Étudiant en Master 1 Energies et Villes Durabl...  \n",
       "Relation 13  Engineering student in Master 1 at ESILV Paris...  \n",
       "Relation 14  Etudiante Ingénieure en M1 Data & Intelligence...  \n",
       "Relation 15  Étudiant en M1 Data et IA à l'ESILV | Double D...  \n",
       "Relation 16  M2 Financial Mathematics at Université Paris 1...  \n",
       "Relation 17  Étudiant en Master 1 d’Actuariat au sein de l'...  \n",
       "Relation 18                     Assistant chez Vinci Eco Drive  \n",
       "Relation 19              Etudiant à l'ESILV - M2 industrie 4.0  \n",
       "Relation 20  Facilitateur du collaboratif - formateur art o...  \n",
       "Relation 21  Étudiant(e) à ESILV - Ecole Supérieure d'Ingén...  \n",
       "Relation 22  Étudiant(e) à ESILV - Ecole Supérieure d'Ingén...  \n",
       "Relation 23  Etudiant-Chercheur Ingénierie Financière | Vic...  \n",
       "Relation 24  Étudiant en 4ème année à ESILV - Ecole Supérie...  \n",
       "Relation 25  Associate Professor in Quantitative Methods fo...  \n",
       "Relation 26  Étudiant en dernière année d'école d'ingénieur...  \n",
       "Relation 27                         Étudiant à UCSC Californie  \n",
       "Relation 28  Etudiant ESILV M1 INDUSTRIE & Robotique / EMLV...  \n",
       "Relation 29                      Étudiante alternante chez AXA  \n",
       "Relation 30  Ingénieure en informatique chez Avanade. Membr...  \n",
       "Relation 31  Étudiant à l'ESILV - M1 Modélisation Mécanique...  \n",
       "Relation 32                   Consultant Cyber Risk & Security  \n",
       "Relation 33                Recrutement IT chez EI-Technologies  \n",
       "Relation 34  Apprenti Ingénieur informatique à RTE | Progra...  \n",
       "Relation 35  M1 Engineering Degree (IOT, Embedded Systems &...  \n",
       "Relation 36  Student at ESILV - Ecole Supérieure d'Ingénieu...  \n",
       "Relation 37                                    Développeur web  \n",
       "Relation 38  Étudiant(e) à ESILV - Ecole Supérieure d'Ingén...  \n",
       "Relation 39     Étudiant à ESILV | M1 en Santé Biotechnologies  \n",
       "Relation 40  Étudiant(e) à ESILV - Ecole Supérieure d'Ingén...  "
      ]
     },
     "execution_count": 62,
     "metadata": {},
     "output_type": "execute_result"
    }
   ],
   "source": [
    "import pandas as pd\n",
    "\n",
    "my_linkedin_relations = pd.DataFrame(list(zip(listeNom,listePoste)),columns=['Nom','Statut actuel'],\n",
    "                  index=indexXp)\n",
    "my_linkedin_relations"
   ]
  },
  {
   "cell_type": "markdown",
   "metadata": {},
   "source": [
    "3) Find a way to navigate automatically between pages and extract all names, jobs, locationsand store them in a Dataframe"
   ]
  },
  {
   "cell_type": "code",
   "execution_count": 63,
   "metadata": {},
   "outputs": [],
   "source": [
    "driver.quit()"
   ]
  },
  {
   "cell_type": "markdown",
   "metadata": {},
   "source": [
    "<a name=\"exercise-bonus\">\n",
    "\n",
    "### Bonus : Portail\n",
    "---"
   ]
  },
  {
   "cell_type": "markdown",
   "metadata": {},
   "source": [
    "Find a way to log in your portal and automatically deposit your notebook on Brightspace !"
   ]
  },
  {
   "cell_type": "code",
   "execution_count": 30,
   "metadata": {},
   "outputs": [],
   "source": [
    "driver = webdriver.Chrome(\"chromedriver\")\n",
    "driver.maximize_window()\n",
    "driver.get(\"https://devinci-online.brightspace.com/d2l/home\")"
   ]
  },
  {
   "cell_type": "code",
   "execution_count": 31,
   "metadata": {},
   "outputs": [
    {
     "name": "stdout",
     "output_type": "stream",
     "text": [
      "········\n"
     ]
    }
   ],
   "source": [
    "password = getpass.getpass() "
   ]
  },
  {
   "cell_type": "code",
   "execution_count": 32,
   "metadata": {},
   "outputs": [],
   "source": [
    "time.sleep(1)\n",
    "driver.find_element('id',\"userNameInput\").send_keys(\"theo.jaoudet@edu.devinci.fr\")\n",
    "driver.find_element('id',\"passwordInput\").send_keys(password)\n",
    "driver.find_element('id',\"submitButton\").click()"
   ]
  },
  {
   "cell_type": "code",
   "execution_count": 66,
   "metadata": {},
   "outputs": [],
   "source": [
    "time.sleep(1)\n",
    "driver.execute_script(\"window.scrollTo(0,400);\")\n",
    "time.sleep(1)\n",
    "driver.find_element('link text',\"Python for data analysis - MESIIN471622, MESIIN471622, S07\").click()"
   ]
  },
  {
   "cell_type": "code",
   "execution_count": null,
   "metadata": {},
   "outputs": [],
   "source": [
    "time.sleep(1)\n",
    "driver.find_element('link text',\"Activités\").click()\n",
    "time.sleep(1)\n",
    "driver.find_element('link text',\"Devoirs\").click()\n"
   ]
  },
  {
   "cell_type": "code",
   "execution_count": null,
   "metadata": {},
   "outputs": [],
   "source": []
  }
 ],
 "metadata": {
  "kernelspec": {
   "display_name": "Python 3",
   "language": "python",
   "name": "python3"
  },
  "language_info": {
   "codemirror_mode": {
    "name": "ipython",
    "version": 3
   },
   "file_extension": ".py",
   "mimetype": "text/x-python",
   "name": "python",
   "nbconvert_exporter": "python",
   "pygments_lexer": "ipython3",
   "version": "3.8.5"
  }
 },
 "nbformat": 4,
 "nbformat_minor": 5
}
