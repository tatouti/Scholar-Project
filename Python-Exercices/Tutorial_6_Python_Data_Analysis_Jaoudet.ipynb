{
 "cells": [
  {
   "cell_type": "markdown",
   "metadata": {},
   "source": [
    "## Regular expression operations\n",
    "\n",
    "A regular expression is a special sequence of characters that helps you match or find other strings or sets of strings, using a specialized syntax held in a pattern. Python has a built-in package called re, which can be used to work with Regular Expres-sions.\n",
    "\n",
    "You can find details here: https://docs.python.org/3/library/re.html#regular-expression-syntax\n"
   ]
  },
  {
   "cell_type": "code",
   "execution_count": 1,
   "metadata": {},
   "outputs": [
    {
     "name": "stderr",
     "output_type": "stream",
     "text": [
      "C:\\Users\\theoj\\anaconda3\\lib\\site-packages\\requests\\__init__.py:89: RequestsDependencyWarning: urllib3 (1.26.12) or chardet (3.0.4) doesn't match a supported version!\n",
      "  warnings.warn(\"urllib3 ({}) or chardet ({}) doesn't match a supported \"\n"
     ]
    }
   ],
   "source": [
    "import re \n",
    "import requests\n",
    "from bs4 import BeautifulSoup\n",
    "import pandas as pd\n",
    "import matplotlib.pyplot as plt"
   ]
  },
  {
   "cell_type": "markdown",
   "metadata": {},
   "source": [
    "#### 1. Write a regex to extract the score, Cristiano’s age, number of goals and the number of selections from the following text:"
   ]
  },
  {
   "cell_type": "code",
   "execution_count": 2,
   "metadata": {},
   "outputs": [
    {
     "name": "stdout",
     "output_type": "stream",
     "text": [
      "Première version :\n",
      "3-0\n",
      "36 ans\n",
      "112 buts\n",
      "181 match\n",
      "Version optimisée :\n",
      "['(3-0)', '(36 ans)', '(112 buts)', '181 matchs']\n"
     ]
    }
   ],
   "source": [
    "txt = \"Buteur face au Qatar (3-0), samedi en amical, Cristiano Ronaldo (36 ans) a fait tomber un nouveau record. En effet, l'attaquant de Manchester United, meilleur buteur de l'histoire des sélections (112 buts), est devenu le footballeur européen le plus capé avec son équipe nationale. Il compte désormais 181 matchs avec la formation lusitanienne, soit un de plus que Sergio Ramos avec l'Espagne. Le Red Devil n'est plus qu'à cinq longueurs de Bader Ahmed al-Mutawa (Koweït), recordman absolu à l'échelle mondiale.\"\n",
    "score=re.search(',',txt)\n",
    "scoreS = score.start()-4\n",
    "scoreE = score.end()-1\n",
    "print('Première version :')\n",
    "print(txt[scoreS:scoreE-1])\n",
    "\n",
    "age=re.search('ans',txt)\n",
    "ageS = age.start()-3\n",
    "ageE = age.end()\n",
    "print(txt[ageS:ageE])\n",
    "\n",
    "but = re.search('buts',txt)\n",
    "butS = but.start()-4\n",
    "butE = but.end()\n",
    "print(txt[butS:butE])\n",
    "\n",
    "match = re.search('match',txt)\n",
    "matchS = match.start()-4\n",
    "matchE = match.end()\n",
    "print(txt[matchS:matchE])\n",
    "\n",
    "\n",
    "#OTHER BETTER SOLUTION\n",
    "print('Version optimisée :')\n",
    "a=re.findall('\\(\\d+.*?\\)|\\d+ matchs',txt)\n",
    "print(a)\n",
    "\n"
   ]
  },
  {
   "cell_type": "markdown",
   "metadata": {},
   "source": [
    "#### 2. Write a regex to get prices from the following text:"
   ]
  },
  {
   "cell_type": "code",
   "execution_count": 3,
   "metadata": {},
   "outputs": [
    {
     "name": "stdout",
     "output_type": "stream",
     "text": [
      "['230 euros', '900 euros']\n"
     ]
    }
   ],
   "source": [
    "txt = \"Vous cherchez un nouvel ordinateur portable performant, fiable et en réduction ? Sur Rakuten, l’ordinateur Apple MacBook Air 2020 est en promotion, avec une remise de près de 230 euros pour un tarif final qui chute sous les 900 euros grâce à la plateforme marchande.\"\n",
    "print(re.findall('\\d+ euros',txt))"
   ]
  },
  {
   "cell_type": "markdown",
   "metadata": {},
   "source": [
    "#### 3. Write a regexp to get reduction values, along with promo code:"
   ]
  },
  {
   "cell_type": "code",
   "execution_count": 4,
   "metadata": {},
   "outputs": [
    {
     "data": {
      "text/plain": [
       "['40% ', ' PRINTEMPS40', '40% ', ' CARENAGE40', '50% ', ' INJECTION50']"
      ]
     },
     "execution_count": 4,
     "metadata": {},
     "output_type": "execute_result"
    }
   ],
   "source": [
    "txt = \"\"\"\n",
    "- 40% sur tous les réservoirs d'essence et collecteurs d'échappement ( achats internet uniquement ) avec le code promo: PRINTEMPS40\n",
    "\n",
    "- 40% sur tous les carénages plastique  ( achats internet uniquement ) avec le code promo: CARENAGE40\n",
    "\n",
    "- 50% sur toutes les rampes d'injection ( achats internet uniquement ) avec le code promo: INJECTION50\n",
    "\"\"\"\n",
    "re.findall('\\d+% | [A-Z].*\\d',txt)"
   ]
  },
  {
   "cell_type": "markdown",
   "metadata": {},
   "source": [
    "# Web scrapping\n",
    "\n",
    "# Parsing the HTML with BeautifulSoup\n",
    "\n",
    "BeautifulSoup is a Python library for parsing HTML and XML documents. It is often used for web scraping. BeautifulSoup transforms a complex HTML document into a complex tree of Python objects, such as tag, navigable string, or comment."
   ]
  },
  {
   "cell_type": "markdown",
   "metadata": {},
   "source": [
    "### Téléthon use case (read, store, visualize)\n",
    "https://www.afm-telethon.fr/fr/le-telethon/le-telethon-c-est-quoi/l-histoire-du-telethon/les-resultats-du-telethon"
   ]
  },
  {
   "cell_type": "code",
   "execution_count": 5,
   "metadata": {},
   "outputs": [],
   "source": [
    "url        = \"https://www.afm-telethon.fr/fr/le-telethon/le-telethon-c-est-quoi/l-histoire-du-telethon/les-resultats-du-telethon\"\n",
    "requesting = requests.get(url)\n",
    "soup       = BeautifulSoup(requesting.content, \"html.parser\")"
   ]
  },
  {
   "cell_type": "code",
   "execution_count": 6,
   "metadata": {},
   "outputs": [],
   "source": [
    "\n",
    "with open('tst.html', 'w') as f:\n",
    "    f.write(str(soup))\n",
    "\n",
    "def read():\n",
    "    with open('tst.html','r') as f:\n",
    "        a = f.readlines()\n",
    "        for i in a:\n",
    "            print(i)\n",
    "#read()"
   ]
  },
  {
   "cell_type": "markdown",
   "metadata": {},
   "source": [
    "## Let's look for some information in the page"
   ]
  },
  {
   "cell_type": "markdown",
   "metadata": {},
   "source": [
    "#### 1. In 2006, the counter reached its highest level. Extract this information from the webpage (a sentence in the page)."
   ]
  },
  {
   "cell_type": "code",
   "execution_count": 7,
   "metadata": {},
   "outputs": [
    {
     "name": "stdout",
     "output_type": "stream",
     "text": [
      "['2006 que le compteur a atteint son niveau le plus haut, avec 106 696 532 €']\n"
     ]
    }
   ],
   "source": [
    "# Using text\n",
    "tel_nrs = re.findall('2006 .* €', requesting.text)\n",
    "\n",
    "print(tel_nrs)"
   ]
  },
  {
   "cell_type": "code",
   "execution_count": 8,
   "metadata": {},
   "outputs": [
    {
     "name": "stdout",
     "output_type": "stream",
     "text": [
      "C'est en 2006 que le compteur a atteint son niveau le plus haut, avec 106 696 532 €. \n"
     ]
    }
   ],
   "source": [
    "# Using tag\n",
    "s = soup.find_all(\"p\")\n",
    "\n",
    "for a in soup.find_all(\"p\"):\n",
    "    a = a.text\n",
    "    if '2006' in a:\n",
    "        print(a)"
   ]
  },
  {
   "cell_type": "code",
   "execution_count": 9,
   "metadata": {},
   "outputs": [
    {
     "data": {
      "text/plain": [
       "[<p>C'est en 2006 que le compteur a atteint son niveau le plus haut, avec 106 696 532 €. </p>]"
      ]
     },
     "execution_count": 9,
     "metadata": {},
     "output_type": "execute_result"
    }
   ],
   "source": [
    "# Using cssselector \n",
    "soup.select('#les-montants-collectes-pour-le-telethon-depuis-1987-5959 > div > p:nth-child(5)')"
   ]
  },
  {
   "cell_type": "markdown",
   "metadata": {},
   "source": [
    "#### 2. Retrieve the publication date from the webpage, using the CSS classes."
   ]
  },
  {
   "cell_type": "code",
   "execution_count": 10,
   "metadata": {},
   "outputs": [
    {
     "data": {
      "text/plain": [
       "<div class=\"date\">\n",
       "              Publié le 09/06/2022 \n",
       "            </div>"
      ]
     },
     "execution_count": 10,
     "metadata": {},
     "output_type": "execute_result"
    }
   ],
   "source": [
    "soup.find_all('div', class_='date')[0]"
   ]
  },
  {
   "cell_type": "markdown",
   "metadata": {},
   "source": [
    "#### 3. Find the number of tables defined in the soup. "
   ]
  },
  {
   "cell_type": "code",
   "execution_count": 11,
   "metadata": {},
   "outputs": [
    {
     "data": {
      "text/plain": [
       "1"
      ]
     },
     "execution_count": 11,
     "metadata": {},
     "output_type": "execute_result"
    }
   ],
   "source": [
    "len(soup.findAll('table'))"
   ]
  },
  {
   "cell_type": "markdown",
   "metadata": {},
   "source": [
    "#### 3. Retrieve the items from this table. Create a python dataframe representing this table (do not forget to include the name of the columns as defined in the webpage)."
   ]
  },
  {
   "cell_type": "code",
   "execution_count": 12,
   "metadata": {},
   "outputs": [
    {
     "data": {
      "text/html": [
       "<div>\n",
       "<style scoped>\n",
       "    .dataframe tbody tr th:only-of-type {\n",
       "        vertical-align: middle;\n",
       "    }\n",
       "\n",
       "    .dataframe tbody tr th {\n",
       "        vertical-align: top;\n",
       "    }\n",
       "\n",
       "    .dataframe thead th {\n",
       "        text-align: right;\n",
       "    }\n",
       "</style>\n",
       "<table border=\"1\" class=\"dataframe\">\n",
       "  <thead>\n",
       "    <tr style=\"text-align: right;\">\n",
       "      <th></th>\n",
       "      <th>Année</th>\n",
       "      <th>Montant collecté</th>\n",
       "    </tr>\n",
       "  </thead>\n",
       "  <tbody>\n",
       "    <tr>\n",
       "      <th>0</th>\n",
       "      <td>1987</td>\n",
       "      <td>29 650 000 €</td>\n",
       "    </tr>\n",
       "    <tr>\n",
       "      <th>1</th>\n",
       "      <td>1988</td>\n",
       "      <td>28 490 000 €</td>\n",
       "    </tr>\n",
       "    <tr>\n",
       "      <th>2</th>\n",
       "      <td>1989</td>\n",
       "      <td>40 930 000 €</td>\n",
       "    </tr>\n",
       "    <tr>\n",
       "      <th>3</th>\n",
       "      <td>1990</td>\n",
       "      <td>46 510 000 €</td>\n",
       "    </tr>\n",
       "    <tr>\n",
       "      <th>4</th>\n",
       "      <td>1991</td>\n",
       "      <td>38 650 000 €</td>\n",
       "    </tr>\n",
       "  </tbody>\n",
       "</table>\n",
       "</div>"
      ],
      "text/plain": [
       "   Année Montant collecté\n",
       "0   1987     29 650 000 €\n",
       "1   1988     28 490 000 €\n",
       "2   1989     40 930 000 €\n",
       "3   1990     46 510 000 €\n",
       "4   1991     38 650 000 €"
      ]
     },
     "execution_count": 12,
     "metadata": {},
     "output_type": "execute_result"
    }
   ],
   "source": [
    "table = soup.find(lambda tag: tag.name=='table') \n",
    "\n",
    "df = pd.read_html(str(table))[0]\n",
    "df.head()\n"
   ]
  },
  {
   "cell_type": "markdown",
   "metadata": {},
   "source": [
    "#### 4. Clean up columns and their types \n",
    "(it's up to you to propose how, why and what to do)"
   ]
  },
  {
   "cell_type": "code",
   "execution_count": 13,
   "metadata": {},
   "outputs": [
    {
     "data": {
      "text/html": [
       "<div>\n",
       "<style scoped>\n",
       "    .dataframe tbody tr th:only-of-type {\n",
       "        vertical-align: middle;\n",
       "    }\n",
       "\n",
       "    .dataframe tbody tr th {\n",
       "        vertical-align: top;\n",
       "    }\n",
       "\n",
       "    .dataframe thead th {\n",
       "        text-align: right;\n",
       "    }\n",
       "</style>\n",
       "<table border=\"1\" class=\"dataframe\">\n",
       "  <thead>\n",
       "    <tr style=\"text-align: right;\">\n",
       "      <th></th>\n",
       "      <th>Année</th>\n",
       "      <th>Montant collecté</th>\n",
       "    </tr>\n",
       "  </thead>\n",
       "  <tbody>\n",
       "    <tr>\n",
       "      <th>0</th>\n",
       "      <td>1987</td>\n",
       "      <td>29650000</td>\n",
       "    </tr>\n",
       "    <tr>\n",
       "      <th>1</th>\n",
       "      <td>1988</td>\n",
       "      <td>28490000</td>\n",
       "    </tr>\n",
       "    <tr>\n",
       "      <th>2</th>\n",
       "      <td>1989</td>\n",
       "      <td>40930000</td>\n",
       "    </tr>\n",
       "    <tr>\n",
       "      <th>3</th>\n",
       "      <td>1990</td>\n",
       "      <td>46510000</td>\n",
       "    </tr>\n",
       "    <tr>\n",
       "      <th>4</th>\n",
       "      <td>1991</td>\n",
       "      <td>38650000</td>\n",
       "    </tr>\n",
       "  </tbody>\n",
       "</table>\n",
       "</div>"
      ],
      "text/plain": [
       "   Année  Montant collecté\n",
       "0   1987          29650000\n",
       "1   1988          28490000\n",
       "2   1989          40930000\n",
       "3   1990          46510000\n",
       "4   1991          38650000"
      ]
     },
     "execution_count": 13,
     "metadata": {},
     "output_type": "execute_result"
    }
   ],
   "source": [
    "df['Montant collecté']=df['Montant collecté'].str.replace(\" |€\",\"\",regex=True).astype(int)\n",
    "df.head()"
   ]
  },
  {
   "cell_type": "markdown",
   "metadata": {},
   "source": [
    "#### 5. Retrieve the date when the most amount was collected \n",
    "\n",
    "(we already scrapped the info before, here we want the info with the table)"
   ]
  },
  {
   "cell_type": "code",
   "execution_count": 14,
   "metadata": {},
   "outputs": [
    {
     "data": {
      "text/html": [
       "<div>\n",
       "<style scoped>\n",
       "    .dataframe tbody tr th:only-of-type {\n",
       "        vertical-align: middle;\n",
       "    }\n",
       "\n",
       "    .dataframe tbody tr th {\n",
       "        vertical-align: top;\n",
       "    }\n",
       "\n",
       "    .dataframe thead th {\n",
       "        text-align: right;\n",
       "    }\n",
       "</style>\n",
       "<table border=\"1\" class=\"dataframe\">\n",
       "  <thead>\n",
       "    <tr style=\"text-align: right;\">\n",
       "      <th></th>\n",
       "      <th>Année</th>\n",
       "      <th>Montant collecté</th>\n",
       "    </tr>\n",
       "  </thead>\n",
       "  <tbody>\n",
       "    <tr>\n",
       "      <th>19</th>\n",
       "      <td>2006</td>\n",
       "      <td>106696532</td>\n",
       "    </tr>\n",
       "  </tbody>\n",
       "</table>\n",
       "</div>"
      ],
      "text/plain": [
       "    Année  Montant collecté\n",
       "19   2006         106696532"
      ]
     },
     "execution_count": 14,
     "metadata": {},
     "output_type": "execute_result"
    }
   ],
   "source": [
    "df.sort_values(by='Montant collecté',ascending=False).head(1)"
   ]
  },
  {
   "cell_type": "markdown",
   "metadata": {},
   "source": [
    "#### 6. Visualize the evolution of the amount collected per year.\n",
    "#### Mark the maximum and minimum of the evolution with respectively red and green colors."
   ]
  },
  {
   "cell_type": "code",
   "execution_count": 15,
   "metadata": {},
   "outputs": [
    {
     "data": {
      "text/plain": [
       "[<matplotlib.lines.Line2D at 0x1b13e034af0>]"
      ]
     },
     "execution_count": 15,
     "metadata": {},
     "output_type": "execute_result"
    },
    {
     "data": {
      "image/png": "[encoded data removed]",
      "text/plain": [
       "<Figure size 1440x720 with 1 Axes>"
      ]
     },
     "metadata": {
      "needs_background": "light"
     },
     "output_type": "display_data"
    }
   ],
   "source": [
    "import plotly.express as px\n",
    "\n",
    "df.plot('Année','Montant collecté',figsize=(20,10))\n",
    "xmax = df['Montant collecté'].argmax()\n",
    "xmin = df['Montant collecté'].argmin()\n",
    "plt.plot(df.iloc[xmax,0],df.iloc[xmax,1],'o',color='red',markersize=10)\n",
    "plt.plot(df.iloc[xmin,0],df.iloc[xmin,1],'o',color='green',markersize=10)\n"
   ]
  },
  {
   "cell_type": "markdown",
   "metadata": {},
   "source": [
    "## Use case 2: https://www.infoclimat.fr/observations-meteo/archives/7/septembre/2019/paris-montsouris/07156.html"
   ]
  },
  {
   "cell_type": "code",
   "execution_count": 16,
   "metadata": {},
   "outputs": [],
   "source": [
    "url   = \"https://www.infoclimat.fr/observations-meteo/archives/7/septembre/2019/paris-montsouris/07156.html\"\n",
    "page  = requests.get(url )\n",
    "html  = page.text\n",
    "soup  = BeautifulSoup(html)"
   ]
  },
  {
   "cell_type": "markdown",
   "metadata": {},
   "source": [
    "#### Convert the table of this site into a pandas dataframe\n",
    "\n",
    "You must include the names of the columns and the names of the rows (the hours) as an index "
   ]
  },
  {
   "cell_type": "code",
   "execution_count": 17,
   "metadata": {},
   "outputs": [],
   "source": [
    "def minmax(x):\n",
    "    return str(x.split('C ')[1])\n",
    "def temp(x):\n",
    "    return str(x.split(' ')[0]+x.split(' ')[1])\n",
    "def raf(x):\n",
    "    return float(x.split('raf.')[1])\n",
    "def vent(x):\n",
    "    return str(x.split('r')[0])"
   ]
  },
  {
   "cell_type": "code",
   "execution_count": 18,
   "metadata": {},
   "outputs": [
    {
     "data": {
      "text/html": [
       "<div>\n",
       "<style scoped>\n",
       "    .dataframe tbody tr th:only-of-type {\n",
       "        vertical-align: middle;\n",
       "    }\n",
       "\n",
       "    .dataframe tbody tr th {\n",
       "        vertical-align: top;\n",
       "    }\n",
       "\n",
       "    .dataframe thead th {\n",
       "        text-align: right;\n",
       "    }\n",
       "</style>\n",
       "<table border=\"1\" class=\"dataframe\">\n",
       "  <thead>\n",
       "    <tr style=\"text-align: right;\">\n",
       "      <th></th>\n",
       "      <th>Température</th>\n",
       "      <th>MinMax</th>\n",
       "      <th>Pluie</th>\n",
       "      <th>Vent</th>\n",
       "      <th>Rafales</th>\n",
       "      <th>Humidité</th>\n",
       "      <th>Bio-météo</th>\n",
       "      <th>Pt. de rosée</th>\n",
       "      <th>Pression</th>\n",
       "      <th>Visibilité</th>\n",
       "    </tr>\n",
       "    <tr>\n",
       "      <th>Heure locale</th>\n",
       "      <th></th>\n",
       "      <th></th>\n",
       "      <th></th>\n",
       "      <th></th>\n",
       "      <th></th>\n",
       "      <th></th>\n",
       "      <th></th>\n",
       "      <th></th>\n",
       "      <th></th>\n",
       "      <th></th>\n",
       "    </tr>\n",
       "  </thead>\n",
       "  <tbody>\n",
       "    <tr>\n",
       "      <th>01h</th>\n",
       "      <td>13.9°C</td>\n",
       "      <td>13.9 → 14.3</td>\n",
       "      <td>0 mm/1h</td>\n",
       "      <td>14 km/h</td>\n",
       "      <td>32.4</td>\n",
       "      <td>76%</td>\n",
       "      <td>NaN</td>\n",
       "      <td>9.7 °C</td>\n",
       "      <td>1023hPa</td>\n",
       "      <td>20 km</td>\n",
       "    </tr>\n",
       "    <tr>\n",
       "      <th>00h</th>\n",
       "      <td>14.3°C</td>\n",
       "      <td>14.3 → 14.9</td>\n",
       "      <td>0 mm/1h</td>\n",
       "      <td>18 km/h</td>\n",
       "      <td>37.8</td>\n",
       "      <td>73%</td>\n",
       "      <td>NaN</td>\n",
       "      <td>9.5 °C</td>\n",
       "      <td>1023.2hPa</td>\n",
       "      <td>20 km</td>\n",
       "    </tr>\n",
       "    <tr>\n",
       "      <th>23h</th>\n",
       "      <td>14.9°C</td>\n",
       "      <td>14.7 → 14.9</td>\n",
       "      <td>0 mm/1h</td>\n",
       "      <td>14 km/h</td>\n",
       "      <td>39.6</td>\n",
       "      <td>69%</td>\n",
       "      <td>NaN</td>\n",
       "      <td>9.3 °C</td>\n",
       "      <td>1023.0hPa</td>\n",
       "      <td>20 km</td>\n",
       "    </tr>\n",
       "    <tr>\n",
       "      <th>22h</th>\n",
       "      <td>14.8°C</td>\n",
       "      <td>14.8 → 15.4</td>\n",
       "      <td>0 mm/1h</td>\n",
       "      <td>18 km/h</td>\n",
       "      <td>34.2</td>\n",
       "      <td>67%</td>\n",
       "      <td>NaN</td>\n",
       "      <td>8.7 °C</td>\n",
       "      <td>1022.8hPa</td>\n",
       "      <td>20 km</td>\n",
       "    </tr>\n",
       "    <tr>\n",
       "      <th>21h</th>\n",
       "      <td>15.4°C</td>\n",
       "      <td>15.4 → 16.8</td>\n",
       "      <td>0 mm/1h</td>\n",
       "      <td>14 km/h</td>\n",
       "      <td>45.7</td>\n",
       "      <td>62%</td>\n",
       "      <td>NaN</td>\n",
       "      <td>8.2 °C</td>\n",
       "      <td>1022.2hPa</td>\n",
       "      <td>20 km</td>\n",
       "    </tr>\n",
       "    <tr>\n",
       "      <th>20h</th>\n",
       "      <td>16.8°C</td>\n",
       "      <td>16.8 → 17.8</td>\n",
       "      <td>0 mm/1h</td>\n",
       "      <td>22 km/h</td>\n",
       "      <td>42.8</td>\n",
       "      <td>59%</td>\n",
       "      <td>81.0</td>\n",
       "      <td>8.7 °C</td>\n",
       "      <td>1021.6hPa</td>\n",
       "      <td>20 km</td>\n",
       "    </tr>\n",
       "    <tr>\n",
       "      <th>19h</th>\n",
       "      <td>17.7°C</td>\n",
       "      <td>17.6 → 18.2</td>\n",
       "      <td>0 mm/1h</td>\n",
       "      <td>18 km/h</td>\n",
       "      <td>37.8</td>\n",
       "      <td>51%</td>\n",
       "      <td>144.0</td>\n",
       "      <td>7.4 °C</td>\n",
       "      <td>1021.1hPa</td>\n",
       "      <td>20 km</td>\n",
       "    </tr>\n",
       "    <tr>\n",
       "      <th>18h</th>\n",
       "      <td>17.8°C</td>\n",
       "      <td>17.7 → 18.3</td>\n",
       "      <td>0 mm/1h</td>\n",
       "      <td>18 km/h</td>\n",
       "      <td>35.6</td>\n",
       "      <td>51%</td>\n",
       "      <td>192.0</td>\n",
       "      <td>7.5 °C</td>\n",
       "      <td>1021.0hPa</td>\n",
       "      <td>20 km</td>\n",
       "    </tr>\n",
       "    <tr>\n",
       "      <th>17h</th>\n",
       "      <td>18.3°C</td>\n",
       "      <td>18.1 → 18.7</td>\n",
       "      <td>0 mm/1h</td>\n",
       "      <td>14 km/h</td>\n",
       "      <td>34.6</td>\n",
       "      <td>49%</td>\n",
       "      <td>311.0</td>\n",
       "      <td>7.4 °C</td>\n",
       "      <td>1020.8hPa</td>\n",
       "      <td>20 km</td>\n",
       "    </tr>\n",
       "    <tr>\n",
       "      <th>16h</th>\n",
       "      <td>18.3°C</td>\n",
       "      <td>17.9 → 19</td>\n",
       "      <td>0 mm/1h</td>\n",
       "      <td>18 km/h</td>\n",
       "      <td>36.4</td>\n",
       "      <td>52%</td>\n",
       "      <td>378.0</td>\n",
       "      <td>8.3 °C</td>\n",
       "      <td>1020.7hPa</td>\n",
       "      <td>20 km</td>\n",
       "    </tr>\n",
       "    <tr>\n",
       "      <th>15h</th>\n",
       "      <td>18.7°C</td>\n",
       "      <td>18.2 → 19.9</td>\n",
       "      <td>0 mm/1h</td>\n",
       "      <td>18 km/h</td>\n",
       "      <td>36.0</td>\n",
       "      <td>46%</td>\n",
       "      <td>594.0</td>\n",
       "      <td>6.8 °C</td>\n",
       "      <td>1020.8hPa</td>\n",
       "      <td>20 km</td>\n",
       "    </tr>\n",
       "    <tr>\n",
       "      <th>14h</th>\n",
       "      <td>19.2°C</td>\n",
       "      <td>17.5 → 19.5</td>\n",
       "      <td>0 mm/1h</td>\n",
       "      <td>14 km/h</td>\n",
       "      <td>37.1</td>\n",
       "      <td>45%</td>\n",
       "      <td>481.0</td>\n",
       "      <td>7 °C</td>\n",
       "      <td>1020.9hPa</td>\n",
       "      <td>20 km</td>\n",
       "    </tr>\n",
       "    <tr>\n",
       "      <th>13h</th>\n",
       "      <td>17.4°C</td>\n",
       "      <td>16.9 → 17.8</td>\n",
       "      <td>0 mm/1h</td>\n",
       "      <td>14 km/h</td>\n",
       "      <td>27.4</td>\n",
       "      <td>58%</td>\n",
       "      <td>250.0</td>\n",
       "      <td>9 °C</td>\n",
       "      <td>1021.2hPa</td>\n",
       "      <td>20 km</td>\n",
       "    </tr>\n",
       "    <tr>\n",
       "      <th>12h</th>\n",
       "      <td>17.8°C</td>\n",
       "      <td>16 → 18.4</td>\n",
       "      <td>0 mm/1h</td>\n",
       "      <td>11 km/h</td>\n",
       "      <td>25.2</td>\n",
       "      <td>66%</td>\n",
       "      <td>508.0</td>\n",
       "      <td>11.4 °C</td>\n",
       "      <td>1021.1hPa</td>\n",
       "      <td>20 km</td>\n",
       "    </tr>\n",
       "    <tr>\n",
       "      <th>11h</th>\n",
       "      <td>16.0°C</td>\n",
       "      <td>15.6 → 16.4</td>\n",
       "      <td>0 mm/1h</td>\n",
       "      <td>11 km/h</td>\n",
       "      <td>24.1</td>\n",
       "      <td>76%</td>\n",
       "      <td>219.0</td>\n",
       "      <td>11.8 °C</td>\n",
       "      <td>1021.3hPa</td>\n",
       "      <td>20 km</td>\n",
       "    </tr>\n",
       "    <tr>\n",
       "      <th>10h</th>\n",
       "      <td>15.6°C</td>\n",
       "      <td>14.9 → 15.6</td>\n",
       "      <td>0 mm/1h</td>\n",
       "      <td>7 km/h</td>\n",
       "      <td>22.7</td>\n",
       "      <td>81%</td>\n",
       "      <td>81.0</td>\n",
       "      <td>12.3 °C</td>\n",
       "      <td>1021.1hPa</td>\n",
       "      <td>20 km</td>\n",
       "    </tr>\n",
       "    <tr>\n",
       "      <th>09h</th>\n",
       "      <td>14.9°C</td>\n",
       "      <td>14.3 → 14.9</td>\n",
       "      <td>0 mm/1h</td>\n",
       "      <td>7 km/h</td>\n",
       "      <td>24.5</td>\n",
       "      <td>84%</td>\n",
       "      <td>42.0</td>\n",
       "      <td>12.2 °C</td>\n",
       "      <td>1020.6hPa</td>\n",
       "      <td>20 km</td>\n",
       "    </tr>\n",
       "    <tr>\n",
       "      <th>08h</th>\n",
       "      <td>14.3°C</td>\n",
       "      <td>14.1 → 14.3</td>\n",
       "      <td>0 mm/1h</td>\n",
       "      <td>7 km/h</td>\n",
       "      <td>19.4</td>\n",
       "      <td>86%</td>\n",
       "      <td>3.0</td>\n",
       "      <td>12 °C</td>\n",
       "      <td>1020.6hPa</td>\n",
       "      <td>20 km</td>\n",
       "    </tr>\n",
       "    <tr>\n",
       "      <th>07h</th>\n",
       "      <td>14.4°C</td>\n",
       "      <td>14.4 → 14.8</td>\n",
       "      <td>0 mm/1h</td>\n",
       "      <td>7 km/h</td>\n",
       "      <td>24.1</td>\n",
       "      <td>85%</td>\n",
       "      <td>NaN</td>\n",
       "      <td>11.9 °C</td>\n",
       "      <td>1020.3hPa</td>\n",
       "      <td>20 km</td>\n",
       "    </tr>\n",
       "    <tr>\n",
       "      <th>06h</th>\n",
       "      <td>14.8°C</td>\n",
       "      <td>14.7 → 14.8</td>\n",
       "      <td>0 mm/1h</td>\n",
       "      <td>7 km/h</td>\n",
       "      <td>26.3</td>\n",
       "      <td>83%</td>\n",
       "      <td>NaN</td>\n",
       "      <td>11.9 °C</td>\n",
       "      <td>1020.4hPa</td>\n",
       "      <td>20 km</td>\n",
       "    </tr>\n",
       "    <tr>\n",
       "      <th>05h</th>\n",
       "      <td>14.7°C</td>\n",
       "      <td>14.6 → 14.7</td>\n",
       "      <td>0 mm/1h</td>\n",
       "      <td>11 km/h</td>\n",
       "      <td>21.2</td>\n",
       "      <td>82%</td>\n",
       "      <td>NaN</td>\n",
       "      <td>11.7 °C</td>\n",
       "      <td>1020.7hPa</td>\n",
       "      <td>20 km</td>\n",
       "    </tr>\n",
       "    <tr>\n",
       "      <th>04h</th>\n",
       "      <td>14.6°C</td>\n",
       "      <td>14.6 → 15</td>\n",
       "      <td>0 mm/1h</td>\n",
       "      <td>11 km/h</td>\n",
       "      <td>21.6</td>\n",
       "      <td>80%</td>\n",
       "      <td>NaN</td>\n",
       "      <td>11.2 °C</td>\n",
       "      <td>1021.2hPa</td>\n",
       "      <td>20 km</td>\n",
       "    </tr>\n",
       "    <tr>\n",
       "      <th>03h</th>\n",
       "      <td>15.0°C</td>\n",
       "      <td>15 → 15.8</td>\n",
       "      <td>0 mm/1h</td>\n",
       "      <td>11 km/h</td>\n",
       "      <td>26.6</td>\n",
       "      <td>77%</td>\n",
       "      <td>NaN</td>\n",
       "      <td>11 °C</td>\n",
       "      <td>1021.3hPa</td>\n",
       "      <td>20 km</td>\n",
       "    </tr>\n",
       "    <tr>\n",
       "      <th>02h</th>\n",
       "      <td>15.8°C</td>\n",
       "      <td>15.8 → 16.5</td>\n",
       "      <td>0 mm/1h</td>\n",
       "      <td>14 km/h</td>\n",
       "      <td>35.3</td>\n",
       "      <td>69%</td>\n",
       "      <td>NaN</td>\n",
       "      <td>10.1 °C</td>\n",
       "      <td>1021.6hPa</td>\n",
       "      <td>20 km</td>\n",
       "    </tr>\n",
       "  </tbody>\n",
       "</table>\n",
       "</div>"
      ],
      "text/plain": [
       "             Température       MinMax    Pluie     Vent  Rafales Humidité  \\\n",
       "Heure locale                                                                \n",
       "01h               13.9°C  13.9 → 14.3  0 mm/1h  14 km/h     32.4      76%   \n",
       "00h               14.3°C  14.3 → 14.9  0 mm/1h  18 km/h     37.8      73%   \n",
       "23h               14.9°C  14.7 → 14.9  0 mm/1h  14 km/h     39.6      69%   \n",
       "22h               14.8°C  14.8 → 15.4  0 mm/1h  18 km/h     34.2      67%   \n",
       "21h               15.4°C  15.4 → 16.8  0 mm/1h  14 km/h     45.7      62%   \n",
       "20h               16.8°C  16.8 → 17.8  0 mm/1h  22 km/h     42.8      59%   \n",
       "19h               17.7°C  17.6 → 18.2  0 mm/1h  18 km/h     37.8      51%   \n",
       "18h               17.8°C  17.7 → 18.3  0 mm/1h  18 km/h     35.6      51%   \n",
       "17h               18.3°C  18.1 → 18.7  0 mm/1h  14 km/h     34.6      49%   \n",
       "16h               18.3°C    17.9 → 19  0 mm/1h  18 km/h     36.4      52%   \n",
       "15h               18.7°C  18.2 → 19.9  0 mm/1h  18 km/h     36.0      46%   \n",
       "14h               19.2°C  17.5 → 19.5  0 mm/1h  14 km/h     37.1      45%   \n",
       "13h               17.4°C  16.9 → 17.8  0 mm/1h  14 km/h     27.4      58%   \n",
       "12h               17.8°C    16 → 18.4  0 mm/1h  11 km/h     25.2      66%   \n",
       "11h               16.0°C  15.6 → 16.4  0 mm/1h  11 km/h     24.1      76%   \n",
       "10h               15.6°C  14.9 → 15.6  0 mm/1h   7 km/h     22.7      81%   \n",
       "09h               14.9°C  14.3 → 14.9  0 mm/1h   7 km/h     24.5      84%   \n",
       "08h               14.3°C  14.1 → 14.3  0 mm/1h   7 km/h     19.4      86%   \n",
       "07h               14.4°C  14.4 → 14.8  0 mm/1h   7 km/h     24.1      85%   \n",
       "06h               14.8°C  14.7 → 14.8  0 mm/1h   7 km/h     26.3      83%   \n",
       "05h               14.7°C  14.6 → 14.7  0 mm/1h  11 km/h     21.2      82%   \n",
       "04h               14.6°C    14.6 → 15  0 mm/1h  11 km/h     21.6      80%   \n",
       "03h               15.0°C    15 → 15.8  0 mm/1h  11 km/h     26.6      77%   \n",
       "02h               15.8°C  15.8 → 16.5  0 mm/1h  14 km/h     35.3      69%   \n",
       "\n",
       "              Bio-météo Pt. de rosée   Pression Visibilité  \n",
       "Heure locale                                                \n",
       "01h                 NaN       9.7 °C    1023hPa      20 km  \n",
       "00h                 NaN       9.5 °C  1023.2hPa      20 km  \n",
       "23h                 NaN       9.3 °C  1023.0hPa      20 km  \n",
       "22h                 NaN       8.7 °C  1022.8hPa      20 km  \n",
       "21h                 NaN       8.2 °C  1022.2hPa      20 km  \n",
       "20h                81.0       8.7 °C  1021.6hPa      20 km  \n",
       "19h               144.0       7.4 °C  1021.1hPa      20 km  \n",
       "18h               192.0       7.5 °C  1021.0hPa      20 km  \n",
       "17h               311.0       7.4 °C  1020.8hPa      20 km  \n",
       "16h               378.0       8.3 °C  1020.7hPa      20 km  \n",
       "15h               594.0       6.8 °C  1020.8hPa      20 km  \n",
       "14h               481.0         7 °C  1020.9hPa      20 km  \n",
       "13h               250.0         9 °C  1021.2hPa      20 km  \n",
       "12h               508.0      11.4 °C  1021.1hPa      20 km  \n",
       "11h               219.0      11.8 °C  1021.3hPa      20 km  \n",
       "10h                81.0      12.3 °C  1021.1hPa      20 km  \n",
       "09h                42.0      12.2 °C  1020.6hPa      20 km  \n",
       "08h                 3.0        12 °C  1020.6hPa      20 km  \n",
       "07h                 NaN      11.9 °C  1020.3hPa      20 km  \n",
       "06h                 NaN      11.9 °C  1020.4hPa      20 km  \n",
       "05h                 NaN      11.7 °C  1020.7hPa      20 km  \n",
       "04h                 NaN      11.2 °C  1021.2hPa      20 km  \n",
       "03h                 NaN        11 °C  1021.3hPa      20 km  \n",
       "02h                 NaN      10.1 °C  1021.6hPa      20 km  "
      ]
     },
     "execution_count": 18,
     "metadata": {},
     "output_type": "execute_result"
    }
   ],
   "source": [
    "table = soup.find_all(lambda tag: tag.name=='table')\n",
    "\n",
    "df = pd.read_html(str(table))[1] #On choisit le bon tableau de valeurs\n",
    "df = df.set_index('Heure locale') #Change index pour des heures\n",
    "df = df.drop(columns=['Unnamed: 1']) #Drop colonne inutile\n",
    "df.loc[df.index[16], 'Bio-météo'] = (df.loc[df.index[15], 'Bio-météo']+df.loc[df.index[17], 'Bio-météo'])/2 #Remplace NaN valeur par moyenne\n",
    "df.insert(1,'MinMax',df['Température'].map(minmax)) #Séparation colonne Température et MinMax\n",
    "df['Température'] = df['Température'].map(temp)\n",
    "df.insert(4,'Rafales',df['Vent'].map(raf)) #Séparation colonne Vent et Rafale\n",
    "df['Vent'] = df['Vent'].map(vent)\n",
    "\n",
    "df"
   ]
  },
  {
   "cell_type": "markdown",
   "metadata": {},
   "source": [
    "### To help you: Define a function that allows you to retrieve the value of row i and column j of the table"
   ]
  },
  {
   "cell_type": "code",
   "execution_count": 19,
   "metadata": {},
   "outputs": [],
   "source": [
    "def getVal(df,x,y):\n",
    "    val = df.loc[df.index[x], df.columns[y]]\n",
    "    return val"
   ]
  },
  {
   "cell_type": "code",
   "execution_count": 20,
   "metadata": {},
   "outputs": [
    {
     "name": "stdout",
     "output_type": "stream",
     "text": [
      "La valeur à 01h, ligne 0, et à la colonne Température, colonne 0, est : 13.9°C\n"
     ]
    }
   ],
   "source": [
    "x = 0\n",
    "y = 0\n",
    "val = getVal(df,x,y)\n",
    "print(f\"La valeur à {df.index[x]}, ligne {x}, et à la colonne {df.columns[y]}, colonne {x}, est : {val}\")"
   ]
  }
 ],
 "metadata": {
  "kernelspec": {
   "display_name": "Python 3",
   "language": "python",
   "name": "python3"
  },
  "language_info": {
   "codemirror_mode": {
    "name": "ipython",
    "version": 3
   },
   "file_extension": ".py",
   "mimetype": "text/x-python",
   "name": "python",
   "nbconvert_exporter": "python",
   "pygments_lexer": "ipython3",
   "version": "3.8.5"
  }
 },
 "nbformat": 4,
 "nbformat_minor": 5
}
