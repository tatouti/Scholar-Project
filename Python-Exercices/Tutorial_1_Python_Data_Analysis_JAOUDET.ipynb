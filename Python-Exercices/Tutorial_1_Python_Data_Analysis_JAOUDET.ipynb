{
 "cells": [
  {
   "cell_type": "markdown",
   "metadata": {
    "colab_type": "text",
    "id": "view-in-github"
   },
   "source": [
    "<a href=\"https://colab.research.google.com/github/SushiFou/Python_4_Data_Analysis/blob/main/tutorials/tutorial_1/Tutorial_1_Python_Data_Analysis.ipynb\" target=\"_parent\"><img src=\"https://colab.research.google.com/assets/colab-badge.svg\" alt=\"Open In Colab\"/></a>"
   ]
  },
  {
   "cell_type": "markdown",
   "metadata": {
    "id": "vDFIUnEwTEap"
   },
   "source": [
    "# Tutorial 1 - Python For Data Analysis 🐍 \n",
    "\n",
    "---\n",
    "\n",
    "## Basics of Python 🌱 "
   ]
  },
  {
   "cell_type": "markdown",
   "metadata": {
    "id": "4vZmx4svsEWM"
   },
   "source": [
    "### *Table of Contents*\n",
    "\n",
    "- [Exercise 1](#exercise-1) : List\n",
    "- [Exercise 2](#exercise-2) : Lambda\n",
    "- [Exercise 3](#exercise-3) : Dictionary\n",
    "- [Exercise 4](#exercise-4) : Tuples, Sets\n",
    "- [Exercice 5](#exercise-5) : Dates\n",
    "- [Exercise 6](#exercise-6) : File I/O\n",
    "\n",
    "If you have any questions or remarks about the course or this tutorial, feel free to contact imen.ouled_dlala@devinci.fr or yann.kervella.pro@gmail.com ! 😊"
   ]
  },
  {
   "cell_type": "markdown",
   "metadata": {
    "id": "FLqTjhd4y0Ts"
   },
   "source": [
    "### Requirements"
   ]
  },
  {
   "cell_type": "code",
   "execution_count": 1,
   "metadata": {
    "id": "690W_WeZyzqk"
   },
   "outputs": [],
   "source": [
    "from datetime import datetime, date, time, timedelta\n",
    "import pytz\n",
    "import re"
   ]
  },
  {
   "cell_type": "markdown",
   "metadata": {
    "id": "JpFs22a7YTve"
   },
   "source": [
    "<a name=\"exercise-1\">\n",
    "\n",
    "### Exercise 1 : List\n",
    "---\n",
    "\n",
    "• Write a program to print a specified list after removing the 0th, 4th and 5th elements. \n",
    "\n",
    "- *Sample List*: ['Red', 'Green', 'White', 'Black', 'Pink', 'Yellow']\n",
    "\n",
    "- *Expected Output*: ['Green', 'White', 'Black']\n",
    "\n",
    "\n"
   ]
  },
  {
   "cell_type": "code",
   "execution_count": 2,
   "metadata": {
    "id": "tll-PnLLp3Dr"
   },
   "outputs": [
    {
     "data": {
      "text/plain": [
       "['Green', 'White', 'Black']"
      ]
     },
     "execution_count": 2,
     "metadata": {},
     "output_type": "execute_result"
    }
   ],
   "source": [
    "liste = ['Red', 'Green', 'White', 'Black', 'Pink', 'Yellow']\n",
    "liste[1:4]"
   ]
  },
  {
   "cell_type": "markdown",
   "metadata": {
    "id": "L-kRPYHtpyn6"
   },
   "source": [
    "• Write a program to check whether two lists are circularly identical.\n"
   ]
  },
  {
   "cell_type": "code",
   "execution_count": 3,
   "metadata": {
    "id": "jN8JwO1Sp3n9"
   },
   "outputs": [
    {
     "name": "stdout",
     "output_type": "stream",
     "text": [
      "Egaux\n",
      "ERROR TAILLE\n"
     ]
    }
   ],
   "source": [
    "l1 = [1,2,3]\n",
    "l2 = [1,2,3]\n",
    "l3 = [2,4,5]\n",
    "l4 = [1,2,3,4]\n",
    "def exo(l1,l2):\n",
    "    a = max(len(l1),len(l2))\n",
    "    try:\n",
    "        for i in range(0,a):\n",
    "            if(l1[i]!=l2[i]):\n",
    "                print(\"Différents\")\n",
    "                break\n",
    "            if(i==len(l1)-1):\n",
    "                print(\"Egaux\")  \n",
    "    except:\n",
    "        print(\"ERROR TAILLE\")\n",
    "exo(l1,l4)"
   ]
  },
  {
   "cell_type": "markdown",
   "metadata": {
    "id": "labqqrPEp0WZ"
   },
   "source": [
    "• Giving the following list [33, 56, 4, 80, 23, 100, 1, 0, 40, 11], write a program to extract:\n",
    "- the elements from 0 (included) to 7 (excluded)\n",
    "- the last element of the list\n",
    "- the last 3 elements of the list\n",
    "\n",
    "\n"
   ]
  },
  {
   "cell_type": "code",
   "execution_count": 4,
   "metadata": {
    "id": "KxqdxuKep4B6"
   },
   "outputs": [],
   "source": [
    "tab = [33, 56, 4, 80, 23, 100, 1, 0, 40, 11]\n",
    "tab1 = tab[0:7]\n",
    "last = tab[len(tab)-1]\n",
    "last3 = tab[-3:]"
   ]
  },
  {
   "cell_type": "code",
   "execution_count": 5,
   "metadata": {},
   "outputs": [
    {
     "data": {
      "text/plain": [
       "[33, 56, 4, 80, 23, 100, 1]"
      ]
     },
     "execution_count": 5,
     "metadata": {},
     "output_type": "execute_result"
    }
   ],
   "source": [
    "tab1"
   ]
  },
  {
   "cell_type": "code",
   "execution_count": 6,
   "metadata": {},
   "outputs": [
    {
     "data": {
      "text/plain": [
       "11"
      ]
     },
     "execution_count": 6,
     "metadata": {},
     "output_type": "execute_result"
    }
   ],
   "source": [
    "last"
   ]
  },
  {
   "cell_type": "code",
   "execution_count": 7,
   "metadata": {},
   "outputs": [
    {
     "data": {
      "text/plain": [
       "[0, 40, 11]"
      ]
     },
     "execution_count": 7,
     "metadata": {},
     "output_type": "execute_result"
    }
   ],
   "source": [
    "last3"
   ]
  },
  {
   "cell_type": "markdown",
   "metadata": {
    "id": "_71yk3m5p2ZL"
   },
   "source": [
    "• Write a program to get a list, sorted in increasing order by the last element in each tuple from a given list of non-empty tuples.\n",
    "\n",
    "- *Sample List* : [(2, 5), (1, 2), (4, 4), (2, 3), (2, 1)] \n",
    "\n",
    "- *Expected Result* : [(2, 1), (1, 2), (2, 3), (4, 4), (2, 5)]"
   ]
  },
  {
   "cell_type": "code",
   "execution_count": 8,
   "metadata": {
    "id": "Kilm6EzSp4mV"
   },
   "outputs": [
    {
     "data": {
      "text/plain": [
       "[(2, 1), (1, 2), (2, 3), (4, 4), (2, 5)]"
      ]
     },
     "execution_count": 8,
     "metadata": {},
     "output_type": "execute_result"
    }
   ],
   "source": [
    "sample = [(2, 5), (1, 2), (4, 4), (2, 3), (2, 1)]\n",
    "sample.sort(key=lambda x:x[1])\n",
    "sample"
   ]
  },
  {
   "cell_type": "markdown",
   "metadata": {
    "id": "EzJfdnlaT0cp"
   },
   "source": [
    "<a name=\"exercise-2\">\n",
    "\n",
    "### Exercise 2\n",
    "---\n",
    "\n",
    "• Write a program to **square and cube** every number in a given list of integers using **Lambda**.\n",
    "\n",
    "- Original list of integers:\n",
    "[1, 2, 3, 4, 5, 6, 7, 8, 9, 10]\n",
    "\n",
    "- Square every number of the said list:\n",
    "[1, 4, 9, 16, 25, 36, 49, 64, 81, 100]\n",
    "\n",
    "- Cube every number of the said list:\n",
    "[1, 8, 27, 64, 125, 216, 343, 512, 729, 1000]"
   ]
  },
  {
   "cell_type": "code",
   "execution_count": 9,
   "metadata": {
    "id": "1ebs9VAuqGCX"
   },
   "outputs": [
    {
     "name": "stdout",
     "output_type": "stream",
     "text": [
      "[1, 4, 9, 16, 25, 36, 49, 64, 81, 100]\n",
      "[1, 8, 27, 64, 125, 216, 343, 512, 729, 1000]\n"
     ]
    }
   ],
   "source": [
    "my_list = [1, 2, 3, 4, 5, 6, 7, 8, 9, 10]\n",
    "def square(l,n):\n",
    "    return list(map(lambda x:x**n,l))\n",
    "print(square(my_list,2))\n",
    "print(square(my_list,3))"
   ]
  },
  {
   "cell_type": "markdown",
   "metadata": {
    "id": "Mb25kK7nTD26"
   },
   "source": [
    "<a name=\"exercise-3\">\n",
    "\n",
    "### Exercise 3 : Dictionary\n",
    "\n",
    "---\n",
    "\n",
    "• Write a script to check whether a given key already exists in a dictionary.\n",
    "\n"
   ]
  },
  {
   "cell_type": "code",
   "execution_count": 10,
   "metadata": {
    "id": "4a11mMGSjNse"
   },
   "outputs": [],
   "source": [
    "sample_dict = {\"name\": \"Jefferson\", \"birth_date\": \"1999-21-09\", \"gender\": \"Male\"}"
   ]
  },
  {
   "cell_type": "code",
   "execution_count": 11,
   "metadata": {
    "id": "z6Lw29geqvse"
   },
   "outputs": [
    {
     "name": "stdout",
     "output_type": "stream",
     "text": [
      "La clef name est True\n",
      "La clef nam est False\n"
     ]
    }
   ],
   "source": [
    "def checkKey(dict,clef):\n",
    "    state = False\n",
    "    liste = list(dict.keys())\n",
    "    for i in liste:\n",
    "        if(clef==i):\n",
    "            state = True\n",
    "            break\n",
    "    return state\n",
    "clef = \"name\"\n",
    "print(f\"La clef {clef} est {checkKey(sample_dict,clef)}\")\n",
    "clef = \"nam\"\n",
    "print(f\"La clef {clef} est {checkKey(sample_dict,clef)}\")"
   ]
  },
  {
   "cell_type": "markdown",
   "metadata": {
    "id": "bNakccKyqyIE"
   },
   "source": [
    "• Write a program to iterate over dictionaries using for loops.\n"
   ]
  },
  {
   "cell_type": "code",
   "execution_count": 12,
   "metadata": {
    "id": "Yey6IhTiqaPQ"
   },
   "outputs": [
    {
     "name": "stdout",
     "output_type": "stream",
     "text": [
      "Clef : name , Valeur : Jefferson\n",
      "Clef : birth_date , Valeur : 1999-21-09\n",
      "Clef : gender , Valeur : Male\n"
     ]
    }
   ],
   "source": [
    "def iterate(dicti):\n",
    "    for i in dicti:\n",
    "        print(f\"Clef : {i} , Valeur : {dicti[i]}\")\n",
    "iterate(sample_dict)"
   ]
  },
  {
   "cell_type": "markdown",
   "metadata": {
    "id": "lboerwu5qzhj"
   },
   "source": [
    "• Write a script to generate and print a dictionary that contains a number (between 1 and n) in the form (x, x*x).\n",
    "\n",
    "- Sample Dictionary: (n = 5)\n",
    "- Expected Output: {1: 1, 2: 4, 3: 9, 4: 16, 5: 25}\n"
   ]
  },
  {
   "cell_type": "code",
   "execution_count": 13,
   "metadata": {
    "id": "WaMO5zivqz1c"
   },
   "outputs": [
    {
     "name": "stdout",
     "output_type": "stream",
     "text": [
      "{1: 1, 2: 4, 3: 9, 4: 16, 5: 25}\n"
     ]
    }
   ],
   "source": [
    "taille = 5\n",
    "def genDict(taille):\n",
    "    dicti = {}\n",
    "    for i in range(1,taille+1):\n",
    "        dicti[i] = i*i\n",
    "    return dicti\n",
    "print(genDict(taille))"
   ]
  },
  {
   "cell_type": "markdown",
   "metadata": {
    "id": "LUlJTVINq34S"
   },
   "source": [
    "• Write a program to map two lists into a dictionary."
   ]
  },
  {
   "cell_type": "code",
   "execution_count": 14,
   "metadata": {
    "id": "sSIY9O9wjUK9"
   },
   "outputs": [
    {
     "name": "stdout",
     "output_type": "stream",
     "text": [
      "{'name': 'Jessica', 'birth_date': '1999-04-05', 'gender': 'Female'}\n"
     ]
    }
   ],
   "source": [
    "list1 = [\"name\", \"birth_date\", \"gender\"]\n",
    "list2 = [\"Jessica\", \"1999-04-05\", \"Female\"]\n",
    "color_dictionary = dict(zip(list1, list2))\n",
    "print(color_dictionary)"
   ]
  },
  {
   "cell_type": "markdown",
   "metadata": {
    "id": "RfTIualkqLuO"
   },
   "source": [
    "<a name=\"exercise-4\">\n",
    "\n",
    "### Exercise 4 : Tuples & Sets\n",
    "\n",
    "---\n",
    "• Write a program to compute element-wise sum of given tuples. \n",
    "- Original lists:\n",
    "(1, 2, 3, 4) (3, 5, 2, 1) (2, 2, 3, 1)\n",
    "- Element-wise sum of the said tuples:\n",
    "(6, 9, 8, 6)"
   ]
  },
  {
   "cell_type": "code",
   "execution_count": 15,
   "metadata": {
    "id": "HX51VZZTqai7"
   },
   "outputs": [
    {
     "name": "stdout",
     "output_type": "stream",
     "text": [
      "Tuple final : (6, 9, 8, 6)\n"
     ]
    }
   ],
   "source": [
    "t1 = [1,2,3,4]\n",
    "t2 = [3,5,2,1]\n",
    "t3 = [2,2,3,1]\n",
    "def compute(t1,t2,t3):\n",
    "    t4 = [None] * len(t1)\n",
    "    for i in range(len(t1)):\n",
    "        t4[i] = t1[i] + t2[i] + t3[i]\n",
    "    return tuple(t4)\n",
    "print(f\"Tuple final : {compute(t1,t2,t3)}\")"
   ]
  },
  {
   "cell_type": "markdown",
   "metadata": {
    "id": "c8JK4pWBrDXY"
   },
   "source": [
    "• Write a Python program to convert a tuple to a dictionary"
   ]
  },
  {
   "cell_type": "code",
   "execution_count": 16,
   "metadata": {
    "id": "-bmqgodFrENX"
   },
   "outputs": [
    {
     "name": "stdout",
     "output_type": "stream",
     "text": [
      "Le tuple est ((11, 'eleven'), (21, 'mike'), (19, 'dustin'), (46, 'caleb')) \n",
      "Le dictionnaire est {11: 'eleven', 21: 'mike', 19: 'dustin', 46: 'caleb'}\n"
     ]
    }
   ],
   "source": [
    "tup = ((11, \"eleven\"), (21, \"mike\"), (19, \"dustin\"), (46, \"caleb\"))\n",
    "def conv(tup):\n",
    "    dct = dict((x, y) for x, y in tup)\n",
    "    return dct\n",
    "print(f\"Le tuple est {tup} \\nLe dictionnaire est {conv(tup)}\")"
   ]
  },
  {
   "cell_type": "markdown",
   "metadata": {
    "id": "pLvO5ho7qMIq"
   },
   "source": [
    "<a name=\"exercise-5\">\n",
    "\n",
    "### Exercise 5 : Dates\n",
    "\n",
    "---\n",
    "• Write a Python program to get the current time. \n",
    "- Sample Format: 13:19:49.078205"
   ]
  },
  {
   "cell_type": "code",
   "execution_count": 17,
   "metadata": {
    "id": "Kpi8L46Aqa2n"
   },
   "outputs": [
    {
     "name": "stdout",
     "output_type": "stream",
     "text": [
      "Now = 21:57:44.888428\n"
     ]
    }
   ],
   "source": [
    "from datetime import datetime\n",
    "\n",
    "#now = datetime.now()\n",
    "#current_time = now.strftime(\"%H:%M:%S:%D\")\n",
    "now = datetime.now().time() # time object\n",
    "print(\"Now =\", now)"
   ]
  },
  {
   "cell_type": "markdown",
   "metadata": {
    "id": "9jSxS7yGrJdy"
   },
   "source": [
    "• Write a Python program to subtract five days from current date. \n",
    "- Sample Date:\n",
    "- Current Date: 2015-06-22\n",
    "- 5 days before Current Date : 2015-06-1"
   ]
  },
  {
   "cell_type": "code",
   "execution_count": 18,
   "metadata": {
    "id": "xmGmeZzGrJxT"
   },
   "outputs": [
    {
     "name": "stdout",
     "output_type": "stream",
     "text": [
      "Jour de départ : 2022-09-20\n",
      "Jour après changement de -5 days, 0:00:00 : 2022-09-15\n"
     ]
    }
   ],
   "source": [
    "from datetime import datetime\n",
    "delta = timedelta(days=-5)\n",
    "def changeTime(delta):\n",
    "    now = datetime.now()\n",
    "    now = now + delta\n",
    "    return now.date()\n",
    "    \n",
    "print(f\"Jour de départ : {datetime.now().date()}\")\n",
    "print(f\"Jour après changement de {delta} : {changeTime(delta)}\")\n"
   ]
  },
  {
   "cell_type": "markdown",
   "metadata": {
    "id": "jf5pU_5frJ9k"
   },
   "source": [
    "• Write a Python program to print yesterday, today, tomorrow"
   ]
  },
  {
   "cell_type": "code",
   "execution_count": 19,
   "metadata": {
    "id": "pnfsJE_DrLN7"
   },
   "outputs": [
    {
     "name": "stdout",
     "output_type": "stream",
     "text": [
      "Hier : 2022-09-19\n",
      "Aujourd'hui : 2022-09-20\n",
      "Deamin : 2022-09-21\n"
     ]
    }
   ],
   "source": [
    "print(f\"Hier : {changeTime(timedelta(days=-1))}\")\n",
    "print(f\"Aujourd'hui : {changeTime(timedelta(days=0))}\")\n",
    "print(f\"Deamin : {changeTime(timedelta(days=1))}\")"
   ]
  },
  {
   "cell_type": "markdown",
   "metadata": {
    "id": "9PDdb6vqrLcJ"
   },
   "source": [
    "• Write a Python program to get week number.\n",
    "- Sample Date : 2015, 6, 16 \n",
    "- Expected Output : 25"
   ]
  },
  {
   "cell_type": "code",
   "execution_count": 20,
   "metadata": {
    "id": "jwEi-R9jrL1y"
   },
   "outputs": [
    {
     "name": "stdout",
     "output_type": "stream",
     "text": [
      "Le jour 2015-06-16 correspond a la semaine numéro :  25\n"
     ]
    }
   ],
   "source": [
    "print(\"Le jour\",datetime(2015, 6, 16).date(), \"correspond a la semaine numéro : \",datetime(2015, 6, 16).strftime(\"%V\"))"
   ]
  },
  {
   "cell_type": "markdown",
   "metadata": {
    "id": "Ax4N_WSLrdA7"
   },
   "source": [
    "• Write a Python program to calculate a number of days between two dates"
   ]
  },
  {
   "cell_type": "code",
   "execution_count": 21,
   "metadata": {
    "id": "AeMcc8ePrd95"
   },
   "outputs": [
    {
     "name": "stdout",
     "output_type": "stream",
     "text": [
      "Ecart entre 2022-08-18 et 2022-09-20 est de 33 jours\n"
     ]
    }
   ],
   "source": [
    "d0 = date(2022, 8, 18)\n",
    "d1 = datetime.now().date()\n",
    "delta = d1 - d0\n",
    "print(f\"Ecart entre {d0} et {d1} est de {delta.days} jours\")"
   ]
  },
  {
   "cell_type": "markdown",
   "metadata": {
    "id": "CyHCE-dZqMb-"
   },
   "source": [
    "<a name=\"exercise-6\">\n",
    "\n",
    "### Exercise 6 : File I/O\n",
    "\n",
    "---\n",
    "• Write a Python program to count the number of lines in a text file"
   ]
  },
  {
   "cell_type": "code",
   "execution_count": 22,
   "metadata": {
    "id": "t98dO2T0qbHK"
   },
   "outputs": [
    {
     "name": "stdout",
     "output_type": "stream",
     "text": [
      "Le texte possède 2 lignes\n"
     ]
    }
   ],
   "source": [
    "f = open(\"testTxt.txt\",\"r\")\n",
    "lines = f.readlines()\n",
    "print(f\"Le texte possède {len(lines)} lignes\")\n",
    "f.close()"
   ]
  },
  {
   "cell_type": "markdown",
   "metadata": {
    "id": "n19_Rg0sqf6H"
   },
   "source": [
    "• Write a Python program to assess if a file is closed or not\n"
   ]
  },
  {
   "cell_type": "code",
   "execution_count": 23,
   "metadata": {
    "id": "6VKrc_1NqhKY"
   },
   "outputs": [
    {
     "name": "stdout",
     "output_type": "stream",
     "text": [
      "Fichier fermé\n"
     ]
    }
   ],
   "source": [
    "state = f.closed\n",
    "if(state==False):\n",
    "    print(\"Fichier ouvert\")\n",
    "else:\n",
    "    print(\"Fichier fermé\")"
   ]
  },
  {
   "cell_type": "markdown",
   "metadata": {
    "id": "WxgHAFb4qhnC"
   },
   "source": [
    "• Write a Python program to append text to a file and display the text\n"
   ]
  },
  {
   "cell_type": "code",
   "execution_count": 24,
   "metadata": {
    "id": "OR-DpP9BqivV"
   },
   "outputs": [
    {
     "name": "stdout",
     "output_type": "stream",
     "text": [
      "Bonjour\n",
      "\n",
      "Je m'appelle Theo\n",
      "\n",
      "Nouveau texte\n",
      "Bonjour\n",
      "\n",
      "Je m'appelle Theo\n",
      "\n",
      "J'ai 21 ans\n",
      "\n",
      "Je suis en DIA\n"
     ]
    }
   ],
   "source": [
    "w = open(\"testTxt.txt\",\"r+\")\n",
    "lines = w.readlines()\n",
    "for i in lines:\n",
    "    print(i)\n",
    "w.write(\"\\nJ'ai 21 ans\")\n",
    "w.write(\"\\nJe suis en DIA\")\n",
    "w.close()\n",
    "print(\"\\nNouveau texte\")\n",
    "w = open(\"testTxt.txt\",\"r\")\n",
    "lines = w.readlines()\n",
    "for i in lines:\n",
    "    print(i)\n",
    "w.close()"
   ]
  },
  {
   "cell_type": "markdown",
   "metadata": {
    "id": "ZEt-WWckqjSN"
   },
   "source": [
    "• Write a Python program to count the frequency of words in a file."
   ]
  },
  {
   "cell_type": "code",
   "execution_count": 25,
   "metadata": {
    "id": "fWXNHF6LqkId"
   },
   "outputs": [
    {
     "name": "stdout",
     "output_type": "stream",
     "text": [
      "['bonjour', 'je', \"m'appelle\", 'theo', \"j'ai\", '21', 'ans', 'je', 'suis', 'en', 'dia']\n",
      "{'bonjour': 1, 'je': 2, \"m'appelle\": 1, 'theo': 1, \"j'ai\": 1, '21': 1, 'ans': 1, 'suis': 1, 'en': 1, 'dia': 1}\n"
     ]
    }
   ],
   "source": [
    "def countW(path):\n",
    "    dicti = {}\n",
    "    f = open(path,\"r\")\n",
    "    lines = f.read().lower()\n",
    "    liste = lines.split()\n",
    "    print(liste)\n",
    "    for i in liste:\n",
    "        if(i in dicti.keys()):\n",
    "            dicti[i] +=1\n",
    "        else:\n",
    "            dicti[i] = 1\n",
    "    f.close()\n",
    "    return dicti\n",
    "print(countW(\"testTxt.txt\"))\n",
    "#print(f\"Il y a {countW(word,\"testTxt.txt\")} fois le mot {word}\")"
   ]
  },
  {
   "cell_type": "markdown",
   "metadata": {
    "id": "GhMKdGQwi9gA"
   },
   "source": [
    "## Good job, you finished the first tutorial ! 😎"
   ]
  }
 ],
 "metadata": {
  "colab": {
   "authorship_tag": "ABX9TyOsk8AdOFOg/2ese/ifSCq3",
   "include_colab_link": true,
   "name": "Tutorial_1_Python_Data_Analysis.ipynb",
   "provenance": [],
   "toc_visible": true
  },
  "kernelspec": {
   "display_name": "Python 3",
   "language": "python",
   "name": "python3"
  },
  "language_info": {
   "codemirror_mode": {
    "name": "ipython",
    "version": 3
   },
   "file_extension": ".py",
   "mimetype": "text/x-python",
   "name": "python",
   "nbconvert_exporter": "python",
   "pygments_lexer": "ipython3",
   "version": "3.8.5"
  },
  "vscode": {
   "interpreter": {
    "hash": "b0fa6594d8f4cbf19f97940f81e996739fb7646882a419484c72d19e05852a7e"
   }
  }
 },
 "nbformat": 4,
 "nbformat_minor": 1
}
