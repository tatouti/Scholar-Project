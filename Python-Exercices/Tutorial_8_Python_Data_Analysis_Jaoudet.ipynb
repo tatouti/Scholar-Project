{
 "cells": [
  {
   "cell_type": "markdown",
   "metadata": {
    "id": "SCdJqAFfiOqE"
   },
   "source": [
    "# Tutorial 8 - Python For Data Analysis 🐍 \n",
    "\n",
    "---\n",
    "\n",
    "## Scikit Learn 💫"
   ]
  },
  {
   "cell_type": "markdown",
   "metadata": {
    "id": "Hs9vhDobigi_"
   },
   "source": [
    "### *Table of Contents*\n",
    "\n",
    "- Supervised Learning 🔎\n",
    "  - [Exercise 1](#exercise-1) \n",
    "  - [Exercice 2](#exercise-2) "
   ]
  },
  {
   "cell_type": "markdown",
   "metadata": {
    "id": "sNte2IxeioDM"
   },
   "source": [
    "## Requirements"
   ]
  },
  {
   "cell_type": "code",
   "execution_count": 1,
   "metadata": {
    "id": "3moLlz1RiF1h"
   },
   "outputs": [],
   "source": [
    "from sklearn import datasets\n",
    "import pandas as pd\n",
    "import numpy as np\n",
    "import matplotlib.pyplot as plt \n",
    "\n",
    "import seaborn as sns \n",
    "\n",
    "%matplotlib inline"
   ]
  },
  {
   "cell_type": "markdown",
   "metadata": {
    "id": "rZRMVHA4ip7M"
   },
   "source": [
    "## Supervised Learning"
   ]
  },
  {
   "cell_type": "markdown",
   "metadata": {
    "id": "knAozH66ir9P"
   },
   "source": [
    "### Exercice 1\n",
    "---"
   ]
  },
  {
   "cell_type": "markdown",
   "metadata": {
    "id": "ANyKEhEEiuAr"
   },
   "source": [
    "#### 1) Load and return the boston dataset from sklearn.datasets"
   ]
  },
  {
   "cell_type": "code",
   "execution_count": 2,
   "metadata": {
    "id": "UFiX043KizRZ"
   },
   "outputs": [
    {
     "name": "stdout",
     "output_type": "stream",
     "text": [
      "dict_keys(['data', 'target', 'feature_names', 'DESCR', 'filename'])\n",
      ".. _boston_dataset:\n",
      "\n",
      "Boston house prices dataset\n",
      "---------------------------\n",
      "\n",
      "**Data Set Characteristics:**  \n",
      "\n",
      "    :Number of Instances: 506 \n",
      "\n",
      "    :Number of Attributes: 13 numeric/categorical predictive. Median Value (attribute 14) is usually the target.\n",
      "\n",
      "    :Attribute Information (in order):\n",
      "        - CRIM     per capita crime rate by town\n",
      "        - ZN       proportion of residential land zoned for lots over 25,000 sq.ft.\n",
      "        - INDUS    proportion of non-retail business acres per town\n",
      "        - CHAS     Charles River dummy variable (= 1 if tract bounds river; 0 otherwise)\n",
      "        - NOX      nitric oxides concentration (parts per 10 million)\n",
      "        - RM       average number of rooms per dwelling\n",
      "        - AGE      proportion of owner-occupied units built prior to 1940\n",
      "        - DIS      weighted distances to five Boston employment centres\n",
      "        - RAD      index of accessibility to radial highways\n",
      "        - TAX      full-value property-tax rate per $10,000\n",
      "        - PTRATIO  pupil-teacher ratio by town\n",
      "        - B        1000(Bk - 0.63)^2 where Bk is the proportion of blacks by town\n",
      "        - LSTAT    % lower status of the population\n",
      "        - MEDV     Median value of owner-occupied homes in $1000's\n",
      "\n",
      "    :Missing Attribute Values: None\n",
      "\n",
      "    :Creator: Harrison, D. and Rubinfeld, D.L.\n",
      "\n",
      "This is a copy of UCI ML housing dataset.\n",
      "https://archive.ics.uci.edu/ml/machine-learning-databases/housing/\n",
      "\n",
      "\n",
      "This dataset was taken from the StatLib library which is maintained at Carnegie Mellon University.\n",
      "\n",
      "The Boston house-price data of Harrison, D. and Rubinfeld, D.L. 'Hedonic\n",
      "prices and the demand for clean air', J. Environ. Economics & Management,\n",
      "vol.5, 81-102, 1978.   Used in Belsley, Kuh & Welsch, 'Regression diagnostics\n",
      "...', Wiley, 1980.   N.B. Various transformations are used in the table on\n",
      "pages 244-261 of the latter.\n",
      "\n",
      "The Boston house-price data has been used in many machine learning papers that address regression\n",
      "problems.   \n",
      "     \n",
      ".. topic:: References\n",
      "\n",
      "   - Belsley, Kuh & Welsch, 'Regression diagnostics: Identifying Influential Data and Sources of Collinearity', Wiley, 1980. 244-261.\n",
      "   - Quinlan,R. (1993). Combining Instance-Based and Model-Based Learning. In Proceedings on the Tenth International Conference of Machine Learning, 236-243, University of Massachusetts, Amherst. Morgan Kaufmann.\n",
      "\n"
     ]
    }
   ],
   "source": [
    "boston = datasets.load_boston()\n",
    "print(boston.keys())\n",
    "print(boston.DESCR)"
   ]
  },
  {
   "cell_type": "code",
   "execution_count": 3,
   "metadata": {},
   "outputs": [
    {
     "data": {
      "text/plain": [
       "{'data': array([[6.3200e-03, 1.8000e+01, 2.3100e+00, ..., 1.5300e+01, 3.9690e+02,\n",
       "         4.9800e+00],\n",
       "        [2.7310e-02, 0.0000e+00, 7.0700e+00, ..., 1.7800e+01, 3.9690e+02,\n",
       "         9.1400e+00],\n",
       "        [2.7290e-02, 0.0000e+00, 7.0700e+00, ..., 1.7800e+01, 3.9283e+02,\n",
       "         4.0300e+00],\n",
       "        ...,\n",
       "        [6.0760e-02, 0.0000e+00, 1.1930e+01, ..., 2.1000e+01, 3.9690e+02,\n",
       "         5.6400e+00],\n",
       "        [1.0959e-01, 0.0000e+00, 1.1930e+01, ..., 2.1000e+01, 3.9345e+02,\n",
       "         6.4800e+00],\n",
       "        [4.7410e-02, 0.0000e+00, 1.1930e+01, ..., 2.1000e+01, 3.9690e+02,\n",
       "         7.8800e+00]]),\n",
       " 'target': array([24. , 21.6, 34.7, 33.4, 36.2, 28.7, 22.9, 27.1, 16.5, 18.9, 15. ,\n",
       "        18.9, 21.7, 20.4, 18.2, 19.9, 23.1, 17.5, 20.2, 18.2, 13.6, 19.6,\n",
       "        15.2, 14.5, 15.6, 13.9, 16.6, 14.8, 18.4, 21. , 12.7, 14.5, 13.2,\n",
       "        13.1, 13.5, 18.9, 20. , 21. , 24.7, 30.8, 34.9, 26.6, 25.3, 24.7,\n",
       "        21.2, 19.3, 20. , 16.6, 14.4, 19.4, 19.7, 20.5, 25. , 23.4, 18.9,\n",
       "        35.4, 24.7, 31.6, 23.3, 19.6, 18.7, 16. , 22.2, 25. , 33. , 23.5,\n",
       "        19.4, 22. , 17.4, 20.9, 24.2, 21.7, 22.8, 23.4, 24.1, 21.4, 20. ,\n",
       "        20.8, 21.2, 20.3, 28. , 23.9, 24.8, 22.9, 23.9, 26.6, 22.5, 22.2,\n",
       "        23.6, 28.7, 22.6, 22. , 22.9, 25. , 20.6, 28.4, 21.4, 38.7, 43.8,\n",
       "        33.2, 27.5, 26.5, 18.6, 19.3, 20.1, 19.5, 19.5, 20.4, 19.8, 19.4,\n",
       "        21.7, 22.8, 18.8, 18.7, 18.5, 18.3, 21.2, 19.2, 20.4, 19.3, 22. ,\n",
       "        20.3, 20.5, 17.3, 18.8, 21.4, 15.7, 16.2, 18. , 14.3, 19.2, 19.6,\n",
       "        23. , 18.4, 15.6, 18.1, 17.4, 17.1, 13.3, 17.8, 14. , 14.4, 13.4,\n",
       "        15.6, 11.8, 13.8, 15.6, 14.6, 17.8, 15.4, 21.5, 19.6, 15.3, 19.4,\n",
       "        17. , 15.6, 13.1, 41.3, 24.3, 23.3, 27. , 50. , 50. , 50. , 22.7,\n",
       "        25. , 50. , 23.8, 23.8, 22.3, 17.4, 19.1, 23.1, 23.6, 22.6, 29.4,\n",
       "        23.2, 24.6, 29.9, 37.2, 39.8, 36.2, 37.9, 32.5, 26.4, 29.6, 50. ,\n",
       "        32. , 29.8, 34.9, 37. , 30.5, 36.4, 31.1, 29.1, 50. , 33.3, 30.3,\n",
       "        34.6, 34.9, 32.9, 24.1, 42.3, 48.5, 50. , 22.6, 24.4, 22.5, 24.4,\n",
       "        20. , 21.7, 19.3, 22.4, 28.1, 23.7, 25. , 23.3, 28.7, 21.5, 23. ,\n",
       "        26.7, 21.7, 27.5, 30.1, 44.8, 50. , 37.6, 31.6, 46.7, 31.5, 24.3,\n",
       "        31.7, 41.7, 48.3, 29. , 24. , 25.1, 31.5, 23.7, 23.3, 22. , 20.1,\n",
       "        22.2, 23.7, 17.6, 18.5, 24.3, 20.5, 24.5, 26.2, 24.4, 24.8, 29.6,\n",
       "        42.8, 21.9, 20.9, 44. , 50. , 36. , 30.1, 33.8, 43.1, 48.8, 31. ,\n",
       "        36.5, 22.8, 30.7, 50. , 43.5, 20.7, 21.1, 25.2, 24.4, 35.2, 32.4,\n",
       "        32. , 33.2, 33.1, 29.1, 35.1, 45.4, 35.4, 46. , 50. , 32.2, 22. ,\n",
       "        20.1, 23.2, 22.3, 24.8, 28.5, 37.3, 27.9, 23.9, 21.7, 28.6, 27.1,\n",
       "        20.3, 22.5, 29. , 24.8, 22. , 26.4, 33.1, 36.1, 28.4, 33.4, 28.2,\n",
       "        22.8, 20.3, 16.1, 22.1, 19.4, 21.6, 23.8, 16.2, 17.8, 19.8, 23.1,\n",
       "        21. , 23.8, 23.1, 20.4, 18.5, 25. , 24.6, 23. , 22.2, 19.3, 22.6,\n",
       "        19.8, 17.1, 19.4, 22.2, 20.7, 21.1, 19.5, 18.5, 20.6, 19. , 18.7,\n",
       "        32.7, 16.5, 23.9, 31.2, 17.5, 17.2, 23.1, 24.5, 26.6, 22.9, 24.1,\n",
       "        18.6, 30.1, 18.2, 20.6, 17.8, 21.7, 22.7, 22.6, 25. , 19.9, 20.8,\n",
       "        16.8, 21.9, 27.5, 21.9, 23.1, 50. , 50. , 50. , 50. , 50. , 13.8,\n",
       "        13.8, 15. , 13.9, 13.3, 13.1, 10.2, 10.4, 10.9, 11.3, 12.3,  8.8,\n",
       "         7.2, 10.5,  7.4, 10.2, 11.5, 15.1, 23.2,  9.7, 13.8, 12.7, 13.1,\n",
       "        12.5,  8.5,  5. ,  6.3,  5.6,  7.2, 12.1,  8.3,  8.5,  5. , 11.9,\n",
       "        27.9, 17.2, 27.5, 15. , 17.2, 17.9, 16.3,  7. ,  7.2,  7.5, 10.4,\n",
       "         8.8,  8.4, 16.7, 14.2, 20.8, 13.4, 11.7,  8.3, 10.2, 10.9, 11. ,\n",
       "         9.5, 14.5, 14.1, 16.1, 14.3, 11.7, 13.4,  9.6,  8.7,  8.4, 12.8,\n",
       "        10.5, 17.1, 18.4, 15.4, 10.8, 11.8, 14.9, 12.6, 14.1, 13. , 13.4,\n",
       "        15.2, 16.1, 17.8, 14.9, 14.1, 12.7, 13.5, 14.9, 20. , 16.4, 17.7,\n",
       "        19.5, 20.2, 21.4, 19.9, 19. , 19.1, 19.1, 20.1, 19.9, 19.6, 23.2,\n",
       "        29.8, 13.8, 13.3, 16.7, 12. , 14.6, 21.4, 23. , 23.7, 25. , 21.8,\n",
       "        20.6, 21.2, 19.1, 20.6, 15.2,  7. ,  8.1, 13.6, 20.1, 21.8, 24.5,\n",
       "        23.1, 19.7, 18.3, 21.2, 17.5, 16.8, 22.4, 20.6, 23.9, 22. , 11.9]),\n",
       " 'feature_names': array(['CRIM', 'ZN', 'INDUS', 'CHAS', 'NOX', 'RM', 'AGE', 'DIS', 'RAD',\n",
       "        'TAX', 'PTRATIO', 'B', 'LSTAT'], dtype='<U7'),\n",
       " 'DESCR': \".. _boston_dataset:\\n\\nBoston house prices dataset\\n---------------------------\\n\\n**Data Set Characteristics:**  \\n\\n    :Number of Instances: 506 \\n\\n    :Number of Attributes: 13 numeric/categorical predictive. Median Value (attribute 14) is usually the target.\\n\\n    :Attribute Information (in order):\\n        - CRIM     per capita crime rate by town\\n        - ZN       proportion of residential land zoned for lots over 25,000 sq.ft.\\n        - INDUS    proportion of non-retail business acres per town\\n        - CHAS     Charles River dummy variable (= 1 if tract bounds river; 0 otherwise)\\n        - NOX      nitric oxides concentration (parts per 10 million)\\n        - RM       average number of rooms per dwelling\\n        - AGE      proportion of owner-occupied units built prior to 1940\\n        - DIS      weighted distances to five Boston employment centres\\n        - RAD      index of accessibility to radial highways\\n        - TAX      full-value property-tax rate per $10,000\\n        - PTRATIO  pupil-teacher ratio by town\\n        - B        1000(Bk - 0.63)^2 where Bk is the proportion of blacks by town\\n        - LSTAT    % lower status of the population\\n        - MEDV     Median value of owner-occupied homes in $1000's\\n\\n    :Missing Attribute Values: None\\n\\n    :Creator: Harrison, D. and Rubinfeld, D.L.\\n\\nThis is a copy of UCI ML housing dataset.\\nhttps://archive.ics.uci.edu/ml/machine-learning-databases/housing/\\n\\n\\nThis dataset was taken from the StatLib library which is maintained at Carnegie Mellon University.\\n\\nThe Boston house-price data of Harrison, D. and Rubinfeld, D.L. 'Hedonic\\nprices and the demand for clean air', J. Environ. Economics & Management,\\nvol.5, 81-102, 1978.   Used in Belsley, Kuh & Welsch, 'Regression diagnostics\\n...', Wiley, 1980.   N.B. Various transformations are used in the table on\\npages 244-261 of the latter.\\n\\nThe Boston house-price data has been used in many machine learning papers that address regression\\nproblems.   \\n     \\n.. topic:: References\\n\\n   - Belsley, Kuh & Welsch, 'Regression diagnostics: Identifying Influential Data and Sources of Collinearity', Wiley, 1980. 244-261.\\n   - Quinlan,R. (1993). Combining Instance-Based and Model-Based Learning. In Proceedings on the Tenth International Conference of Machine Learning, 236-243, University of Massachusetts, Amherst. Morgan Kaufmann.\\n\",\n",
       " 'filename': 'C:\\\\Users\\\\theoj\\\\anaconda3\\\\lib\\\\site-packages\\\\sklearn\\\\datasets\\\\data\\\\boston_house_prices.csv'}"
      ]
     },
     "execution_count": 3,
     "metadata": {},
     "output_type": "execute_result"
    }
   ],
   "source": [
    "boston"
   ]
  },
  {
   "cell_type": "code",
   "execution_count": 4,
   "metadata": {},
   "outputs": [
    {
     "data": {
      "text/html": [
       "<div>\n",
       "<style scoped>\n",
       "    .dataframe tbody tr th:only-of-type {\n",
       "        vertical-align: middle;\n",
       "    }\n",
       "\n",
       "    .dataframe tbody tr th {\n",
       "        vertical-align: top;\n",
       "    }\n",
       "\n",
       "    .dataframe thead th {\n",
       "        text-align: right;\n",
       "    }\n",
       "</style>\n",
       "<table border=\"1\" class=\"dataframe\">\n",
       "  <thead>\n",
       "    <tr style=\"text-align: right;\">\n",
       "      <th></th>\n",
       "      <th>CRIM</th>\n",
       "      <th>ZN</th>\n",
       "      <th>INDUS</th>\n",
       "      <th>CHAS</th>\n",
       "      <th>NOX</th>\n",
       "      <th>RM</th>\n",
       "      <th>AGE</th>\n",
       "      <th>DIS</th>\n",
       "      <th>RAD</th>\n",
       "      <th>TAX</th>\n",
       "      <th>PTRATIO</th>\n",
       "      <th>B</th>\n",
       "      <th>LSTAT</th>\n",
       "      <th>MEDV</th>\n",
       "    </tr>\n",
       "  </thead>\n",
       "  <tbody>\n",
       "    <tr>\n",
       "      <th>0</th>\n",
       "      <td>0.00632</td>\n",
       "      <td>18.0</td>\n",
       "      <td>2.31</td>\n",
       "      <td>0.0</td>\n",
       "      <td>0.538</td>\n",
       "      <td>6.575</td>\n",
       "      <td>65.2</td>\n",
       "      <td>4.0900</td>\n",
       "      <td>1.0</td>\n",
       "      <td>296.0</td>\n",
       "      <td>15.3</td>\n",
       "      <td>396.90</td>\n",
       "      <td>4.98</td>\n",
       "      <td>24.0</td>\n",
       "    </tr>\n",
       "    <tr>\n",
       "      <th>1</th>\n",
       "      <td>0.02731</td>\n",
       "      <td>0.0</td>\n",
       "      <td>7.07</td>\n",
       "      <td>0.0</td>\n",
       "      <td>0.469</td>\n",
       "      <td>6.421</td>\n",
       "      <td>78.9</td>\n",
       "      <td>4.9671</td>\n",
       "      <td>2.0</td>\n",
       "      <td>242.0</td>\n",
       "      <td>17.8</td>\n",
       "      <td>396.90</td>\n",
       "      <td>9.14</td>\n",
       "      <td>21.6</td>\n",
       "    </tr>\n",
       "    <tr>\n",
       "      <th>2</th>\n",
       "      <td>0.02729</td>\n",
       "      <td>0.0</td>\n",
       "      <td>7.07</td>\n",
       "      <td>0.0</td>\n",
       "      <td>0.469</td>\n",
       "      <td>7.185</td>\n",
       "      <td>61.1</td>\n",
       "      <td>4.9671</td>\n",
       "      <td>2.0</td>\n",
       "      <td>242.0</td>\n",
       "      <td>17.8</td>\n",
       "      <td>392.83</td>\n",
       "      <td>4.03</td>\n",
       "      <td>34.7</td>\n",
       "    </tr>\n",
       "    <tr>\n",
       "      <th>3</th>\n",
       "      <td>0.03237</td>\n",
       "      <td>0.0</td>\n",
       "      <td>2.18</td>\n",
       "      <td>0.0</td>\n",
       "      <td>0.458</td>\n",
       "      <td>6.998</td>\n",
       "      <td>45.8</td>\n",
       "      <td>6.0622</td>\n",
       "      <td>3.0</td>\n",
       "      <td>222.0</td>\n",
       "      <td>18.7</td>\n",
       "      <td>394.63</td>\n",
       "      <td>2.94</td>\n",
       "      <td>33.4</td>\n",
       "    </tr>\n",
       "    <tr>\n",
       "      <th>4</th>\n",
       "      <td>0.06905</td>\n",
       "      <td>0.0</td>\n",
       "      <td>2.18</td>\n",
       "      <td>0.0</td>\n",
       "      <td>0.458</td>\n",
       "      <td>7.147</td>\n",
       "      <td>54.2</td>\n",
       "      <td>6.0622</td>\n",
       "      <td>3.0</td>\n",
       "      <td>222.0</td>\n",
       "      <td>18.7</td>\n",
       "      <td>396.90</td>\n",
       "      <td>5.33</td>\n",
       "      <td>36.2</td>\n",
       "    </tr>\n",
       "    <tr>\n",
       "      <th>...</th>\n",
       "      <td>...</td>\n",
       "      <td>...</td>\n",
       "      <td>...</td>\n",
       "      <td>...</td>\n",
       "      <td>...</td>\n",
       "      <td>...</td>\n",
       "      <td>...</td>\n",
       "      <td>...</td>\n",
       "      <td>...</td>\n",
       "      <td>...</td>\n",
       "      <td>...</td>\n",
       "      <td>...</td>\n",
       "      <td>...</td>\n",
       "      <td>...</td>\n",
       "    </tr>\n",
       "    <tr>\n",
       "      <th>501</th>\n",
       "      <td>0.06263</td>\n",
       "      <td>0.0</td>\n",
       "      <td>11.93</td>\n",
       "      <td>0.0</td>\n",
       "      <td>0.573</td>\n",
       "      <td>6.593</td>\n",
       "      <td>69.1</td>\n",
       "      <td>2.4786</td>\n",
       "      <td>1.0</td>\n",
       "      <td>273.0</td>\n",
       "      <td>21.0</td>\n",
       "      <td>391.99</td>\n",
       "      <td>9.67</td>\n",
       "      <td>22.4</td>\n",
       "    </tr>\n",
       "    <tr>\n",
       "      <th>502</th>\n",
       "      <td>0.04527</td>\n",
       "      <td>0.0</td>\n",
       "      <td>11.93</td>\n",
       "      <td>0.0</td>\n",
       "      <td>0.573</td>\n",
       "      <td>6.120</td>\n",
       "      <td>76.7</td>\n",
       "      <td>2.2875</td>\n",
       "      <td>1.0</td>\n",
       "      <td>273.0</td>\n",
       "      <td>21.0</td>\n",
       "      <td>396.90</td>\n",
       "      <td>9.08</td>\n",
       "      <td>20.6</td>\n",
       "    </tr>\n",
       "    <tr>\n",
       "      <th>503</th>\n",
       "      <td>0.06076</td>\n",
       "      <td>0.0</td>\n",
       "      <td>11.93</td>\n",
       "      <td>0.0</td>\n",
       "      <td>0.573</td>\n",
       "      <td>6.976</td>\n",
       "      <td>91.0</td>\n",
       "      <td>2.1675</td>\n",
       "      <td>1.0</td>\n",
       "      <td>273.0</td>\n",
       "      <td>21.0</td>\n",
       "      <td>396.90</td>\n",
       "      <td>5.64</td>\n",
       "      <td>23.9</td>\n",
       "    </tr>\n",
       "    <tr>\n",
       "      <th>504</th>\n",
       "      <td>0.10959</td>\n",
       "      <td>0.0</td>\n",
       "      <td>11.93</td>\n",
       "      <td>0.0</td>\n",
       "      <td>0.573</td>\n",
       "      <td>6.794</td>\n",
       "      <td>89.3</td>\n",
       "      <td>2.3889</td>\n",
       "      <td>1.0</td>\n",
       "      <td>273.0</td>\n",
       "      <td>21.0</td>\n",
       "      <td>393.45</td>\n",
       "      <td>6.48</td>\n",
       "      <td>22.0</td>\n",
       "    </tr>\n",
       "    <tr>\n",
       "      <th>505</th>\n",
       "      <td>0.04741</td>\n",
       "      <td>0.0</td>\n",
       "      <td>11.93</td>\n",
       "      <td>0.0</td>\n",
       "      <td>0.573</td>\n",
       "      <td>6.030</td>\n",
       "      <td>80.8</td>\n",
       "      <td>2.5050</td>\n",
       "      <td>1.0</td>\n",
       "      <td>273.0</td>\n",
       "      <td>21.0</td>\n",
       "      <td>396.90</td>\n",
       "      <td>7.88</td>\n",
       "      <td>11.9</td>\n",
       "    </tr>\n",
       "  </tbody>\n",
       "</table>\n",
       "<p>506 rows × 14 columns</p>\n",
       "</div>"
      ],
      "text/plain": [
       "        CRIM    ZN  INDUS  CHAS    NOX     RM   AGE     DIS  RAD    TAX  \\\n",
       "0    0.00632  18.0   2.31   0.0  0.538  6.575  65.2  4.0900  1.0  296.0   \n",
       "1    0.02731   0.0   7.07   0.0  0.469  6.421  78.9  4.9671  2.0  242.0   \n",
       "2    0.02729   0.0   7.07   0.0  0.469  7.185  61.1  4.9671  2.0  242.0   \n",
       "3    0.03237   0.0   2.18   0.0  0.458  6.998  45.8  6.0622  3.0  222.0   \n",
       "4    0.06905   0.0   2.18   0.0  0.458  7.147  54.2  6.0622  3.0  222.0   \n",
       "..       ...   ...    ...   ...    ...    ...   ...     ...  ...    ...   \n",
       "501  0.06263   0.0  11.93   0.0  0.573  6.593  69.1  2.4786  1.0  273.0   \n",
       "502  0.04527   0.0  11.93   0.0  0.573  6.120  76.7  2.2875  1.0  273.0   \n",
       "503  0.06076   0.0  11.93   0.0  0.573  6.976  91.0  2.1675  1.0  273.0   \n",
       "504  0.10959   0.0  11.93   0.0  0.573  6.794  89.3  2.3889  1.0  273.0   \n",
       "505  0.04741   0.0  11.93   0.0  0.573  6.030  80.8  2.5050  1.0  273.0   \n",
       "\n",
       "     PTRATIO       B  LSTAT  MEDV  \n",
       "0       15.3  396.90   4.98  24.0  \n",
       "1       17.8  396.90   9.14  21.6  \n",
       "2       17.8  392.83   4.03  34.7  \n",
       "3       18.7  394.63   2.94  33.4  \n",
       "4       18.7  396.90   5.33  36.2  \n",
       "..       ...     ...    ...   ...  \n",
       "501     21.0  391.99   9.67  22.4  \n",
       "502     21.0  396.90   9.08  20.6  \n",
       "503     21.0  396.90   5.64  23.9  \n",
       "504     21.0  393.45   6.48  22.0  \n",
       "505     21.0  396.90   7.88  11.9  \n",
       "\n",
       "[506 rows x 14 columns]"
      ]
     },
     "execution_count": 4,
     "metadata": {},
     "output_type": "execute_result"
    }
   ],
   "source": [
    "bostondf = pd.DataFrame(data=boston.data, columns=boston.feature_names)\n",
    "bostondf['MEDV'] = boston.target\n",
    "bostondf"
   ]
  },
  {
   "cell_type": "code",
   "execution_count": 5,
   "metadata": {},
   "outputs": [
    {
     "data": {
      "text/plain": [
       "CRIM       0\n",
       "ZN         0\n",
       "INDUS      0\n",
       "CHAS       0\n",
       "NOX        0\n",
       "RM         0\n",
       "AGE        0\n",
       "DIS        0\n",
       "RAD        0\n",
       "TAX        0\n",
       "PTRATIO    0\n",
       "B          0\n",
       "LSTAT      0\n",
       "MEDV       0\n",
       "dtype: int64"
      ]
     },
     "execution_count": 5,
     "metadata": {},
     "output_type": "execute_result"
    }
   ],
   "source": [
    "bostondf.isnull().sum()"
   ]
  },
  {
   "cell_type": "code",
   "execution_count": 6,
   "metadata": {},
   "outputs": [
    {
     "name": "stderr",
     "output_type": "stream",
     "text": [
      "C:\\Users\\theoj\\anaconda3\\lib\\site-packages\\seaborn\\distributions.py:2551: FutureWarning: `distplot` is a deprecated function and will be removed in a future version. Please adapt your code to use either `displot` (a figure-level function with similar flexibility) or `histplot` (an axes-level function for histograms).\n",
      "  warnings.warn(msg, FutureWarning)\n"
     ]
    },
    {
     "data": {
      "image/png": "[encoded data removed]",
      "text/plain": [
       "<Figure size 842.4x595.44 with 1 Axes>"
      ]
     },
     "metadata": {},
     "output_type": "display_data"
    }
   ],
   "source": [
    "sns.set(rc={'figure.figsize':(11.7,8.27)})\n",
    "sns.distplot(bostondf['MEDV'], bins=30)\n",
    "plt.show()"
   ]
  },
  {
   "cell_type": "code",
   "execution_count": 7,
   "metadata": {},
   "outputs": [
    {
     "data": {
      "text/plain": [
       "<AxesSubplot:>"
      ]
     },
     "execution_count": 7,
     "metadata": {},
     "output_type": "execute_result"
    },
    {
     "data": {
      "image/png": "[encoded data removed]",
      "text/plain": [
       "<Figure size 842.4x595.44 with 2 Axes>"
      ]
     },
     "metadata": {},
     "output_type": "display_data"
    }
   ],
   "source": [
    "correlation_matrix = bostondf.corr().round(2)\n",
    "# annot = True to print the values inside the square\n",
    "heatmapData = correlation_matrix\n",
    "sns.heatmap(heatmapData, annot=True)"
   ]
  },
  {
   "cell_type": "markdown",
   "metadata": {
    "id": "K3daU58aizrS"
   },
   "source": [
    "#### 2) Split the boston dataset into train data and test data"
   ]
  },
  {
   "cell_type": "code",
   "execution_count": 8,
   "metadata": {
    "id": "utbx2z0Bi8BJ"
   },
   "outputs": [
    {
     "name": "stdout",
     "output_type": "stream",
     "text": [
      "(339, 13)\n",
      "(167, 13)\n",
      "(339,)\n",
      "(167,)\n"
     ]
    }
   ],
   "source": [
    "from sklearn.model_selection import train_test_split\n",
    "\n",
    "# split data into training and validation data, for both features and target\n",
    "# The split is based on a random number generator. Supplying a numeric value to\n",
    "# the random_state argument guarantees we get the same split every time we\n",
    "# run this script.\n",
    "X = boston[\"data\"]\n",
    "y = boston[\"target\"]\n",
    "\n",
    "X_train, X_test, y_train, y_test = train_test_split(X, y, test_size=0.33)\n",
    "print(X_train.shape)\n",
    "print(X_test.shape)\n",
    "print(y_train.shape)\n",
    "print(y_test.shape)"
   ]
  },
  {
   "cell_type": "markdown",
   "metadata": {
    "id": "HHdxuTOei8OK"
   },
   "source": [
    "#### 3) Standardize the data."
   ]
  },
  {
   "cell_type": "code",
   "execution_count": 9,
   "metadata": {
    "id": "KWPlSjfki_F7"
   },
   "outputs": [],
   "source": [
    "from sklearn.preprocessing import StandardScaler\n",
    "scaler = StandardScaler()\n",
    "scaler.fit(X_train)                 \n",
    "X_train = scaler.transform(X_train)\n",
    "X_test  = scaler.transform(X_test)  "
   ]
  },
  {
   "cell_type": "markdown",
   "metadata": {
    "id": "Hj9nZvaRi_X3"
   },
   "source": [
    "#### 4) Train or fit the data into a model using the Support Vector Machine Learning algorithm and test it."
   ]
  },
  {
   "cell_type": "code",
   "execution_count": 10,
   "metadata": {
    "id": "9OX2g6zOjFah"
   },
   "outputs": [
    {
     "data": {
      "text/plain": [
       "array([0.77285459, 0.72771739, 0.56131914, 0.15056451, 0.08212844])"
      ]
     },
     "execution_count": 10,
     "metadata": {},
     "output_type": "execute_result"
    }
   ],
   "source": [
    "from sklearn import svm\n",
    "svr = svm.SVR(kernel='linear')\n",
    "from sklearn.model_selection import  cross_val_score\n",
    "cross_val_score(svr, X, y, n_jobs=-1)"
   ]
  },
  {
   "cell_type": "markdown",
   "metadata": {
    "id": "opWFDq9ajFqu"
   },
   "source": [
    "#### 5) Select the best hyperparameters of the model using GridSearch."
   ]
  },
  {
   "cell_type": "code",
   "execution_count": 11,
   "metadata": {
    "id": "YFKttepRjLJB"
   },
   "outputs": [
    {
     "name": "stdout",
     "output_type": "stream",
     "text": [
      "0.5728095084855844 SVR(gamma=0.1)\n"
     ]
    }
   ],
   "source": [
    "from sklearn.model_selection import GridSearchCV\n",
    "parameters = {'gamma' : [0.01, 0.1, 0.5]}\n",
    "grid = GridSearchCV(svm.SVR(), parameters, n_jobs=-1, cv=5)\n",
    "grid.fit(X_train, y_train)\n",
    "print (grid.best_score_, grid.best_estimator_)"
   ]
  },
  {
   "cell_type": "code",
   "execution_count": 12,
   "metadata": {},
   "outputs": [
    {
     "name": "stdout",
     "output_type": "stream",
     "text": [
      "0.6239639262715742 SVR(C=1.5, gamma=0.1)\n"
     ]
    }
   ],
   "source": [
    "parameters = {  'C'      : [0.5, 1, 1.5]             ,\n",
    "                'gamma'  : [0.5, 0.1, 0.15]      }\n",
    "grid = GridSearchCV(svm.SVR(), parameters, n_jobs=-1)\n",
    "grid.fit(X_train, y_train)\n",
    "print (grid.best_score_, grid.best_estimator_)"
   ]
  },
  {
   "cell_type": "code",
   "execution_count": 13,
   "metadata": {},
   "outputs": [
    {
     "name": "stdout",
     "output_type": "stream",
     "text": [
      "0.7005677816419811 SVR(C=2.5, gamma=0.05)\n"
     ]
    }
   ],
   "source": [
    "parameters = {  'C'      : [1.5, 2, 2.5]   ,\n",
    "                'kernel' : ['rbf', 'poly', 'sigmoid'],\n",
    "                'gamma'  : [ 0.05, 0.10, 0.15] }\n",
    "grid = GridSearchCV(svm.SVR(), parameters, n_jobs=-1)\n",
    "grid.fit(X_train, y_train)\n",
    "print (grid.best_score_, grid.best_estimator_)"
   ]
  },
  {
   "cell_type": "code",
   "execution_count": 14,
   "metadata": {},
   "outputs": [
    {
     "name": "stdout",
     "output_type": "stream",
     "text": [
      "0.7376766426857101 SVR(C=4, degree=1, gamma=0.05)\n"
     ]
    }
   ],
   "source": [
    "parameters = {  'C'       : [2.5, 3, 4]   ,\n",
    "                'kernel'  : ['rbf', 'poly', 'sigmoid'],\n",
    "                'gamma'   : [ 0.01, 0.05, 0.07],\n",
    "                 \"degree\" : [1,3,5]}\n",
    "grid = GridSearchCV(svm.SVR(), parameters, n_jobs=-1)\n",
    "grid.fit(X_train, y_train)\n",
    "print (grid.best_score_, grid.best_estimator_)"
   ]
  },
  {
   "cell_type": "code",
   "execution_count": 15,
   "metadata": {},
   "outputs": [
    {
     "name": "stdout",
     "output_type": "stream",
     "text": [
      "0.783295642690373 SVR(C=7, degree=1, gamma=0.07)\n"
     ]
    }
   ],
   "source": [
    "parameters = {  'C'       : [4, 5, 6, 7]   ,\n",
    "                'kernel'  : ['rbf'],\n",
    "                'gamma'   : [ 0.03, 0.05, 0.07],\n",
    "                 \"degree\" : [1,2, 3]}\n",
    "grid = GridSearchCV(svm.SVR(), parameters, n_jobs=-1)\n",
    "grid.fit(X_train, y_train)\n",
    "print (grid.best_score_, grid.best_estimator_)"
   ]
  },
  {
   "cell_type": "code",
   "execution_count": 16,
   "metadata": {},
   "outputs": [
    {
     "name": "stdout",
     "output_type": "stream",
     "text": [
      "0.8273389047706902 SVR(C=30, degree=1, epsilon=0.15, gamma=0.03)\n"
     ]
    }
   ],
   "source": [
    "parameters = {  'C'       : [10, 15, 20, 30]   ,\n",
    "                'kernel'  : ['rbf'],\n",
    "                'gamma'   : [ 0.03],\n",
    "                  \"epsilon\" : [0.01, 0.05, 0.15],\n",
    "                 \"degree\" : [1,2]}\n",
    "grid = GridSearchCV(svm.SVR(), parameters, n_jobs=-1)\n",
    "grid.fit(X_train, y_train)\n",
    "print (grid.best_score_, grid.best_estimator_)"
   ]
  },
  {
   "cell_type": "code",
   "execution_count": 17,
   "metadata": {},
   "outputs": [
    {
     "name": "stdout",
     "output_type": "stream",
     "text": [
      "0.854706660665458 SVR(C=260, degree=1, epsilon=1.5, gamma=0.03)\n"
     ]
    }
   ],
   "source": [
    "parameters = {  'C'       : [190, 200, 250, 260]   ,\n",
    "                'kernel'  : ['rbf'],\n",
    "                'gamma'   : [ 0.03],\n",
    "                \"epsilon\" : [1.5, 2, 2.5],\n",
    "                 \"degree\" : [1,2]}\n",
    "grid = GridSearchCV(svm.SVR(), parameters, n_jobs=-1)\n",
    "grid.fit(X_train, y_train)\n",
    "print (grid.best_score_, grid.best_estimator_)"
   ]
  },
  {
   "cell_type": "markdown",
   "metadata": {
    "id": "4X4ahiZEjLYN"
   },
   "source": [
    "#### 6) Create a function to test the different hyperparameters."
   ]
  },
  {
   "cell_type": "code",
   "execution_count": 18,
   "metadata": {
    "id": "hpoecynukeN3"
   },
   "outputs": [],
   "source": [
    "def test_hyperparametres(hyperparametres):\n",
    "    grid = GridSearchCV(svm.SVR(), hyperparametres, n_jobs=-1)\n",
    "    grid.fit(X_train, y_train)\n",
    "    print (grid.best_score_, grid.best_estimator_)    \n",
    "    return grid.best_score_, grid.best_estimator_"
   ]
  },
  {
   "cell_type": "code",
   "execution_count": 19,
   "metadata": {},
   "outputs": [
    {
     "name": "stdout",
     "output_type": "stream",
     "text": [
      "0.8455182322759753 SVR(C=200, gamma=0.015)\n"
     ]
    },
    {
     "data": {
      "text/plain": [
       "(0.8455182322759753, SVR(C=200, gamma=0.015))"
      ]
     },
     "execution_count": 19,
     "metadata": {},
     "output_type": "execute_result"
    }
   ],
   "source": [
    "hyperparametres = {  'gamma' : [0.01, 0.1, 0.5, 0.015]          ,\n",
    "                  \"kernel\" : ['linear', 'poly', 'rbf', 'sigmoid',  ],\n",
    "                  \"C\" : [105, 200]}\n",
    "test_hyperparametres(hyperparametres)"
   ]
  },
  {
   "cell_type": "markdown",
   "metadata": {
    "id": "nRyXIGHTkjUE"
   },
   "source": [
    "#### 7) Compare the performance of the different algorithms. Which is the best Model ?"
   ]
  },
  {
   "cell_type": "code",
   "execution_count": 20,
   "metadata": {},
   "outputs": [],
   "source": [
    "import warnings\n",
    "warnings.filterwarnings(\"ignore\", category=DeprecationWarning) "
   ]
  },
  {
   "cell_type": "code",
   "execution_count": 21,
   "metadata": {
    "id": "3_Kk2kOkkqDd"
   },
   "outputs": [],
   "source": [
    "def get_sklearn_algorithms(verbose = False):\n",
    "    from collections import defaultdict\n",
    "    import importlib\n",
    "    import sklearn\n",
    "    algos = defaultdict(list)\n",
    "    if verbose : print (dir(sklearn))\n",
    "    for nom_module in dir(sklearn):    \n",
    "        if verbose : print (nom_module)\n",
    "        try:\n",
    "            to_import = \"sklearn.%s\"%nom_module\n",
    "            module    = importlib.import_module(to_import)\n",
    "            for nom_fonction in dir(module):\n",
    "                fonction = getattr(module, nom_fonction)\n",
    "                if hasattr(fonction, \"fit\"):\n",
    "                    if verbose : print (\" nom algorithme  = \", nom_fonction)\n",
    "                    algos[nom_module].append(fonction)                                            \n",
    "        except Exception as e:\n",
    "            if verbose : print( e)\n",
    "        if verbose: print (\"=\"*30)\n",
    "    return algos"
   ]
  },
  {
   "cell_type": "code",
   "execution_count": 22,
   "metadata": {},
   "outputs": [],
   "source": [
    "algos = get_sklearn_algorithms()"
   ]
  },
  {
   "cell_type": "code",
   "execution_count": 23,
   "metadata": {},
   "outputs": [
    {
     "name": "stdout",
     "output_type": "stream",
     "text": [
      "Transforms lists of featu\n",
      "'numpy.ndarray' object has no attribute 'items'\n",
      "==============================\n",
      "Implements feature hashin\n",
      "'FeatureHasher' object has no attribute 'score'\n",
      "==============================\n",
      "Bayesian ARD regression.\n",
      "0.7319687213341541\n",
      "==============================\n",
      "Bayesian ridge regression\n",
      "0.7351517443415442\n",
      "==============================\n",
      "Linear regression with co\n",
      "0.6830038076324263\n",
      "==============================\n",
      "Elastic Net model with it\n",
      "0.7343846445036184\n",
      "==============================\n",
      "Generalized Linear Model\n",
      "0.7283542296395488\n",
      "==============================\n",
      "Linear regression model t\n",
      "0.7184417383505552\n",
      "==============================\n",
      "Least Angle Regression mo\n",
      "0.7329655842605785\n",
      "==============================\n",
      "Cross-validated Least Ang\n",
      "0.7329655842605785\n",
      "==============================\n",
      "Linear Model trained with\n",
      "0.6687641236374838\n",
      "==============================\n",
      "Lasso linear model with i\n",
      "0.7334687269151652\n",
      "==============================\n",
      "Lasso model fit with Leas\n",
      "-0.010488156964423734\n",
      "==============================\n",
      "Cross-validated Lasso, us\n",
      "0.7329655842605785\n",
      "==============================\n",
      "Lasso model fit with Lars\n",
      "0.7150979998968372\n",
      "==============================\n",
      "Ordinary least squar\n",
      "0.7329655842605782\n",
      "==============================\n",
      "Logistic Regression\n",
      "Algo de classification\n",
      "==============================\n",
      "Logistic Regression CV (a\n",
      "Algo de classification\n",
      "==============================\n",
      "Multi-task ElasticNet mod\n",
      "For mono-task outputs, use ElasticNet\n",
      "==============================\n",
      "Multi-task L1/L2 ElasticN\n",
      "For mono-task outputs, use ElasticNetCV\n",
      "==============================\n",
      "Multi-task Lasso model tr\n",
      "For mono-task outputs, use ElasticNet\n",
      "==============================\n",
      "Multi-task Lasso model tr\n",
      "For mono-task outputs, use LassoCV\n",
      "==============================\n",
      "Orthogonal Matching Pursu\n",
      "0.520833838845116\n",
      "==============================\n",
      "Cross-validated Orthogona\n",
      "0.6806225525027179\n",
      "==============================\n",
      "Passive Aggressive Classi\n",
      "Algo de classification\n",
      "==============================\n",
      "Passive Aggressive Regres\n",
      "0.43033235312620455\n",
      "==============================\n",
      "Perceptron\n",
      "\n",
      "    Read more\n",
      "Algo de classification\n",
      "==============================\n",
      "Generalized Linear Model\n",
      "0.8053834031415822\n",
      "==============================\n",
      "RANSAC (RANdom SAmple Con\n",
      "0.6473116397623757\n",
      "==============================\n",
      "Linear least squares with\n",
      "0.7334664975974967\n",
      "==============================\n",
      "Ridge regression with bui\n",
      "0.7359882945641448\n",
      "==============================\n",
      "Classifier using Ridge re\n",
      "Algo de classification\n",
      "==============================\n",
      "Ridge classifier with bui\n",
      "Algo de classification\n",
      "==============================\n",
      "Linear classifiers (SVM,\n",
      "Algo de classification\n",
      "==============================\n",
      "Linear model fitted by mi\n",
      "0.7311187461249493\n",
      "==============================\n",
      "Theil-Sen Estimator\n",
      "0.5487844331977891\n",
      "==============================\n",
      "Generalized Linear Model\n",
      "0.6822530751647179\n",
      "==============================\n",
      "__init__() missing 2 required positional arguments\n",
      "==============================\n",
      "__init__() missing 2 required positional arguments\n",
      "==============================\n",
      "Binarize data (set featur\n",
      "'Binarizer' object has no attribute 'score'\n",
      "==============================\n",
      "Constructs a transformer\n",
      "'FunctionTransformer' object has no attribute 'sco\n",
      "==============================\n",
      "Bin continuous data\n",
      "'KBinsDiscretizer' object has no attribute 'score'\n",
      "==============================\n",
      "Center a kernel matrix\n",
      "Kernel matrix must be a square matrix. Input is a \n",
      "==============================\n",
      "Binarize labels in a one-\n",
      "fit() takes 2 positional arguments but 3 were give\n",
      "==============================\n",
      "Encode target labels with\n",
      "fit() takes 2 positional arguments but 3 were give\n",
      "==============================\n",
      "Scale each feature by its\n",
      "'MaxAbsScaler' object has no attribute 'score'\n",
      "==============================\n",
      "Transform features by sca\n",
      "'MinMaxScaler' object has no attribute 'score'\n",
      "==============================\n",
      "Transform between iterabl\n",
      "fit() takes 2 positional arguments but 3 were give\n",
      "==============================\n",
      "Normalize samples individ\n",
      "'Normalizer' object has no attribute 'score'\n",
      "==============================\n",
      "Encode categorical f\n",
      "'OneHotEncoder' object has no attribute 'score'\n",
      "==============================\n",
      "Encode categorical f\n",
      "'OrdinalEncoder' object has no attribute 'score'\n",
      "==============================\n",
      "Generate polynomial and i\n",
      "'PolynomialFeatures' object has no attribute 'scor\n",
      "==============================\n",
      "Apply a power transform f\n",
      "'PowerTransformer' object has no attribute 'score'\n",
      "==============================\n",
      "Transform features using\n",
      "'QuantileTransformer' object has no attribute 'sco\n",
      "==============================\n",
      "Scale features using stat\n",
      "'RobustScaler' object has no attribute 'score'\n",
      "==============================\n",
      "Standardize features by r\n",
      "'StandardScaler' object has no attribute 'score'\n",
      "==============================\n",
      "Linear Support Vector Cla\n",
      "Algo de classification\n",
      "==============================\n",
      "Linear Support Vector Reg\n",
      "0.700399552978571\n",
      "==============================\n",
      "Nu-Support Vector Classif\n",
      "Algo de classification\n",
      "==============================\n",
      "Nu Support Vector Regress\n",
      "0.6546707380973822\n",
      "==============================\n",
      "Unsupervised Outlier Dete\n",
      "'OneClassSVM' object has no attribute 'score'\n",
      "==============================\n",
      "C-Support Vector Classifi\n",
      "Algo de classification\n",
      "==============================\n",
      "Epsilon-Support Vector Re\n",
      "0.6685246376475897\n",
      "==============================\n",
      "'module' object is not callable\n",
      "==============================\n"
     ]
    },
    {
     "name": "stderr",
     "output_type": "stream",
     "text": [
      "C:\\Users\\theoj\\anaconda3\\lib\\site-packages\\sklearn\\preprocessing\\_discretization.py:200: UserWarning: Bins whose width are too small (i.e., <= 1e-8) in feature 1 are removed. Consider decreasing the number of bins.\n",
      "  warnings.warn('Bins whose width are too small (i.e., <= '\n",
      "C:\\Users\\theoj\\anaconda3\\lib\\site-packages\\sklearn\\preprocessing\\_discretization.py:200: UserWarning: Bins whose width are too small (i.e., <= 1e-8) in feature 3 are removed. Consider decreasing the number of bins.\n",
      "  warnings.warn('Bins whose width are too small (i.e., <= '\n",
      "C:\\Users\\theoj\\anaconda3\\lib\\site-packages\\sklearn\\preprocessing\\_discretization.py:200: UserWarning: Bins whose width are too small (i.e., <= 1e-8) in feature 8 are removed. Consider decreasing the number of bins.\n",
      "  warnings.warn('Bins whose width are too small (i.e., <= '\n",
      "C:\\Users\\theoj\\anaconda3\\lib\\site-packages\\sklearn\\preprocessing\\_discretization.py:200: UserWarning: Bins whose width are too small (i.e., <= 1e-8) in feature 11 are removed. Consider decreasing the number of bins.\n",
      "  warnings.warn('Bins whose width are too small (i.e., <= '\n",
      "C:\\Users\\theoj\\anaconda3\\lib\\site-packages\\sklearn\\preprocessing\\_data.py:2367: UserWarning: n_quantiles (1000) is greater than the total number of samples (339). n_quantiles is set to n_samples.\n",
      "  warnings.warn(\"n_quantiles (%s) is greater than the total number \"\n"
     ]
    }
   ],
   "source": [
    "performances = {}\n",
    "modeles_a_tester = []\n",
    "classes_de_models_a_tester = algos.keys()\n",
    "best_algorithm = 0\n",
    "best_perf = 0\n",
    "for classe_de_models in classes_de_models_a_tester:\n",
    "    modeles_a_tester.extend(algos[classe_de_models])\n",
    "    \n",
    "for pointeur_vers_algo in modeles_a_tester:\n",
    "    try:\n",
    "        algorithme = pointeur_vers_algo()\n",
    "        doc = algorithme.__doc__\n",
    "        name = doc[:min(doc.find(\":\"), 25)].strip()\n",
    "        print (name)\n",
    "        algorithme.fit(X_train, y_train)\n",
    "        performance = algorithme.score(X_test, y_test)\n",
    "        print (performance)\n",
    "        if performance >  best_perf:\n",
    "            best_algorithm = algorithme\n",
    "            best_perf = performance\n",
    "            \n",
    "        if 0<performance and performance<1:\n",
    "            performances[name] = [performance]\n",
    "    except Exception as e:\n",
    "        if \"label\" in str(e): print (\"Algo de classification\")\n",
    "        else                : print (str(e)[:50])\n",
    "    print (\"=\"*30)"
   ]
  },
  {
   "cell_type": "code",
   "execution_count": 24,
   "metadata": {},
   "outputs": [
    {
     "data": {
      "text/plain": [
       "{'Bayesian ARD regression.': [0.7319687213341541],\n",
       " 'Bayesian ridge regression': [0.7351517443415442],\n",
       " 'Linear regression with co': [0.6830038076324263],\n",
       " 'Elastic Net model with it': [0.7343846445036184],\n",
       " 'Generalized Linear Model': [0.6822530751647179],\n",
       " 'Linear regression model t': [0.7184417383505552],\n",
       " 'Least Angle Regression mo': [0.7329655842605785],\n",
       " 'Cross-validated Least Ang': [0.7329655842605785],\n",
       " 'Linear Model trained with': [0.6687641236374838],\n",
       " 'Lasso linear model with i': [0.7334687269151652],\n",
       " 'Cross-validated Lasso, us': [0.7329655842605785],\n",
       " 'Lasso model fit with Lars': [0.7150979998968372],\n",
       " 'Ordinary least squar': [0.7329655842605782],\n",
       " 'Orthogonal Matching Pursu': [0.520833838845116],\n",
       " 'Cross-validated Orthogona': [0.6806225525027179],\n",
       " 'Passive Aggressive Regres': [0.43033235312620455],\n",
       " 'RANSAC (RANdom SAmple Con': [0.6473116397623757],\n",
       " 'Linear least squares with': [0.7334664975974967],\n",
       " 'Ridge regression with bui': [0.7359882945641448],\n",
       " 'Linear model fitted by mi': [0.7311187461249493],\n",
       " 'Theil-Sen Estimator': [0.5487844331977891],\n",
       " 'Linear Support Vector Reg': [0.700399552978571],\n",
       " 'Nu Support Vector Regress': [0.6546707380973822],\n",
       " 'Epsilon-Support Vector Re': [0.6685246376475897]}"
      ]
     },
     "execution_count": 24,
     "metadata": {},
     "output_type": "execute_result"
    }
   ],
   "source": [
    "performances"
   ]
  },
  {
   "cell_type": "code",
   "execution_count": 25,
   "metadata": {},
   "outputs": [
    {
     "data": {
      "text/plain": [
       "(PoissonRegressor(), 0.8053834031415822)"
      ]
     },
     "execution_count": 25,
     "metadata": {},
     "output_type": "execute_result"
    }
   ],
   "source": [
    "best_algorithm, best_perf"
   ]
  },
  {
   "cell_type": "markdown",
   "metadata": {
    "id": "h9Ytz1uOkqvm"
   },
   "source": [
    "### Exercice 2\n",
    "---"
   ]
  },
  {
   "cell_type": "markdown",
   "metadata": {
    "id": "V1GedeKzktn4"
   },
   "source": [
    "#### 1) Load and return the dataset titanic from seaborn library."
   ]
  },
  {
   "cell_type": "code",
   "execution_count": 26,
   "metadata": {
    "id": "fgfceQEzkylk"
   },
   "outputs": [
    {
     "data": {
      "text/html": [
       "<div>\n",
       "<style scoped>\n",
       "    .dataframe tbody tr th:only-of-type {\n",
       "        vertical-align: middle;\n",
       "    }\n",
       "\n",
       "    .dataframe tbody tr th {\n",
       "        vertical-align: top;\n",
       "    }\n",
       "\n",
       "    .dataframe thead th {\n",
       "        text-align: right;\n",
       "    }\n",
       "</style>\n",
       "<table border=\"1\" class=\"dataframe\">\n",
       "  <thead>\n",
       "    <tr style=\"text-align: right;\">\n",
       "      <th></th>\n",
       "      <th>survived</th>\n",
       "      <th>pclass</th>\n",
       "      <th>sex</th>\n",
       "      <th>age</th>\n",
       "      <th>sibsp</th>\n",
       "      <th>parch</th>\n",
       "      <th>fare</th>\n",
       "      <th>embarked</th>\n",
       "      <th>class</th>\n",
       "      <th>who</th>\n",
       "      <th>adult_male</th>\n",
       "      <th>deck</th>\n",
       "      <th>embark_town</th>\n",
       "      <th>alive</th>\n",
       "      <th>alone</th>\n",
       "    </tr>\n",
       "  </thead>\n",
       "  <tbody>\n",
       "    <tr>\n",
       "      <th>0</th>\n",
       "      <td>0</td>\n",
       "      <td>3</td>\n",
       "      <td>male</td>\n",
       "      <td>22.0</td>\n",
       "      <td>1</td>\n",
       "      <td>0</td>\n",
       "      <td>7.2500</td>\n",
       "      <td>S</td>\n",
       "      <td>Third</td>\n",
       "      <td>man</td>\n",
       "      <td>True</td>\n",
       "      <td>NaN</td>\n",
       "      <td>Southampton</td>\n",
       "      <td>no</td>\n",
       "      <td>False</td>\n",
       "    </tr>\n",
       "    <tr>\n",
       "      <th>1</th>\n",
       "      <td>1</td>\n",
       "      <td>1</td>\n",
       "      <td>female</td>\n",
       "      <td>38.0</td>\n",
       "      <td>1</td>\n",
       "      <td>0</td>\n",
       "      <td>71.2833</td>\n",
       "      <td>C</td>\n",
       "      <td>First</td>\n",
       "      <td>woman</td>\n",
       "      <td>False</td>\n",
       "      <td>C</td>\n",
       "      <td>Cherbourg</td>\n",
       "      <td>yes</td>\n",
       "      <td>False</td>\n",
       "    </tr>\n",
       "    <tr>\n",
       "      <th>2</th>\n",
       "      <td>1</td>\n",
       "      <td>3</td>\n",
       "      <td>female</td>\n",
       "      <td>26.0</td>\n",
       "      <td>0</td>\n",
       "      <td>0</td>\n",
       "      <td>7.9250</td>\n",
       "      <td>S</td>\n",
       "      <td>Third</td>\n",
       "      <td>woman</td>\n",
       "      <td>False</td>\n",
       "      <td>NaN</td>\n",
       "      <td>Southampton</td>\n",
       "      <td>yes</td>\n",
       "      <td>True</td>\n",
       "    </tr>\n",
       "    <tr>\n",
       "      <th>3</th>\n",
       "      <td>1</td>\n",
       "      <td>1</td>\n",
       "      <td>female</td>\n",
       "      <td>35.0</td>\n",
       "      <td>1</td>\n",
       "      <td>0</td>\n",
       "      <td>53.1000</td>\n",
       "      <td>S</td>\n",
       "      <td>First</td>\n",
       "      <td>woman</td>\n",
       "      <td>False</td>\n",
       "      <td>C</td>\n",
       "      <td>Southampton</td>\n",
       "      <td>yes</td>\n",
       "      <td>False</td>\n",
       "    </tr>\n",
       "    <tr>\n",
       "      <th>4</th>\n",
       "      <td>0</td>\n",
       "      <td>3</td>\n",
       "      <td>male</td>\n",
       "      <td>35.0</td>\n",
       "      <td>0</td>\n",
       "      <td>0</td>\n",
       "      <td>8.0500</td>\n",
       "      <td>S</td>\n",
       "      <td>Third</td>\n",
       "      <td>man</td>\n",
       "      <td>True</td>\n",
       "      <td>NaN</td>\n",
       "      <td>Southampton</td>\n",
       "      <td>no</td>\n",
       "      <td>True</td>\n",
       "    </tr>\n",
       "    <tr>\n",
       "      <th>...</th>\n",
       "      <td>...</td>\n",
       "      <td>...</td>\n",
       "      <td>...</td>\n",
       "      <td>...</td>\n",
       "      <td>...</td>\n",
       "      <td>...</td>\n",
       "      <td>...</td>\n",
       "      <td>...</td>\n",
       "      <td>...</td>\n",
       "      <td>...</td>\n",
       "      <td>...</td>\n",
       "      <td>...</td>\n",
       "      <td>...</td>\n",
       "      <td>...</td>\n",
       "      <td>...</td>\n",
       "    </tr>\n",
       "    <tr>\n",
       "      <th>886</th>\n",
       "      <td>0</td>\n",
       "      <td>2</td>\n",
       "      <td>male</td>\n",
       "      <td>27.0</td>\n",
       "      <td>0</td>\n",
       "      <td>0</td>\n",
       "      <td>13.0000</td>\n",
       "      <td>S</td>\n",
       "      <td>Second</td>\n",
       "      <td>man</td>\n",
       "      <td>True</td>\n",
       "      <td>NaN</td>\n",
       "      <td>Southampton</td>\n",
       "      <td>no</td>\n",
       "      <td>True</td>\n",
       "    </tr>\n",
       "    <tr>\n",
       "      <th>887</th>\n",
       "      <td>1</td>\n",
       "      <td>1</td>\n",
       "      <td>female</td>\n",
       "      <td>19.0</td>\n",
       "      <td>0</td>\n",
       "      <td>0</td>\n",
       "      <td>30.0000</td>\n",
       "      <td>S</td>\n",
       "      <td>First</td>\n",
       "      <td>woman</td>\n",
       "      <td>False</td>\n",
       "      <td>B</td>\n",
       "      <td>Southampton</td>\n",
       "      <td>yes</td>\n",
       "      <td>True</td>\n",
       "    </tr>\n",
       "    <tr>\n",
       "      <th>888</th>\n",
       "      <td>0</td>\n",
       "      <td>3</td>\n",
       "      <td>female</td>\n",
       "      <td>NaN</td>\n",
       "      <td>1</td>\n",
       "      <td>2</td>\n",
       "      <td>23.4500</td>\n",
       "      <td>S</td>\n",
       "      <td>Third</td>\n",
       "      <td>woman</td>\n",
       "      <td>False</td>\n",
       "      <td>NaN</td>\n",
       "      <td>Southampton</td>\n",
       "      <td>no</td>\n",
       "      <td>False</td>\n",
       "    </tr>\n",
       "    <tr>\n",
       "      <th>889</th>\n",
       "      <td>1</td>\n",
       "      <td>1</td>\n",
       "      <td>male</td>\n",
       "      <td>26.0</td>\n",
       "      <td>0</td>\n",
       "      <td>0</td>\n",
       "      <td>30.0000</td>\n",
       "      <td>C</td>\n",
       "      <td>First</td>\n",
       "      <td>man</td>\n",
       "      <td>True</td>\n",
       "      <td>C</td>\n",
       "      <td>Cherbourg</td>\n",
       "      <td>yes</td>\n",
       "      <td>True</td>\n",
       "    </tr>\n",
       "    <tr>\n",
       "      <th>890</th>\n",
       "      <td>0</td>\n",
       "      <td>3</td>\n",
       "      <td>male</td>\n",
       "      <td>32.0</td>\n",
       "      <td>0</td>\n",
       "      <td>0</td>\n",
       "      <td>7.7500</td>\n",
       "      <td>Q</td>\n",
       "      <td>Third</td>\n",
       "      <td>man</td>\n",
       "      <td>True</td>\n",
       "      <td>NaN</td>\n",
       "      <td>Queenstown</td>\n",
       "      <td>no</td>\n",
       "      <td>True</td>\n",
       "    </tr>\n",
       "  </tbody>\n",
       "</table>\n",
       "<p>891 rows × 15 columns</p>\n",
       "</div>"
      ],
      "text/plain": [
       "     survived  pclass     sex   age  sibsp  parch     fare embarked   class  \\\n",
       "0           0       3    male  22.0      1      0   7.2500        S   Third   \n",
       "1           1       1  female  38.0      1      0  71.2833        C   First   \n",
       "2           1       3  female  26.0      0      0   7.9250        S   Third   \n",
       "3           1       1  female  35.0      1      0  53.1000        S   First   \n",
       "4           0       3    male  35.0      0      0   8.0500        S   Third   \n",
       "..        ...     ...     ...   ...    ...    ...      ...      ...     ...   \n",
       "886         0       2    male  27.0      0      0  13.0000        S  Second   \n",
       "887         1       1  female  19.0      0      0  30.0000        S   First   \n",
       "888         0       3  female   NaN      1      2  23.4500        S   Third   \n",
       "889         1       1    male  26.0      0      0  30.0000        C   First   \n",
       "890         0       3    male  32.0      0      0   7.7500        Q   Third   \n",
       "\n",
       "       who  adult_male deck  embark_town alive  alone  \n",
       "0      man        True  NaN  Southampton    no  False  \n",
       "1    woman       False    C    Cherbourg   yes  False  \n",
       "2    woman       False  NaN  Southampton   yes   True  \n",
       "3    woman       False    C  Southampton   yes  False  \n",
       "4      man        True  NaN  Southampton    no   True  \n",
       "..     ...         ...  ...          ...   ...    ...  \n",
       "886    man        True  NaN  Southampton    no   True  \n",
       "887  woman       False    B  Southampton   yes   True  \n",
       "888  woman       False  NaN  Southampton    no  False  \n",
       "889    man        True    C    Cherbourg   yes   True  \n",
       "890    man        True  NaN   Queenstown    no   True  \n",
       "\n",
       "[891 rows x 15 columns]"
      ]
     },
     "execution_count": 26,
     "metadata": {},
     "output_type": "execute_result"
    }
   ],
   "source": [
    "sns.set_style('whitegrid')\n",
    "titanic = sns.load_dataset('titanic')\n",
    "titanic"
   ]
  },
  {
   "cell_type": "code",
   "execution_count": 27,
   "metadata": {},
   "outputs": [
    {
     "data": {
      "text/plain": [
       "<AxesSubplot:xlabel='sex', ylabel='count'>"
      ]
     },
     "execution_count": 27,
     "metadata": {},
     "output_type": "execute_result"
    },
    {
     "data": {
      "image/png": "[encoded data removed]",
      "text/plain": [
       "<Figure size 842.4x595.44 with 1 Axes>"
      ]
     },
     "metadata": {},
     "output_type": "display_data"
    }
   ],
   "source": [
    "sns.countplot(x='sex',data=titanic)"
   ]
  },
  {
   "cell_type": "code",
   "execution_count": 28,
   "metadata": {},
   "outputs": [
    {
     "name": "stderr",
     "output_type": "stream",
     "text": [
      "C:\\Users\\theoj\\anaconda3\\lib\\site-packages\\seaborn\\distributions.py:2551: FutureWarning: `distplot` is a deprecated function and will be removed in a future version. Please adapt your code to use either `displot` (a figure-level function with similar flexibility) or `histplot` (an axes-level function for histograms).\n",
      "  warnings.warn(msg, FutureWarning)\n"
     ]
    },
    {
     "data": {
      "text/plain": [
       "<seaborn.axisgrid.FacetGrid at 0x2068e50ee50>"
      ]
     },
     "execution_count": 28,
     "metadata": {},
     "output_type": "execute_result"
    },
    {
     "data": {
      "image/png": "[encoded data removed]",
      "text/plain": [
       "<Figure size 432x216 with 2 Axes>"
      ]
     },
     "metadata": {},
     "output_type": "display_data"
    }
   ],
   "source": [
    "g = sns.FacetGrid(data=titanic, col='sex')\n",
    "g.map(sns.distplot, 'age',kde=False)"
   ]
  },
  {
   "cell_type": "code",
   "execution_count": 29,
   "metadata": {},
   "outputs": [
    {
     "data": {
      "text/plain": [
       "<seaborn.axisgrid.JointGrid at 0x2068e23fd30>"
      ]
     },
     "execution_count": 29,
     "metadata": {},
     "output_type": "execute_result"
    },
    {
     "data": {
      "image/png": "[encoded data removed]",
      "text/plain": [
       "<Figure size 432x432 with 3 Axes>"
      ]
     },
     "metadata": {},
     "output_type": "display_data"
    }
   ],
   "source": [
    "sns.jointplot(x='fare',y='age',data=titanic)"
   ]
  },
  {
   "cell_type": "code",
   "execution_count": 30,
   "metadata": {},
   "outputs": [
    {
     "data": {
      "text/plain": [
       "<AxesSubplot:xlabel='pclass', ylabel='age'>"
      ]
     },
     "execution_count": 30,
     "metadata": {},
     "output_type": "execute_result"
    },
    {
     "data": {
      "image/png": "[encoded data removed]",
      "text/plain": [
       "<Figure size 842.4x595.44 with 1 Axes>"
      ]
     },
     "metadata": {},
     "output_type": "display_data"
    }
   ],
   "source": [
    "sns.swarmplot(x='pclass',y='age',data=titanic)"
   ]
  },
  {
   "cell_type": "code",
   "execution_count": 31,
   "metadata": {},
   "outputs": [
    {
     "data": {
      "text/plain": [
       "<AxesSubplot:xlabel='survived', ylabel='count'>"
      ]
     },
     "execution_count": 31,
     "metadata": {},
     "output_type": "execute_result"
    },
    {
     "data": {
      "image/png": "[encoded data removed]",
      "text/plain": [
       "<Figure size 842.4x595.44 with 1 Axes>"
      ]
     },
     "metadata": {},
     "output_type": "display_data"
    }
   ],
   "source": [
    "sns.countplot(x='survived',data=titanic)"
   ]
  },
  {
   "cell_type": "markdown",
   "metadata": {
    "id": "AGMOFAWJkyv0"
   },
   "source": [
    "#### 2) Use different machine learning models to predict the survival of titanic passengers."
   ]
  },
  {
   "cell_type": "code",
   "execution_count": 32,
   "metadata": {},
   "outputs": [],
   "source": [
    "titanic = titanic.dropna()\n",
    "titanic = titanic.drop(['alive'],axis=1)\n",
    "titanic['sex'] = titanic['sex'].map(lambda x: 1 if x!='male' else 0)\n",
    "titanic['embarked'] = titanic['embarked'].map(lambda x: 0 if x=='Q' else (1 if x=='C' \n",
    "                                                                   else 2 if x=='S'\n",
    "                                                                   else 3))\n",
    "titanic['class'] = titanic['class'].map(lambda x: 0 if x=='First' else (1 if x=='Second' \n",
    "                                                                   else 2 if x=='Third'\n",
    "                                                                   else 3))\n",
    "titanic['who'] = titanic['who'].map(lambda x: 0 if x=='woman' else (1 if x=='male' \n",
    "                                                                   else 2 if x=='child'\n",
    "                                                                   else 3))\n",
    "titanic['adult_male'] = titanic['adult_male'].map(lambda x: 0 if x!='True' else 1)\n",
    "titanic['deck'] = titanic['deck'].map(lambda x: 0 if x=='A' else (1 if x=='B' \n",
    "                                                                   else 2 if x=='C'\n",
    "                                                                   else 3 if x=='D'\n",
    "                                                                   else 4 if x=='E'\n",
    "                                                                   else 5 if x=='F'\n",
    "                                                                   else 6 if x=='G'\n",
    "                                                                   else 7))\n",
    "titanic['embark_town'] = titanic['embark_town'].map(lambda x: 0 if x=='Cherbourg' else (1 if x=='Queenstown' \n",
    "                                                                   else 2 if x=='Southampton'\n",
    "                                                                   else 3))\n",
    "titanic['alone'] = titanic['alone'].map(lambda x: 0 if x!='True' else 1)"
   ]
  },
  {
   "cell_type": "code",
   "execution_count": 33,
   "metadata": {},
   "outputs": [
    {
     "data": {
      "text/html": [
       "<div>\n",
       "<style scoped>\n",
       "    .dataframe tbody tr th:only-of-type {\n",
       "        vertical-align: middle;\n",
       "    }\n",
       "\n",
       "    .dataframe tbody tr th {\n",
       "        vertical-align: top;\n",
       "    }\n",
       "\n",
       "    .dataframe thead th {\n",
       "        text-align: right;\n",
       "    }\n",
       "</style>\n",
       "<table border=\"1\" class=\"dataframe\">\n",
       "  <thead>\n",
       "    <tr style=\"text-align: right;\">\n",
       "      <th></th>\n",
       "      <th>survived</th>\n",
       "      <th>pclass</th>\n",
       "      <th>sex</th>\n",
       "      <th>age</th>\n",
       "      <th>sibsp</th>\n",
       "      <th>parch</th>\n",
       "      <th>fare</th>\n",
       "      <th>embarked</th>\n",
       "      <th>class</th>\n",
       "      <th>who</th>\n",
       "      <th>adult_male</th>\n",
       "      <th>deck</th>\n",
       "      <th>embark_town</th>\n",
       "      <th>alone</th>\n",
       "    </tr>\n",
       "  </thead>\n",
       "  <tbody>\n",
       "    <tr>\n",
       "      <th>1</th>\n",
       "      <td>1</td>\n",
       "      <td>1</td>\n",
       "      <td>1</td>\n",
       "      <td>38.0</td>\n",
       "      <td>1</td>\n",
       "      <td>0</td>\n",
       "      <td>71.2833</td>\n",
       "      <td>1</td>\n",
       "      <td>0</td>\n",
       "      <td>0</td>\n",
       "      <td>0</td>\n",
       "      <td>2</td>\n",
       "      <td>0</td>\n",
       "      <td>0</td>\n",
       "    </tr>\n",
       "    <tr>\n",
       "      <th>3</th>\n",
       "      <td>1</td>\n",
       "      <td>1</td>\n",
       "      <td>1</td>\n",
       "      <td>35.0</td>\n",
       "      <td>1</td>\n",
       "      <td>0</td>\n",
       "      <td>53.1000</td>\n",
       "      <td>2</td>\n",
       "      <td>0</td>\n",
       "      <td>0</td>\n",
       "      <td>0</td>\n",
       "      <td>2</td>\n",
       "      <td>2</td>\n",
       "      <td>0</td>\n",
       "    </tr>\n",
       "    <tr>\n",
       "      <th>6</th>\n",
       "      <td>0</td>\n",
       "      <td>1</td>\n",
       "      <td>0</td>\n",
       "      <td>54.0</td>\n",
       "      <td>0</td>\n",
       "      <td>0</td>\n",
       "      <td>51.8625</td>\n",
       "      <td>2</td>\n",
       "      <td>0</td>\n",
       "      <td>3</td>\n",
       "      <td>0</td>\n",
       "      <td>4</td>\n",
       "      <td>2</td>\n",
       "      <td>0</td>\n",
       "    </tr>\n",
       "    <tr>\n",
       "      <th>10</th>\n",
       "      <td>1</td>\n",
       "      <td>3</td>\n",
       "      <td>1</td>\n",
       "      <td>4.0</td>\n",
       "      <td>1</td>\n",
       "      <td>1</td>\n",
       "      <td>16.7000</td>\n",
       "      <td>2</td>\n",
       "      <td>2</td>\n",
       "      <td>2</td>\n",
       "      <td>0</td>\n",
       "      <td>6</td>\n",
       "      <td>2</td>\n",
       "      <td>0</td>\n",
       "    </tr>\n",
       "    <tr>\n",
       "      <th>11</th>\n",
       "      <td>1</td>\n",
       "      <td>1</td>\n",
       "      <td>1</td>\n",
       "      <td>58.0</td>\n",
       "      <td>0</td>\n",
       "      <td>0</td>\n",
       "      <td>26.5500</td>\n",
       "      <td>2</td>\n",
       "      <td>0</td>\n",
       "      <td>0</td>\n",
       "      <td>0</td>\n",
       "      <td>2</td>\n",
       "      <td>2</td>\n",
       "      <td>0</td>\n",
       "    </tr>\n",
       "    <tr>\n",
       "      <th>...</th>\n",
       "      <td>...</td>\n",
       "      <td>...</td>\n",
       "      <td>...</td>\n",
       "      <td>...</td>\n",
       "      <td>...</td>\n",
       "      <td>...</td>\n",
       "      <td>...</td>\n",
       "      <td>...</td>\n",
       "      <td>...</td>\n",
       "      <td>...</td>\n",
       "      <td>...</td>\n",
       "      <td>...</td>\n",
       "      <td>...</td>\n",
       "      <td>...</td>\n",
       "    </tr>\n",
       "    <tr>\n",
       "      <th>871</th>\n",
       "      <td>1</td>\n",
       "      <td>1</td>\n",
       "      <td>1</td>\n",
       "      <td>47.0</td>\n",
       "      <td>1</td>\n",
       "      <td>1</td>\n",
       "      <td>52.5542</td>\n",
       "      <td>2</td>\n",
       "      <td>0</td>\n",
       "      <td>0</td>\n",
       "      <td>0</td>\n",
       "      <td>3</td>\n",
       "      <td>2</td>\n",
       "      <td>0</td>\n",
       "    </tr>\n",
       "    <tr>\n",
       "      <th>872</th>\n",
       "      <td>0</td>\n",
       "      <td>1</td>\n",
       "      <td>0</td>\n",
       "      <td>33.0</td>\n",
       "      <td>0</td>\n",
       "      <td>0</td>\n",
       "      <td>5.0000</td>\n",
       "      <td>2</td>\n",
       "      <td>0</td>\n",
       "      <td>3</td>\n",
       "      <td>0</td>\n",
       "      <td>1</td>\n",
       "      <td>2</td>\n",
       "      <td>0</td>\n",
       "    </tr>\n",
       "    <tr>\n",
       "      <th>879</th>\n",
       "      <td>1</td>\n",
       "      <td>1</td>\n",
       "      <td>1</td>\n",
       "      <td>56.0</td>\n",
       "      <td>0</td>\n",
       "      <td>1</td>\n",
       "      <td>83.1583</td>\n",
       "      <td>1</td>\n",
       "      <td>0</td>\n",
       "      <td>0</td>\n",
       "      <td>0</td>\n",
       "      <td>2</td>\n",
       "      <td>0</td>\n",
       "      <td>0</td>\n",
       "    </tr>\n",
       "    <tr>\n",
       "      <th>887</th>\n",
       "      <td>1</td>\n",
       "      <td>1</td>\n",
       "      <td>1</td>\n",
       "      <td>19.0</td>\n",
       "      <td>0</td>\n",
       "      <td>0</td>\n",
       "      <td>30.0000</td>\n",
       "      <td>2</td>\n",
       "      <td>0</td>\n",
       "      <td>0</td>\n",
       "      <td>0</td>\n",
       "      <td>1</td>\n",
       "      <td>2</td>\n",
       "      <td>0</td>\n",
       "    </tr>\n",
       "    <tr>\n",
       "      <th>889</th>\n",
       "      <td>1</td>\n",
       "      <td>1</td>\n",
       "      <td>0</td>\n",
       "      <td>26.0</td>\n",
       "      <td>0</td>\n",
       "      <td>0</td>\n",
       "      <td>30.0000</td>\n",
       "      <td>1</td>\n",
       "      <td>0</td>\n",
       "      <td>3</td>\n",
       "      <td>0</td>\n",
       "      <td>2</td>\n",
       "      <td>0</td>\n",
       "      <td>0</td>\n",
       "    </tr>\n",
       "  </tbody>\n",
       "</table>\n",
       "<p>182 rows × 14 columns</p>\n",
       "</div>"
      ],
      "text/plain": [
       "     survived  pclass  sex   age  sibsp  parch     fare  embarked class  who  \\\n",
       "1           1       1    1  38.0      1      0  71.2833         1     0    0   \n",
       "3           1       1    1  35.0      1      0  53.1000         2     0    0   \n",
       "6           0       1    0  54.0      0      0  51.8625         2     0    3   \n",
       "10          1       3    1   4.0      1      1  16.7000         2     2    2   \n",
       "11          1       1    1  58.0      0      0  26.5500         2     0    0   \n",
       "..        ...     ...  ...   ...    ...    ...      ...       ...   ...  ...   \n",
       "871         1       1    1  47.0      1      1  52.5542         2     0    0   \n",
       "872         0       1    0  33.0      0      0   5.0000         2     0    3   \n",
       "879         1       1    1  56.0      0      1  83.1583         1     0    0   \n",
       "887         1       1    1  19.0      0      0  30.0000         2     0    0   \n",
       "889         1       1    0  26.0      0      0  30.0000         1     0    3   \n",
       "\n",
       "     adult_male deck  embark_town  alone  \n",
       "1             0    2            0      0  \n",
       "3             0    2            2      0  \n",
       "6             0    4            2      0  \n",
       "10            0    6            2      0  \n",
       "11            0    2            2      0  \n",
       "..          ...  ...          ...    ...  \n",
       "871           0    3            2      0  \n",
       "872           0    1            2      0  \n",
       "879           0    2            0      0  \n",
       "887           0    1            2      0  \n",
       "889           0    2            0      0  \n",
       "\n",
       "[182 rows x 14 columns]"
      ]
     },
     "execution_count": 33,
     "metadata": {},
     "output_type": "execute_result"
    }
   ],
   "source": [
    "titanic"
   ]
  },
  {
   "cell_type": "code",
   "execution_count": 34,
   "metadata": {
    "id": "82MnZPBok4wx"
   },
   "outputs": [],
   "source": [
    "X = titanic.loc[:,'pclass':]\n",
    "y = titanic['survived']"
   ]
  },
  {
   "cell_type": "code",
   "execution_count": 35,
   "metadata": {},
   "outputs": [
    {
     "data": {
      "text/html": [
       "<div>\n",
       "<style scoped>\n",
       "    .dataframe tbody tr th:only-of-type {\n",
       "        vertical-align: middle;\n",
       "    }\n",
       "\n",
       "    .dataframe tbody tr th {\n",
       "        vertical-align: top;\n",
       "    }\n",
       "\n",
       "    .dataframe thead th {\n",
       "        text-align: right;\n",
       "    }\n",
       "</style>\n",
       "<table border=\"1\" class=\"dataframe\">\n",
       "  <thead>\n",
       "    <tr style=\"text-align: right;\">\n",
       "      <th></th>\n",
       "      <th>pclass</th>\n",
       "      <th>sex</th>\n",
       "      <th>age</th>\n",
       "      <th>sibsp</th>\n",
       "      <th>parch</th>\n",
       "      <th>fare</th>\n",
       "      <th>embarked</th>\n",
       "      <th>class</th>\n",
       "      <th>who</th>\n",
       "      <th>adult_male</th>\n",
       "      <th>deck</th>\n",
       "      <th>embark_town</th>\n",
       "      <th>alone</th>\n",
       "    </tr>\n",
       "  </thead>\n",
       "  <tbody>\n",
       "    <tr>\n",
       "      <th>1</th>\n",
       "      <td>1</td>\n",
       "      <td>1</td>\n",
       "      <td>38.0</td>\n",
       "      <td>1</td>\n",
       "      <td>0</td>\n",
       "      <td>71.2833</td>\n",
       "      <td>1</td>\n",
       "      <td>0</td>\n",
       "      <td>0</td>\n",
       "      <td>0</td>\n",
       "      <td>2</td>\n",
       "      <td>0</td>\n",
       "      <td>0</td>\n",
       "    </tr>\n",
       "    <tr>\n",
       "      <th>3</th>\n",
       "      <td>1</td>\n",
       "      <td>1</td>\n",
       "      <td>35.0</td>\n",
       "      <td>1</td>\n",
       "      <td>0</td>\n",
       "      <td>53.1000</td>\n",
       "      <td>2</td>\n",
       "      <td>0</td>\n",
       "      <td>0</td>\n",
       "      <td>0</td>\n",
       "      <td>2</td>\n",
       "      <td>2</td>\n",
       "      <td>0</td>\n",
       "    </tr>\n",
       "    <tr>\n",
       "      <th>6</th>\n",
       "      <td>1</td>\n",
       "      <td>0</td>\n",
       "      <td>54.0</td>\n",
       "      <td>0</td>\n",
       "      <td>0</td>\n",
       "      <td>51.8625</td>\n",
       "      <td>2</td>\n",
       "      <td>0</td>\n",
       "      <td>3</td>\n",
       "      <td>0</td>\n",
       "      <td>4</td>\n",
       "      <td>2</td>\n",
       "      <td>0</td>\n",
       "    </tr>\n",
       "    <tr>\n",
       "      <th>10</th>\n",
       "      <td>3</td>\n",
       "      <td>1</td>\n",
       "      <td>4.0</td>\n",
       "      <td>1</td>\n",
       "      <td>1</td>\n",
       "      <td>16.7000</td>\n",
       "      <td>2</td>\n",
       "      <td>2</td>\n",
       "      <td>2</td>\n",
       "      <td>0</td>\n",
       "      <td>6</td>\n",
       "      <td>2</td>\n",
       "      <td>0</td>\n",
       "    </tr>\n",
       "    <tr>\n",
       "      <th>11</th>\n",
       "      <td>1</td>\n",
       "      <td>1</td>\n",
       "      <td>58.0</td>\n",
       "      <td>0</td>\n",
       "      <td>0</td>\n",
       "      <td>26.5500</td>\n",
       "      <td>2</td>\n",
       "      <td>0</td>\n",
       "      <td>0</td>\n",
       "      <td>0</td>\n",
       "      <td>2</td>\n",
       "      <td>2</td>\n",
       "      <td>0</td>\n",
       "    </tr>\n",
       "    <tr>\n",
       "      <th>...</th>\n",
       "      <td>...</td>\n",
       "      <td>...</td>\n",
       "      <td>...</td>\n",
       "      <td>...</td>\n",
       "      <td>...</td>\n",
       "      <td>...</td>\n",
       "      <td>...</td>\n",
       "      <td>...</td>\n",
       "      <td>...</td>\n",
       "      <td>...</td>\n",
       "      <td>...</td>\n",
       "      <td>...</td>\n",
       "      <td>...</td>\n",
       "    </tr>\n",
       "    <tr>\n",
       "      <th>871</th>\n",
       "      <td>1</td>\n",
       "      <td>1</td>\n",
       "      <td>47.0</td>\n",
       "      <td>1</td>\n",
       "      <td>1</td>\n",
       "      <td>52.5542</td>\n",
       "      <td>2</td>\n",
       "      <td>0</td>\n",
       "      <td>0</td>\n",
       "      <td>0</td>\n",
       "      <td>3</td>\n",
       "      <td>2</td>\n",
       "      <td>0</td>\n",
       "    </tr>\n",
       "    <tr>\n",
       "      <th>872</th>\n",
       "      <td>1</td>\n",
       "      <td>0</td>\n",
       "      <td>33.0</td>\n",
       "      <td>0</td>\n",
       "      <td>0</td>\n",
       "      <td>5.0000</td>\n",
       "      <td>2</td>\n",
       "      <td>0</td>\n",
       "      <td>3</td>\n",
       "      <td>0</td>\n",
       "      <td>1</td>\n",
       "      <td>2</td>\n",
       "      <td>0</td>\n",
       "    </tr>\n",
       "    <tr>\n",
       "      <th>879</th>\n",
       "      <td>1</td>\n",
       "      <td>1</td>\n",
       "      <td>56.0</td>\n",
       "      <td>0</td>\n",
       "      <td>1</td>\n",
       "      <td>83.1583</td>\n",
       "      <td>1</td>\n",
       "      <td>0</td>\n",
       "      <td>0</td>\n",
       "      <td>0</td>\n",
       "      <td>2</td>\n",
       "      <td>0</td>\n",
       "      <td>0</td>\n",
       "    </tr>\n",
       "    <tr>\n",
       "      <th>887</th>\n",
       "      <td>1</td>\n",
       "      <td>1</td>\n",
       "      <td>19.0</td>\n",
       "      <td>0</td>\n",
       "      <td>0</td>\n",
       "      <td>30.0000</td>\n",
       "      <td>2</td>\n",
       "      <td>0</td>\n",
       "      <td>0</td>\n",
       "      <td>0</td>\n",
       "      <td>1</td>\n",
       "      <td>2</td>\n",
       "      <td>0</td>\n",
       "    </tr>\n",
       "    <tr>\n",
       "      <th>889</th>\n",
       "      <td>1</td>\n",
       "      <td>0</td>\n",
       "      <td>26.0</td>\n",
       "      <td>0</td>\n",
       "      <td>0</td>\n",
       "      <td>30.0000</td>\n",
       "      <td>1</td>\n",
       "      <td>0</td>\n",
       "      <td>3</td>\n",
       "      <td>0</td>\n",
       "      <td>2</td>\n",
       "      <td>0</td>\n",
       "      <td>0</td>\n",
       "    </tr>\n",
       "  </tbody>\n",
       "</table>\n",
       "<p>182 rows × 13 columns</p>\n",
       "</div>"
      ],
      "text/plain": [
       "     pclass  sex   age  sibsp  parch     fare  embarked class  who  \\\n",
       "1         1    1  38.0      1      0  71.2833         1     0    0   \n",
       "3         1    1  35.0      1      0  53.1000         2     0    0   \n",
       "6         1    0  54.0      0      0  51.8625         2     0    3   \n",
       "10        3    1   4.0      1      1  16.7000         2     2    2   \n",
       "11        1    1  58.0      0      0  26.5500         2     0    0   \n",
       "..      ...  ...   ...    ...    ...      ...       ...   ...  ...   \n",
       "871       1    1  47.0      1      1  52.5542         2     0    0   \n",
       "872       1    0  33.0      0      0   5.0000         2     0    3   \n",
       "879       1    1  56.0      0      1  83.1583         1     0    0   \n",
       "887       1    1  19.0      0      0  30.0000         2     0    0   \n",
       "889       1    0  26.0      0      0  30.0000         1     0    3   \n",
       "\n",
       "     adult_male deck  embark_town  alone  \n",
       "1             0    2            0      0  \n",
       "3             0    2            2      0  \n",
       "6             0    4            2      0  \n",
       "10            0    6            2      0  \n",
       "11            0    2            2      0  \n",
       "..          ...  ...          ...    ...  \n",
       "871           0    3            2      0  \n",
       "872           0    1            2      0  \n",
       "879           0    2            0      0  \n",
       "887           0    1            2      0  \n",
       "889           0    2            0      0  \n",
       "\n",
       "[182 rows x 13 columns]"
      ]
     },
     "execution_count": 35,
     "metadata": {},
     "output_type": "execute_result"
    }
   ],
   "source": [
    "X"
   ]
  },
  {
   "cell_type": "code",
   "execution_count": 36,
   "metadata": {},
   "outputs": [
    {
     "data": {
      "text/plain": [
       "1      1\n",
       "3      1\n",
       "6      0\n",
       "10     1\n",
       "11     1\n",
       "      ..\n",
       "871    1\n",
       "872    0\n",
       "879    1\n",
       "887    1\n",
       "889    1\n",
       "Name: survived, Length: 182, dtype: int64"
      ]
     },
     "execution_count": 36,
     "metadata": {},
     "output_type": "execute_result"
    }
   ],
   "source": [
    "y"
   ]
  },
  {
   "cell_type": "code",
   "execution_count": 37,
   "metadata": {},
   "outputs": [
    {
     "name": "stdout",
     "output_type": "stream",
     "text": [
      "(121, 13)\n",
      "(61, 13)\n",
      "(121,)\n",
      "(61,)\n"
     ]
    }
   ],
   "source": [
    "X_train, X_test, y_train, y_test = train_test_split(X, y, test_size=0.33)\n",
    "print(X_train.shape)\n",
    "print(X_test.shape)\n",
    "print(y_train.shape)\n",
    "print(y_test.shape)"
   ]
  },
  {
   "cell_type": "code",
   "execution_count": 38,
   "metadata": {},
   "outputs": [],
   "source": [
    "from sklearn.preprocessing import StandardScaler\n",
    "scaler = StandardScaler()\n",
    "scaler.fit(X_train)                 # Il ne faut filtrer que sur les data d'entrainement\n",
    "X_train = scaler.transform(X_train)\n",
    "X_test  = scaler.transform(X_test)  # apply same transformation to test data"
   ]
  },
  {
   "cell_type": "code",
   "execution_count": 39,
   "metadata": {},
   "outputs": [
    {
     "data": {
      "text/plain": [
       "array([ 0.48847259,  0.50540773, -0.069431  , -1.11675461,  0.32766571])"
      ]
     },
     "execution_count": 39,
     "metadata": {},
     "output_type": "execute_result"
    }
   ],
   "source": [
    "from sklearn import svm\n",
    "svr = svm.SVR(kernel='linear')\n",
    "from sklearn.model_selection import  cross_val_score\n",
    "cross_val_score(svr, X, y, n_jobs=-1)"
   ]
  },
  {
   "cell_type": "code",
   "execution_count": 40,
   "metadata": {},
   "outputs": [
    {
     "name": "stdout",
     "output_type": "stream",
     "text": [
      "0.007799504930451162 SVR(C=105, gamma=0.01, kernel='linear')\n"
     ]
    },
    {
     "data": {
      "text/plain": [
       "(0.007799504930451162, SVR(C=105, gamma=0.01, kernel='linear'))"
      ]
     },
     "execution_count": 40,
     "metadata": {},
     "output_type": "execute_result"
    }
   ],
   "source": [
    "def test_hyperparametres(hyperparametres):\n",
    "    grid = GridSearchCV(svm.SVR(), hyperparametres, n_jobs=-1)\n",
    "    grid.fit(X_train, y_train)\n",
    "    print (grid.best_score_, grid.best_estimator_)    \n",
    "    return grid.best_score_, grid.best_estimator_\n",
    "    \n",
    "\n",
    "hyperparametres = {  'gamma' : [0.01, 0.1, 0.5, 0.015]          ,\n",
    "                  \"kernel\" : ['linear', 'poly', 'rbf', 'sigmoid',  ],\n",
    "                  \"C\" : [105, 200]}\n",
    "test_hyperparametres(hyperparametres)"
   ]
  },
  {
   "cell_type": "markdown",
   "metadata": {
    "id": "XFCHxZCjk5Ch"
   },
   "source": [
    "#### 3) Which is the best model?"
   ]
  },
  {
   "cell_type": "code",
   "execution_count": 41,
   "metadata": {
    "id": "DOfFFzNZk7s7"
   },
   "outputs": [
    {
     "name": "stdout",
     "output_type": "stream",
     "text": [
      "Transforms lists of featu\n",
      "'numpy.ndarray' object has no attribute 'items'\n",
      "==============================\n",
      "Implements feature hashin\n",
      "'FeatureHasher' object has no attribute 'score'\n",
      "==============================\n",
      "Bayesian ARD regression.\n",
      "0.37751436543421935\n",
      "==============================\n",
      "Bayesian ridge regression\n",
      "0.3316295105673228\n",
      "==============================\n",
      "Linear regression with co\n",
      "-0.004043520966887426\n",
      "==============================\n",
      "Elastic Net model with it\n",
      "0.36182556131138677\n",
      "==============================\n",
      "Generalized Linear Model\n",
      "Some value(s) of y are out of the valid range for \n",
      "==============================\n",
      "Linear regression model t\n",
      "-0.03223369495038941\n",
      "==============================\n",
      "Least Angle Regression mo\n",
      "0.27858301522061546\n",
      "==============================\n",
      "Cross-validated Least Ang\n",
      "0.37757721127806343\n",
      "==============================\n",
      "Linear Model trained with\n",
      "-0.004043520966887426\n",
      "==============================\n",
      "Lasso linear model with i\n",
      "0.36296656762743895"
     ]
    },
    {
     "name": "stderr",
     "output_type": "stream",
     "text": [
      "C:\\Users\\theoj\\anaconda3\\lib\\site-packages\\sklearn\\linear_model\\_least_angle.py:571: ConvergenceWarning: Regressors in active set degenerate. Dropping a regressor, after 11 iterations, i.e. alpha=2.100e-04, with an active set of 10 regressors, and the smallest cholesky pivot element being 2.220e-16. Reduce max_iter or increase eps parameters.\n",
      "  warnings.warn('Regressors in active set degenerate. '\n",
      "C:\\Users\\theoj\\anaconda3\\lib\\site-packages\\sklearn\\linear_model\\_least_angle.py:571: ConvergenceWarning: Regressors in active set degenerate. Dropping a regressor, after 6 iterations, i.e. alpha=2.601e-03, with an active set of 6 regressors, and the smallest cholesky pivot element being 2.220e-16. Reduce max_iter or increase eps parameters.\n",
      "  warnings.warn('Regressors in active set degenerate. '\n",
      "C:\\Users\\theoj\\anaconda3\\lib\\site-packages\\sklearn\\linear_model\\_least_angle.py:571: ConvergenceWarning: Regressors in active set degenerate. Dropping a regressor, after 7 iterations, i.e. alpha=2.145e-03, with an active set of 7 regressors, and the smallest cholesky pivot element being 2.220e-16. Reduce max_iter or increase eps parameters.\n",
      "  warnings.warn('Regressors in active set degenerate. '\n",
      "C:\\Users\\theoj\\anaconda3\\lib\\site-packages\\sklearn\\linear_model\\_least_angle.py:571: ConvergenceWarning: Regressors in active set degenerate. Dropping a regressor, after 7 iterations, i.e. alpha=2.145e-03, with an active set of 7 regressors, and the smallest cholesky pivot element being 1.054e-08. Reduce max_iter or increase eps parameters.\n",
      "  warnings.warn('Regressors in active set degenerate. '\n",
      "C:\\Users\\theoj\\anaconda3\\lib\\site-packages\\sklearn\\linear_model\\_least_angle.py:571: ConvergenceWarning: Regressors in active set degenerate. Dropping a regressor, after 8 iterations, i.e. alpha=2.880e-04, with an active set of 8 regressors, and the smallest cholesky pivot element being 1.054e-08. Reduce max_iter or increase eps parameters.\n",
      "  warnings.warn('Regressors in active set degenerate. '\n",
      "C:\\Users\\theoj\\anaconda3\\lib\\site-packages\\sklearn\\linear_model\\_least_angle.py:571: ConvergenceWarning: Regressors in active set degenerate. Dropping a regressor, after 8 iterations, i.e. alpha=1.437e-04, with an active set of 8 regressors, and the smallest cholesky pivot element being 2.220e-16. Reduce max_iter or increase eps parameters.\n",
      "  warnings.warn('Regressors in active set degenerate. '\n",
      "C:\\Users\\theoj\\anaconda3\\lib\\site-packages\\sklearn\\linear_model\\_least_angle.py:571: ConvergenceWarning: Regressors in active set degenerate. Dropping a regressor, after 9 iterations, i.e. alpha=5.858e-05, with an active set of 9 regressors, and the smallest cholesky pivot element being 2.220e-16. Reduce max_iter or increase eps parameters.\n",
      "  warnings.warn('Regressors in active set degenerate. '\n",
      "C:\\Users\\theoj\\anaconda3\\lib\\site-packages\\sklearn\\linear_model\\_least_angle.py:571: ConvergenceWarning: Regressors in active set degenerate. Dropping a regressor, after 9 iterations, i.e. alpha=5.858e-05, with an active set of 9 regressors, and the smallest cholesky pivot element being 1.054e-08. Reduce max_iter or increase eps parameters.\n",
      "  warnings.warn('Regressors in active set degenerate. '\n",
      "C:\\Users\\theoj\\anaconda3\\lib\\site-packages\\sklearn\\linear_model\\_least_angle.py:571: ConvergenceWarning: Regressors in active set degenerate. Dropping a regressor, after 8 iterations, i.e. alpha=1.501e-03, with an active set of 7 regressors, and the smallest cholesky pivot element being 1.490e-08. Reduce max_iter or increase eps parameters.\n",
      "  warnings.warn('Regressors in active set degenerate. '\n",
      "C:\\Users\\theoj\\anaconda3\\lib\\site-packages\\sklearn\\linear_model\\_least_angle.py:571: ConvergenceWarning: Regressors in active set degenerate. Dropping a regressor, after 9 iterations, i.e. alpha=3.598e-04, with an active set of 8 regressors, and the smallest cholesky pivot element being 1.490e-08. Reduce max_iter or increase eps parameters.\n",
      "  warnings.warn('Regressors in active set degenerate. '\n",
      "C:\\Users\\theoj\\anaconda3\\lib\\site-packages\\sklearn\\linear_model\\_least_angle.py:571: ConvergenceWarning: Regressors in active set degenerate. Dropping a regressor, after 9 iterations, i.e. alpha=2.103e-04, with an active set of 8 regressors, and the smallest cholesky pivot element being 1.490e-08. Reduce max_iter or increase eps parameters.\n",
      "  warnings.warn('Regressors in active set degenerate. '\n",
      "C:\\Users\\theoj\\anaconda3\\lib\\site-packages\\sklearn\\linear_model\\_least_angle.py:571: ConvergenceWarning: Regressors in active set degenerate. Dropping a regressor, after 11 iterations, i.e. alpha=1.326e-05, with an active set of 10 regressors, and the smallest cholesky pivot element being 1.490e-08. Reduce max_iter or increase eps parameters.\n",
      "  warnings.warn('Regressors in active set degenerate. '\n",
      "C:\\Users\\theoj\\anaconda3\\lib\\site-packages\\sklearn\\linear_model\\_least_angle.py:571: ConvergenceWarning: Regressors in active set degenerate. Dropping a regressor, after 6 iterations, i.e. alpha=2.601e-03, with an active set of 6 regressors, and the smallest cholesky pivot element being 2.220e-16. Reduce max_iter or increase eps parameters.\n",
      "  warnings.warn('Regressors in active set degenerate. '\n"
     ]
    },
    {
     "name": "stdout",
     "output_type": "stream",
     "text": [
      "\n",
      "==============================\n",
      "Lasso model fit with Leas\n",
      "-0.004043520966887426\n",
      "==============================\n",
      "Cross-validated Lasso, us\n",
      "0.3646896911476094\n",
      "==============================\n",
      "Lasso model fit with Lars\n",
      "0.350380946195733\n",
      "==============================\n",
      "Ordinary least squar\n",
      "0.36096271917424816\n",
      "==============================\n",
      "Logistic Regression\n",
      "0.7868852459016393\n",
      "==============================\n",
      "Logistic Regression CV (a\n"
     ]
    },
    {
     "name": "stderr",
     "output_type": "stream",
     "text": [
      "C:\\Users\\theoj\\anaconda3\\lib\\site-packages\\sklearn\\linear_model\\_least_angle.py:571: ConvergenceWarning: Regressors in active set degenerate. Dropping a regressor, after 7 iterations, i.e. alpha=2.145e-03, with an active set of 7 regressors, and the smallest cholesky pivot element being 2.220e-16. Reduce max_iter or increase eps parameters.\n",
      "  warnings.warn('Regressors in active set degenerate. '\n",
      "C:\\Users\\theoj\\anaconda3\\lib\\site-packages\\sklearn\\linear_model\\_least_angle.py:571: ConvergenceWarning: Regressors in active set degenerate. Dropping a regressor, after 7 iterations, i.e. alpha=2.145e-03, with an active set of 7 regressors, and the smallest cholesky pivot element being 1.054e-08. Reduce max_iter or increase eps parameters.\n",
      "  warnings.warn('Regressors in active set degenerate. '\n",
      "C:\\Users\\theoj\\anaconda3\\lib\\site-packages\\sklearn\\linear_model\\_least_angle.py:571: ConvergenceWarning: Regressors in active set degenerate. Dropping a regressor, after 8 iterations, i.e. alpha=2.880e-04, with an active set of 8 regressors, and the smallest cholesky pivot element being 1.054e-08. Reduce max_iter or increase eps parameters.\n",
      "  warnings.warn('Regressors in active set degenerate. '\n",
      "C:\\Users\\theoj\\anaconda3\\lib\\site-packages\\sklearn\\linear_model\\_least_angle.py:571: ConvergenceWarning: Regressors in active set degenerate. Dropping a regressor, after 8 iterations, i.e. alpha=1.437e-04, with an active set of 8 regressors, and the smallest cholesky pivot element being 2.220e-16. Reduce max_iter or increase eps parameters.\n",
      "  warnings.warn('Regressors in active set degenerate. '\n",
      "C:\\Users\\theoj\\anaconda3\\lib\\site-packages\\sklearn\\linear_model\\_least_angle.py:571: ConvergenceWarning: Regressors in active set degenerate. Dropping a regressor, after 9 iterations, i.e. alpha=5.858e-05, with an active set of 9 regressors, and the smallest cholesky pivot element being 2.220e-16. Reduce max_iter or increase eps parameters.\n",
      "  warnings.warn('Regressors in active set degenerate. '\n",
      "C:\\Users\\theoj\\anaconda3\\lib\\site-packages\\sklearn\\linear_model\\_least_angle.py:571: ConvergenceWarning: Regressors in active set degenerate. Dropping a regressor, after 9 iterations, i.e. alpha=5.858e-05, with an active set of 9 regressors, and the smallest cholesky pivot element being 1.054e-08. Reduce max_iter or increase eps parameters.\n",
      "  warnings.warn('Regressors in active set degenerate. '\n"
     ]
    },
    {
     "name": "stdout",
     "output_type": "stream",
     "text": [
      "0.7868852459016393\n",
      "==============================\n",
      "Multi-task ElasticNet mod\n",
      "For mono-task outputs, use ElasticNet\n",
      "==============================\n",
      "Multi-task L1/L2 ElasticN\n",
      "For mono-task outputs, use ElasticNetCV\n",
      "==============================\n",
      "Multi-task Lasso model tr\n",
      "For mono-task outputs, use ElasticNet\n",
      "==============================\n",
      "Multi-task Lasso model tr\n",
      "For mono-task outputs, use LassoCV\n",
      "==============================\n",
      "Orthogonal Matching Pursu\n",
      "0.35732563219330427\n",
      "==============================\n",
      "Cross-validated Orthogona\n",
      "0.35732563219330427\n",
      "==============================\n",
      "Passive Aggressive Classi\n",
      "0.6885245901639344\n",
      "==============================\n",
      "Passive Aggressive Regres\n",
      "-1.3561697394873176\n",
      "==============================\n",
      "Perceptron\n",
      "\n",
      "    Read more\n",
      "0.7377049180327869\n",
      "==============================\n",
      "Generalized Linear Model\n",
      "0.16441457036577067\n",
      "==============================\n",
      "RANSAC (RANdom SAmple Con\n",
      "RANSAC could not find a valid consensus set. All `\n",
      "==============================\n",
      "Linear least squares with\n",
      "0.3570298001060114\n",
      "==============================\n",
      "Ridge regression with bui\n",
      "0.34020037966659933\n",
      "==============================\n",
      "Classifier using Ridge re\n",
      "0.7704918032786885\n",
      "==============================\n",
      "Ridge classifier with bui\n",
      "0.7704918032786885\n",
      "==============================\n",
      "Linear classifiers (SVM,\n",
      "0.7213114754098361\n",
      "==============================\n",
      "Linear model fitted by mi\n",
      "0.3297403893287101\n",
      "==============================\n",
      "Theil-Sen Estimator\n"
     ]
    },
    {
     "name": "stderr",
     "output_type": "stream",
     "text": [
      "C:\\Users\\theoj\\anaconda3\\lib\\site-packages\\sklearn\\linear_model\\_omp.py:388: RuntimeWarning:  Orthogonal matching pursuit ended prematurely due to linear\n",
      "dependence in the dictionary. The requested precision might not have been met.\n",
      "\n",
      "  out = _cholesky_omp(\n"
     ]
    },
    {
     "name": "stdout",
     "output_type": "stream",
     "text": [
      "0.3799138900999436\n",
      "==============================\n",
      "Generalized Linear Model\n",
      "0.29369188335025576\n",
      "==============================\n",
      "__init__() missing 2 required positional arguments\n",
      "==============================\n",
      "__init__() missing 2 required positional arguments\n",
      "==============================\n",
      "Binarize data (set featur\n",
      "'Binarizer' object has no attribute 'score'\n",
      "==============================\n",
      "Constructs a transformer\n",
      "'FunctionTransformer' object has no attribute 'sco\n",
      "==============================\n",
      "Bin continuous data\n",
      "'KBinsDiscretizer' object has no attribute 'score'\n",
      "==============================\n",
      "Center a kernel matrix\n",
      "Kernel matrix must be a square matrix. Input is a \n",
      "==============================\n",
      "Binarize labels in a one-\n",
      "fit() takes 2 positional arguments but 3 were give\n",
      "==============================\n",
      "Encode target labels with\n",
      "fit() takes 2 positional arguments but 3 were give\n",
      "==============================\n",
      "Scale each feature by its\n",
      "'MaxAbsScaler' object has no attribute 'score'\n",
      "==============================\n",
      "Transform features by sca\n",
      "'MinMaxScaler' object has no attribute 'score'\n",
      "==============================\n",
      "Transform between iterabl\n",
      "fit() takes 2 positional arguments but 3 were give\n",
      "==============================\n",
      "Normalize samples individ\n",
      "'Normalizer' object has no attribute 'score'\n",
      "==============================\n",
      "Encode categorical f\n",
      "'OneHotEncoder' object has no attribute 'score'\n",
      "==============================\n",
      "Encode categorical f\n",
      "'OrdinalEncoder' object has no attribute 'score'\n",
      "==============================\n",
      "Generate polynomial and i\n",
      "'PolynomialFeatures' object has no attribute 'scor\n",
      "==============================\n",
      "Apply a power transform f\n",
      "'PowerTransformer' object has no attribute 'score'\n",
      "==============================\n",
      "Transform features using\n",
      "'QuantileTransformer' object has no attribute 'sco\n",
      "==============================\n",
      "Scale features using stat\n",
      "'RobustScaler' object has no attribute 'score'\n",
      "==============================\n",
      "Standardize features by r\n",
      "'StandardScaler' object has no attribute 'score'\n",
      "==============================\n",
      "Linear Support Vector Cla\n",
      "0.7540983606557377\n",
      "==============================\n",
      "Linear Support Vector Reg\n",
      "-0.053034048785044696\n",
      "==============================\n",
      "Nu-Support Vector Classif\n",
      "0.7049180327868853\n",
      "==============================\n",
      "Nu Support Vector Regress\n",
      "0.103555774235643\n",
      "==============================\n",
      "Unsupervised Outlier Dete\n",
      "'OneClassSVM' object has no attribute 'score'\n",
      "==============================\n",
      "C-Support Vector Classifi\n",
      "0.6885245901639344\n",
      "==============================\n",
      "Epsilon-Support Vector Re\n",
      "0.10247214823331341\n",
      "==============================\n",
      "'module' object is not callable\n",
      "==============================\n"
     ]
    },
    {
     "name": "stderr",
     "output_type": "stream",
     "text": [
      "C:\\Users\\theoj\\anaconda3\\lib\\site-packages\\sklearn\\preprocessing\\_discretization.py:200: UserWarning: Bins whose width are too small (i.e., <= 1e-8) in feature 0 are removed. Consider decreasing the number of bins.\n",
      "  warnings.warn('Bins whose width are too small (i.e., <= '\n",
      "C:\\Users\\theoj\\anaconda3\\lib\\site-packages\\sklearn\\preprocessing\\_discretization.py:200: UserWarning: Bins whose width are too small (i.e., <= 1e-8) in feature 1 are removed. Consider decreasing the number of bins.\n",
      "  warnings.warn('Bins whose width are too small (i.e., <= '\n",
      "C:\\Users\\theoj\\anaconda3\\lib\\site-packages\\sklearn\\preprocessing\\_discretization.py:200: UserWarning: Bins whose width are too small (i.e., <= 1e-8) in feature 3 are removed. Consider decreasing the number of bins.\n",
      "  warnings.warn('Bins whose width are too small (i.e., <= '\n",
      "C:\\Users\\theoj\\anaconda3\\lib\\site-packages\\sklearn\\preprocessing\\_discretization.py:200: UserWarning: Bins whose width are too small (i.e., <= 1e-8) in feature 4 are removed. Consider decreasing the number of bins.\n",
      "  warnings.warn('Bins whose width are too small (i.e., <= '\n",
      "C:\\Users\\theoj\\anaconda3\\lib\\site-packages\\sklearn\\preprocessing\\_discretization.py:200: UserWarning: Bins whose width are too small (i.e., <= 1e-8) in feature 6 are removed. Consider decreasing the number of bins.\n",
      "  warnings.warn('Bins whose width are too small (i.e., <= '\n",
      "C:\\Users\\theoj\\anaconda3\\lib\\site-packages\\sklearn\\preprocessing\\_discretization.py:200: UserWarning: Bins whose width are too small (i.e., <= 1e-8) in feature 7 are removed. Consider decreasing the number of bins.\n",
      "  warnings.warn('Bins whose width are too small (i.e., <= '\n",
      "C:\\Users\\theoj\\anaconda3\\lib\\site-packages\\sklearn\\preprocessing\\_discretization.py:200: UserWarning: Bins whose width are too small (i.e., <= 1e-8) in feature 8 are removed. Consider decreasing the number of bins.\n",
      "  warnings.warn('Bins whose width are too small (i.e., <= '\n",
      "C:\\Users\\theoj\\anaconda3\\lib\\site-packages\\sklearn\\preprocessing\\_discretization.py:167: UserWarning: Feature 9 is constant and will be replaced with 0.\n",
      "  warnings.warn(\"Feature %d is constant and will be \"\n",
      "C:\\Users\\theoj\\anaconda3\\lib\\site-packages\\sklearn\\preprocessing\\_discretization.py:200: UserWarning: Bins whose width are too small (i.e., <= 1e-8) in feature 11 are removed. Consider decreasing the number of bins.\n",
      "  warnings.warn('Bins whose width are too small (i.e., <= '\n",
      "C:\\Users\\theoj\\anaconda3\\lib\\site-packages\\sklearn\\preprocessing\\_discretization.py:167: UserWarning: Feature 12 is constant and will be replaced with 0.\n",
      "  warnings.warn(\"Feature %d is constant and will be \"\n",
      "C:\\Users\\theoj\\anaconda3\\lib\\site-packages\\sklearn\\preprocessing\\_data.py:2995: RuntimeWarning: divide by zero encountered in log\n",
      "  loglike = -n_samples / 2 * np.log(x_trans.var())\n",
      "C:\\Users\\theoj\\anaconda3\\lib\\site-packages\\sklearn\\preprocessing\\_data.py:2367: UserWarning: n_quantiles (1000) is greater than the total number of samples (121). n_quantiles is set to n_samples.\n",
      "  warnings.warn(\"n_quantiles (%s) is greater than the total number \"\n",
      "C:\\Users\\theoj\\anaconda3\\lib\\site-packages\\sklearn\\svm\\_base.py:976: ConvergenceWarning: Liblinear failed to converge, increase the number of iterations.\n",
      "  warnings.warn(\"Liblinear failed to converge, increase \"\n"
     ]
    }
   ],
   "source": [
    "performances = {}\n",
    "modeles_a_tester = []\n",
    "classes_de_models_a_tester = algos.keys()\n",
    "best_algorithm = 0\n",
    "best_perf = 0\n",
    "for classe_de_models in classes_de_models_a_tester:\n",
    "    modeles_a_tester.extend(algos[classe_de_models])\n",
    "    \n",
    "for pointeur_vers_algo in modeles_a_tester:\n",
    "    try:\n",
    "        algorithme = pointeur_vers_algo()\n",
    "        doc = algorithme.__doc__\n",
    "        name = doc[:min(doc.find(\":\"), 25)].strip()\n",
    "        print (name)\n",
    "        algorithme.fit(X_train, y_train)\n",
    "        performance = algorithme.score(X_test, y_test)\n",
    "        print (performance)\n",
    "        if performance >  best_perf:\n",
    "            best_algorithm = algorithme\n",
    "            best_perf = performance\n",
    "            \n",
    "        if 0<performance and performance<1:\n",
    "            performances[name] = [performance]\n",
    "    except Exception as e:\n",
    "        if \"label\" in str(e): print (\"Algo de classification\")\n",
    "        else                : print (str(e)[:50])\n",
    "    print (\"=\"*30)"
   ]
  },
  {
   "cell_type": "code",
   "execution_count": 42,
   "metadata": {},
   "outputs": [
    {
     "data": {
      "text/plain": [
       "{'Bayesian ARD regression.': [0.37751436543421935],\n",
       " 'Bayesian ridge regression': [0.3316295105673228],\n",
       " 'Elastic Net model with it': [0.36182556131138677],\n",
       " 'Least Angle Regression mo': [0.27858301522061546],\n",
       " 'Cross-validated Least Ang': [0.37757721127806343],\n",
       " 'Lasso linear model with i': [0.36296656762743895],\n",
       " 'Cross-validated Lasso, us': [0.3646896911476094],\n",
       " 'Lasso model fit with Lars': [0.350380946195733],\n",
       " 'Ordinary least squar': [0.36096271917424816],\n",
       " 'Logistic Regression': [0.7868852459016393],\n",
       " 'Logistic Regression CV (a': [0.7868852459016393],\n",
       " 'Orthogonal Matching Pursu': [0.35732563219330427],\n",
       " 'Cross-validated Orthogona': [0.35732563219330427],\n",
       " 'Passive Aggressive Classi': [0.6885245901639344],\n",
       " 'Perceptron\\n\\n    Read more': [0.7377049180327869],\n",
       " 'Generalized Linear Model': [0.29369188335025576],\n",
       " 'Linear least squares with': [0.3570298001060114],\n",
       " 'Ridge regression with bui': [0.34020037966659933],\n",
       " 'Classifier using Ridge re': [0.7704918032786885],\n",
       " 'Ridge classifier with bui': [0.7704918032786885],\n",
       " 'Linear classifiers (SVM,': [0.7213114754098361],\n",
       " 'Linear model fitted by mi': [0.3297403893287101],\n",
       " 'Theil-Sen Estimator': [0.3799138900999436],\n",
       " 'Linear Support Vector Cla': [0.7540983606557377],\n",
       " 'Nu-Support Vector Classif': [0.7049180327868853],\n",
       " 'Nu Support Vector Regress': [0.103555774235643],\n",
       " 'C-Support Vector Classifi': [0.6885245901639344],\n",
       " 'Epsilon-Support Vector Re': [0.10247214823331341]}"
      ]
     },
     "execution_count": 42,
     "metadata": {},
     "output_type": "execute_result"
    }
   ],
   "source": [
    "performances"
   ]
  },
  {
   "cell_type": "code",
   "execution_count": 43,
   "metadata": {},
   "outputs": [
    {
     "data": {
      "text/plain": [
       "(LogisticRegression(), 0.7868852459016393)"
      ]
     },
     "execution_count": 43,
     "metadata": {},
     "output_type": "execute_result"
    }
   ],
   "source": [
    "best_algorithm, best_perf"
   ]
  },
  {
   "cell_type": "code",
   "execution_count": 46,
   "metadata": {},
   "outputs": [
    {
     "name": "stdout",
     "output_type": "stream",
     "text": [
      "The best model is the LogisticRegression() with a score of 0.7868852459016393.\n"
     ]
    }
   ],
   "source": [
    "print(f\"The best model is the {best_algorithm} with a score of {best_perf}.\")"
   ]
  }
 ],
 "metadata": {
  "colab": {
   "provenance": []
  },
  "kernelspec": {
   "display_name": "Python 3",
   "language": "python",
   "name": "python3"
  },
  "language_info": {
   "codemirror_mode": {
    "name": "ipython",
    "version": 3
   },
   "file_extension": ".py",
   "mimetype": "text/x-python",
   "name": "python",
   "nbconvert_exporter": "python",
   "pygments_lexer": "ipython3",
   "version": "3.8.5"
  }
 },
 "nbformat": 4,
 "nbformat_minor": 1
}
